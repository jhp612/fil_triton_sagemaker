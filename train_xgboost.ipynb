{
 "cells": [
  {
   "cell_type": "code",
   "execution_count": 1,
   "id": "e4be97ee-5400-4531-9f9a-da68abdd8abf",
   "metadata": {},
   "outputs": [
    {
     "name": "stdout",
     "output_type": "stream",
     "text": [
      "Looking in indexes: https://pypi.org/simple, https://pip.repos.neuron.amazonaws.com, https://pypi.ngc.nvidia.com\n",
      "Requirement already satisfied: xgboost==1.5.2 in /home/ec2-user/anaconda3/envs/python3/lib/python3.8/site-packages (1.5.2)\n",
      "Requirement already satisfied: scipy in /home/ec2-user/anaconda3/envs/python3/lib/python3.8/site-packages (from xgboost==1.5.2) (1.5.3)\n",
      "Requirement already satisfied: numpy in /home/ec2-user/anaconda3/envs/python3/lib/python3.8/site-packages (from xgboost==1.5.2) (1.20.3)\n"
     ]
    }
   ],
   "source": [
    "!pip install xgboost==1.5.2"
   ]
  },
  {
   "cell_type": "code",
   "execution_count": 2,
   "id": "ebd187dd-bb40-48ac-b97b-9f3697618075",
   "metadata": {},
   "outputs": [],
   "source": [
    "import pandas as pd"
   ]
  },
  {
   "cell_type": "code",
   "execution_count": 3,
   "id": "577e25f1-3a5d-4851-8e36-5753adebb3b6",
   "metadata": {},
   "outputs": [],
   "source": [
    "X_train = pd.read_parquet('X_train.parquet')"
   ]
  },
  {
   "cell_type": "code",
   "execution_count": 4,
   "id": "122616ca-6e55-4524-aed2-30d3537d7825",
   "metadata": {},
   "outputs": [],
   "source": [
    "X_test = pd.read_parquet('X_test.parquet')"
   ]
  },
  {
   "cell_type": "code",
   "execution_count": 5,
   "id": "5bb3c6d4-92b7-4372-bf54-3b607a1e8fb7",
   "metadata": {},
   "outputs": [],
   "source": [
    "y_train = X_train['label']\n",
    "y_test = X_test['label']\n",
    "X_train = X_train[X_train.columns.difference(['label'])]\n",
    "X_test = X_test[X_test.columns.difference(['label'])]"
   ]
  },
  {
   "cell_type": "code",
   "execution_count": 6,
   "id": "a9ad5671-8b1b-45bb-b63a-d625c7c45bbc",
   "metadata": {},
   "outputs": [],
   "source": [
    "import xgboost as xgb"
   ]
  },
  {
   "cell_type": "code",
   "execution_count": 7,
   "id": "90ba9801-3944-4e6b-986d-e1903be10516",
   "metadata": {},
   "outputs": [
    {
     "data": {
      "text/plain": [
       "'1.5.2'"
      ]
     },
     "execution_count": 7,
     "metadata": {},
     "output_type": "execute_result"
    }
   ],
   "source": [
    "xgb.__version__"
   ]
  },
  {
   "cell_type": "code",
   "execution_count": 8,
   "id": "e41232ae-e0d8-4050-a2bb-ff1e4e8650d5",
   "metadata": {},
   "outputs": [],
   "source": [
    "dtrain = xgb.DMatrix(\n",
    "        X_train,\n",
    "        y_train )"
   ]
  },
  {
   "cell_type": "code",
   "execution_count": 9,
   "id": "1ae07767-e612-403f-b9fd-c6f04712cb21",
   "metadata": {},
   "outputs": [],
   "source": [
    "dtest = xgb.DMatrix(\n",
    "        X_test,\n",
    "        y_test    )"
   ]
  },
  {
   "cell_type": "code",
   "execution_count": 10,
   "id": "4dc354cd-13d6-41d9-bc36-bc68a06a5028",
   "metadata": {},
   "outputs": [],
   "source": [
    "xgb_params = {\n",
    "    'max_depth':         8,\n",
    "    'tree_method':       'gpu_hist',\n",
    "    'objective':         'binary:logistic',\n",
    "    'eval_metric':       'aucpr',\n",
    "    'predictor':         'gpu_predictor',\n",
    "}"
   ]
  },
  {
   "cell_type": "code",
   "execution_count": 11,
   "id": "7cecfb9a-d35a-406c-b4bb-05a84e9b2b42",
   "metadata": {},
   "outputs": [],
   "source": [
    "n_rounds = 2000"
   ]
  },
  {
   "cell_type": "code",
   "execution_count": 12,
   "id": "184cdcce-6d3e-4ad9-a015-75ab6a689fa4",
   "metadata": {},
   "outputs": [],
   "source": [
    "import time"
   ]
  },
  {
   "cell_type": "code",
   "execution_count": 13,
   "id": "68b30c3c-23e0-4106-b42e-6a1478ee1d37",
   "metadata": {},
   "outputs": [
    {
     "name": "stdout",
     "output_type": "stream",
     "text": [
      "Training Time 129.1342523097992 seconds\n"
     ]
    }
   ],
   "source": [
    "start = time.time()\n",
    "model = xgb.train(params=xgb_params, \n",
    "                       dtrain=dtrain, \n",
    "                       num_boost_round=n_rounds)\n",
    "print(\"Training Time\", time.time()-start, \"seconds\")"
   ]
  },
  {
   "cell_type": "code",
   "execution_count": 14,
   "id": "61d4da1c-0473-4cb1-a22c-979688fae491",
   "metadata": {},
   "outputs": [
    {
     "data": {
      "text/plain": [
       "0.0012174113515407406"
      ]
     },
     "execution_count": 14,
     "metadata": {},
     "output_type": "execute_result"
    }
   ],
   "source": [
    "# aucpr baseline\n",
    "y_test.sum()/len(y_test) "
   ]
  },
  {
   "cell_type": "code",
   "execution_count": 19,
   "id": "4c20ea8f-285d-4489-8d2c-5120a4b3ce39",
   "metadata": {},
   "outputs": [],
   "source": [
    "y_score = model.predict(dtest)"
   ]
  },
  {
   "cell_type": "code",
   "execution_count": 20,
   "id": "1b8bf572-bd75-4e34-a82a-5dbfc1d1f3cc",
   "metadata": {},
   "outputs": [
    {
     "name": "stdout",
     "output_type": "stream",
     "text": [
      "Test Area Under Precision Recall Curve:  0.8685\n"
     ]
    }
   ],
   "source": [
    "from sklearn.metrics import average_precision_score\n",
    "\n",
    "y_true = y_test.values\n",
    "ap = average_precision_score(y_true, y_score)\n",
    "print(f'Test Area Under Precision Recall Curve: {ap: 0.4f}')"
   ]
  },
  {
   "cell_type": "code",
   "execution_count": 21,
   "id": "ed2e8f70-d99f-4ddc-874d-c1f6c5ac7ec8",
   "metadata": {},
   "outputs": [],
   "source": [
    "model_path = \"./xgboost.json\""
   ]
  },
  {
   "cell_type": "code",
   "execution_count": 22,
   "id": "d311f996-fde3-4f07-a536-3c613dc449ab",
   "metadata": {},
   "outputs": [],
   "source": [
    "model.save_model(model_path)"
   ]
  },
  {
   "cell_type": "code",
   "execution_count": 23,
   "id": "f35b8e76-3268-4c20-be0d-4c61b00991d7",
   "metadata": {},
   "outputs": [
    {
     "data": {
      "text/plain": [
       "{'status': 'ok', 'restart': True}"
      ]
     },
     "execution_count": 23,
     "metadata": {},
     "output_type": "execute_result"
    }
   ],
   "source": [
    "import IPython\n",
    "\n",
    "IPython.Application.instance().kernel.do_shutdown(True)"
   ]
  },
  {
   "cell_type": "code",
   "execution_count": null,
   "id": "45eb52e3-62bc-4aa9-b583-e87310dec835",
   "metadata": {},
   "outputs": [],
   "source": []
  }
 ],
 "metadata": {
  "kernelspec": {
   "display_name": "Python 3 (ipykernel)",
   "language": "python",
   "name": "python3"
  },
  "language_info": {
   "codemirror_mode": {
    "name": "ipython",
    "version": 3
   },
   "file_extension": ".py",
   "mimetype": "text/x-python",
   "name": "python",
   "nbconvert_exporter": "python",
   "pygments_lexer": "ipython3",
   "version": "3.8.10"
  }
 },
 "nbformat": 4,
 "nbformat_minor": 5
}
