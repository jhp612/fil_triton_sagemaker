{
 "cells": [
  {
   "cell_type": "code",
   "execution_count": 1,
   "id": "6a411dbb-def5-45b3-92d8-49dd366cf331",
   "metadata": {},
   "outputs": [
    {
     "name": "stdout",
     "output_type": "stream",
     "text": [
      "\u001b[33mWARNING: Running pip as the 'root' user can result in broken permissions and conflicting behaviour with the system package manager. It is recommended to use a virtual environment instead: https://pip.pypa.io/warnings/venv\u001b[0m\u001b[33m\n",
      "\u001b[0m"
     ]
    }
   ],
   "source": [
    "!pip install -q kaggle"
   ]
  },
  {
   "cell_type": "markdown",
   "id": "f95bf87c-c53a-49c6-b9f2-a18789666010",
   "metadata": {},
   "source": [
    "## Get Data"
   ]
  },
  {
   "cell_type": "markdown",
   "id": "13da0832-f57e-4916-a7e6-e1e5746eef74",
   "metadata": {},
   "source": [
    "For this example, we use a [synthetic credit card transactions dataset](https://arxiv.org/abs/1910.03033) available on [Kaggle](https://www.kaggle.com/datasets/ealtman2019/credit-card-transactions). You can either directly download the dataset from this [Kaggle link](https://www.kaggle.com/datasets/ealtman2019/credit-card-transactions) and then upload it to your SageMaker notebook instance. Or you may fetch the data from Kaggle command line client using the following commands.\n",
    "\n",
    "**NOTE:** You will need to make sure that your Kaggle credentials are [available](https://github.com/Kaggle/kaggle-api#api-credentials) either through a kaggle.json file or via environment variables."
   ]
  },
  {
   "cell_type": "code",
   "execution_count": 2,
   "id": "19cf2ede-50a8-4d96-92dd-b7f83aefff19",
   "metadata": {},
   "outputs": [
    {
     "name": "stdout",
     "output_type": "stream",
     "text": [
      "Traceback (most recent call last):\n",
      "  File \"/opt/conda/envs/rapids/bin/kaggle\", line 5, in <module>\n",
      "    from kaggle.cli import main\n",
      "  File \"/opt/conda/envs/rapids/lib/python3.8/site-packages/kaggle/__init__.py\", line 23, in <module>\n",
      "    api.authenticate()\n",
      "  File \"/opt/conda/envs/rapids/lib/python3.8/site-packages/kaggle/api/kaggle_api_extended.py\", line 164, in authenticate\n",
      "    raise IOError('Could not find {}. Make sure it\\'s located in'\n",
      "OSError: Could not find kaggle.json. Make sure it's located in /root/.kaggle. Or use the environment method.\n"
     ]
    }
   ],
   "source": [
    "!kaggle datasets download -d ealtman2019/credit-card-transactions"
   ]
  },
  {
   "cell_type": "code",
   "execution_count": 3,
   "id": "7a53f17b-478a-4fe9-b0cb-1e5c572f60d8",
   "metadata": {},
   "outputs": [
    {
     "name": "stdout",
     "output_type": "stream",
     "text": [
      "Archive:  credit-card-transactions.zip\n"
     ]
    }
   ],
   "source": [
    "!unzip -u credit-card-transactions.zip"
   ]
  },
  {
   "cell_type": "markdown",
   "id": "b9266c45-3fe2-4a3f-9e0d-9ff6963ffc4b",
   "metadata": {},
   "source": [
    "## Data Preprocessing"
   ]
  },
  {
   "cell_type": "code",
   "execution_count": 66,
   "id": "9c20333a-b7e4-4533-814d-28b9d8d7b251",
   "metadata": {},
   "outputs": [],
   "source": [
    "import cudf\n",
    "import cuml\n",
    "from cuml.preprocessing import LabelEncoder\n",
    "import numpy as np\n",
    "import pickle\n",
    "import os"
   ]
  },
  {
   "cell_type": "code",
   "execution_count": 5,
   "id": "1fd98fe4-561a-4fc2-a8f4-814ff10f8c53",
   "metadata": {},
   "outputs": [],
   "source": [
    "data_path = './'"
   ]
  },
  {
   "cell_type": "code",
   "execution_count": 6,
   "id": "9587c59a-4392-44c9-84eb-d0c6cf1ebfed",
   "metadata": {},
   "outputs": [],
   "source": [
    "data_csv = 'credit_card_transactions-ibm_v2.csv'"
   ]
  },
  {
   "cell_type": "code",
   "execution_count": 7,
   "id": "93b79386-bd04-437a-a94d-3f581aa0fc44",
   "metadata": {},
   "outputs": [],
   "source": [
    "data = cudf.read_csv(os.path.join(data_path, data_csv))"
   ]
  },
  {
   "cell_type": "code",
   "execution_count": 8,
   "id": "5d46aa53-80de-415c-a469-c541778fd3e4",
   "metadata": {},
   "outputs": [
    {
     "data": {
      "text/html": [
       "<div>\n",
       "<style scoped>\n",
       "    .dataframe tbody tr th:only-of-type {\n",
       "        vertical-align: middle;\n",
       "    }\n",
       "\n",
       "    .dataframe tbody tr th {\n",
       "        vertical-align: top;\n",
       "    }\n",
       "\n",
       "    .dataframe thead th {\n",
       "        text-align: right;\n",
       "    }\n",
       "</style>\n",
       "<table border=\"1\" class=\"dataframe\">\n",
       "  <thead>\n",
       "    <tr style=\"text-align: right;\">\n",
       "      <th></th>\n",
       "      <th>User</th>\n",
       "      <th>Card</th>\n",
       "      <th>Year</th>\n",
       "      <th>Month</th>\n",
       "      <th>Day</th>\n",
       "      <th>Time</th>\n",
       "      <th>Amount</th>\n",
       "      <th>Use Chip</th>\n",
       "      <th>Merchant Name</th>\n",
       "      <th>Merchant City</th>\n",
       "      <th>Merchant State</th>\n",
       "      <th>Zip</th>\n",
       "      <th>MCC</th>\n",
       "      <th>Errors?</th>\n",
       "      <th>Is Fraud?</th>\n",
       "    </tr>\n",
       "  </thead>\n",
       "  <tbody>\n",
       "    <tr>\n",
       "      <th>0</th>\n",
       "      <td>0</td>\n",
       "      <td>0</td>\n",
       "      <td>2002</td>\n",
       "      <td>9</td>\n",
       "      <td>1</td>\n",
       "      <td>06:21</td>\n",
       "      <td>$134.09</td>\n",
       "      <td>Swipe Transaction</td>\n",
       "      <td>3527213246127876953</td>\n",
       "      <td>La Verne</td>\n",
       "      <td>CA</td>\n",
       "      <td>91750.0</td>\n",
       "      <td>5300</td>\n",
       "      <td>&lt;NA&gt;</td>\n",
       "      <td>No</td>\n",
       "    </tr>\n",
       "    <tr>\n",
       "      <th>1</th>\n",
       "      <td>0</td>\n",
       "      <td>0</td>\n",
       "      <td>2002</td>\n",
       "      <td>9</td>\n",
       "      <td>1</td>\n",
       "      <td>06:42</td>\n",
       "      <td>$38.48</td>\n",
       "      <td>Swipe Transaction</td>\n",
       "      <td>-727612092139916043</td>\n",
       "      <td>Monterey Park</td>\n",
       "      <td>CA</td>\n",
       "      <td>91754.0</td>\n",
       "      <td>5411</td>\n",
       "      <td>&lt;NA&gt;</td>\n",
       "      <td>No</td>\n",
       "    </tr>\n",
       "    <tr>\n",
       "      <th>2</th>\n",
       "      <td>0</td>\n",
       "      <td>0</td>\n",
       "      <td>2002</td>\n",
       "      <td>9</td>\n",
       "      <td>2</td>\n",
       "      <td>06:22</td>\n",
       "      <td>$120.34</td>\n",
       "      <td>Swipe Transaction</td>\n",
       "      <td>-727612092139916043</td>\n",
       "      <td>Monterey Park</td>\n",
       "      <td>CA</td>\n",
       "      <td>91754.0</td>\n",
       "      <td>5411</td>\n",
       "      <td>&lt;NA&gt;</td>\n",
       "      <td>No</td>\n",
       "    </tr>\n",
       "    <tr>\n",
       "      <th>3</th>\n",
       "      <td>0</td>\n",
       "      <td>0</td>\n",
       "      <td>2002</td>\n",
       "      <td>9</td>\n",
       "      <td>2</td>\n",
       "      <td>17:45</td>\n",
       "      <td>$128.95</td>\n",
       "      <td>Swipe Transaction</td>\n",
       "      <td>3414527459579106770</td>\n",
       "      <td>Monterey Park</td>\n",
       "      <td>CA</td>\n",
       "      <td>91754.0</td>\n",
       "      <td>5651</td>\n",
       "      <td>&lt;NA&gt;</td>\n",
       "      <td>No</td>\n",
       "    </tr>\n",
       "    <tr>\n",
       "      <th>4</th>\n",
       "      <td>0</td>\n",
       "      <td>0</td>\n",
       "      <td>2002</td>\n",
       "      <td>9</td>\n",
       "      <td>3</td>\n",
       "      <td>06:23</td>\n",
       "      <td>$104.71</td>\n",
       "      <td>Swipe Transaction</td>\n",
       "      <td>5817218446178736267</td>\n",
       "      <td>La Verne</td>\n",
       "      <td>CA</td>\n",
       "      <td>91750.0</td>\n",
       "      <td>5912</td>\n",
       "      <td>&lt;NA&gt;</td>\n",
       "      <td>No</td>\n",
       "    </tr>\n",
       "  </tbody>\n",
       "</table>\n",
       "</div>"
      ],
      "text/plain": [
       "   User  Card  Year  Month  Day   Time   Amount           Use Chip  \\\n",
       "0     0     0  2002      9    1  06:21  $134.09  Swipe Transaction   \n",
       "1     0     0  2002      9    1  06:42   $38.48  Swipe Transaction   \n",
       "2     0     0  2002      9    2  06:22  $120.34  Swipe Transaction   \n",
       "3     0     0  2002      9    2  17:45  $128.95  Swipe Transaction   \n",
       "4     0     0  2002      9    3  06:23  $104.71  Swipe Transaction   \n",
       "\n",
       "         Merchant Name  Merchant City Merchant State      Zip   MCC Errors?  \\\n",
       "0  3527213246127876953       La Verne             CA  91750.0  5300    <NA>   \n",
       "1  -727612092139916043  Monterey Park             CA  91754.0  5411    <NA>   \n",
       "2  -727612092139916043  Monterey Park             CA  91754.0  5411    <NA>   \n",
       "3  3414527459579106770  Monterey Park             CA  91754.0  5651    <NA>   \n",
       "4  5817218446178736267       La Verne             CA  91750.0  5912    <NA>   \n",
       "\n",
       "  Is Fraud?  \n",
       "0        No  \n",
       "1        No  \n",
       "2        No  \n",
       "3        No  \n",
       "4        No  "
      ]
     },
     "execution_count": 8,
     "metadata": {},
     "output_type": "execute_result"
    }
   ],
   "source": [
    "data.head()"
   ]
  },
  {
   "cell_type": "code",
   "execution_count": 9,
   "id": "f9f725c1-0b87-4548-8964-476586b44895",
   "metadata": {},
   "outputs": [
    {
     "data": {
      "text/plain": [
       "(24386900, 15)"
      ]
     },
     "execution_count": 9,
     "metadata": {},
     "output_type": "execute_result"
    }
   ],
   "source": [
    "data.shape"
   ]
  },
  {
   "cell_type": "code",
   "execution_count": 10,
   "id": "a36dc958-8c70-4fbc-9abe-7da9bbbe3ae5",
   "metadata": {},
   "outputs": [],
   "source": [
    "data['Zip'] = data['Zip'].astype('object')\n",
    "data['MCC'] = data['MCC'].astype('object')\n",
    "data[\"Merchant Name\"] = data[\"Merchant Name\"].astype(\"object\")"
   ]
  },
  {
   "cell_type": "code",
   "execution_count": 11,
   "id": "ffc2975e-fbda-4784-a3cd-a3341dfad038",
   "metadata": {},
   "outputs": [],
   "source": [
    "SEED = 42\n",
    "data = data.sample(frac=0.6, random_state=SEED)\n",
    "data = data.reset_index(drop=True)"
   ]
  },
  {
   "cell_type": "code",
   "execution_count": 12,
   "id": "beac72b7-dbf9-4b46-8de9-523498a57ca4",
   "metadata": {},
   "outputs": [
    {
     "data": {
      "text/plain": [
       "(14632140, 15)"
      ]
     },
     "execution_count": 12,
     "metadata": {},
     "output_type": "execute_result"
    }
   ],
   "source": [
    "data.shape"
   ]
  },
  {
   "cell_type": "markdown",
   "id": "536a500f-c5ab-41ce-b366-affdbcedc738",
   "metadata": {},
   "source": [
    "### Encode labels\n"
   ]
  },
  {
   "cell_type": "code",
   "execution_count": 13,
   "id": "fa2d84d6-5bd9-4a22-81a9-a2ee74fabc20",
   "metadata": {},
   "outputs": [],
   "source": [
    "y = data['Is Fraud?']\n",
    "data.drop(columns=['Is Fraud?'], inplace=True)\n",
    "y = (y == \"Yes\").astype(int)"
   ]
  },
  {
   "cell_type": "markdown",
   "id": "077242c1-49fd-4d60-8153-bb0cd83b66f0",
   "metadata": {},
   "source": [
    "### Save subset for inference"
   ]
  },
  {
   "cell_type": "code",
   "execution_count": 14,
   "id": "4e7e1fce-c666-4cf9-b8ad-53a38a33a35a",
   "metadata": {},
   "outputs": [],
   "source": [
    "data_infer = data.sample(n=100, random_state=SEED).reset_index(drop=True).astype(str)\n",
    "data_infer.to_csv('data_infer.csv', index=False)"
   ]
  },
  {
   "cell_type": "markdown",
   "id": "0b8b827a-c9ee-4d12-baa8-a5d8ebb9932d",
   "metadata": {},
   "source": [
    "### Handle Missing Values"
   ]
  },
  {
   "cell_type": "code",
   "execution_count": 15,
   "id": "5e47b875-622f-485f-9620-525972784a81",
   "metadata": {},
   "outputs": [
    {
     "data": {
      "text/plain": [
       "User               0.000000\n",
       "Card               0.000000\n",
       "Year               0.000000\n",
       "Month              0.000000\n",
       "Day                0.000000\n",
       "Time               0.000000\n",
       "Amount             0.000000\n",
       "Use Chip           0.000000\n",
       "Merchant Name      0.000000\n",
       "Merchant City      0.000000\n",
       "Merchant State    11.160726\n",
       "Zip               11.806721\n",
       "MCC                0.000000\n",
       "Errors?           98.408162\n",
       "dtype: float64"
      ]
     },
     "execution_count": 15,
     "metadata": {},
     "output_type": "execute_result"
    }
   ],
   "source": [
    "data.isna().sum()/len(data) * 100"
   ]
  },
  {
   "cell_type": "code",
   "execution_count": 16,
   "id": "682fab0d-b661-4f6d-9eac-4fd1e8d8147d",
   "metadata": {},
   "outputs": [],
   "source": [
    "data.loc[data[\"Merchant City\"]==\"ONLINE\", \"Merchant State\"] = \"ONLINE\" \n",
    "data.loc[data[\"Merchant City\"]==\"ONLINE\", \"Zip\"] = \"ONLINE\" "
   ]
  },
  {
   "cell_type": "code",
   "execution_count": 17,
   "id": "6549fa91-e37f-4e44-bd8d-9378de6db55c",
   "metadata": {},
   "outputs": [],
   "source": [
    "data['Errors?'] = data['Errors?'].notna().astype(int)"
   ]
  },
  {
   "cell_type": "code",
   "execution_count": 18,
   "id": "1c85a09d-3fed-487c-a41b-e462d1971b04",
   "metadata": {},
   "outputs": [],
   "source": [
    "us_states_plus_online = ['AK', 'AL', 'AR', 'AZ', 'CA', 'CO', 'CT', 'DC', 'DE', 'FL', 'GA',\n",
    "           'HI', 'IA', 'ID', 'IL', 'IN', 'KS', 'KY', 'LA', 'MA', 'MD', 'ME',\n",
    "           'MI', 'MN', 'MO', 'MS', 'MT', 'NC', 'ND', 'NE', 'NH', 'NJ', 'NM',\n",
    "           'NV', 'NY', 'OH', 'OK', 'OR', 'PA', 'RI', 'SC', 'SD', 'TN', 'TX',\n",
    "           'UT', 'VA', 'VT', 'WA', 'WI', 'WV', 'WY', 'ONLINE']\n",
    "\n",
    "data.loc[~data[\"Merchant State\"].isin(us_states_plus_online), \"Zip\"] = \"FOREIGN\""
   ]
  },
  {
   "cell_type": "markdown",
   "id": "b3e4fe68-0a2e-42e9-b571-446b5dddfaac",
   "metadata": {},
   "source": [
    "### Handle Amount and Time"
   ]
  },
  {
   "cell_type": "code",
   "execution_count": 19,
   "id": "1f3b994b-4668-4ac0-9dd9-a406b7817343",
   "metadata": {},
   "outputs": [],
   "source": [
    "data['Amount'] = data['Amount'].str.slice(1).astype('float32')\n",
    "data['Hour'] = data['Time'].str.slice(stop=2).astype('int64')\n",
    "data['Minute'] = data['Time'].str.slice(start=3).astype('int64')\n",
    "data.drop(columns=['Time'], inplace=True)"
   ]
  },
  {
   "cell_type": "markdown",
   "id": "e11dc3e4-4103-4940-bc9f-6f46db498aca",
   "metadata": {},
   "source": [
    "###  Train Test Split"
   ]
  },
  {
   "cell_type": "code",
   "execution_count": 20,
   "id": "5353c4b4-c5a3-416d-a442-16b51e44a57d",
   "metadata": {},
   "outputs": [],
   "source": [
    "from cuml.model_selection import train_test_split\n",
    "X_train, X_test, y_train, y_test = train_test_split(data, y, test_size=0.3, random_state=SEED, stratify=y)"
   ]
  },
  {
   "cell_type": "code",
   "execution_count": 21,
   "id": "bb313a96-9484-49be-893b-7a386cb6c06c",
   "metadata": {},
   "outputs": [
    {
     "data": {
      "text/plain": [
       "410"
      ]
     },
     "execution_count": 21,
     "metadata": {},
     "output_type": "execute_result"
    }
   ],
   "source": [
    "# Free up some room on the GPU by explicitly deleting dataframes\n",
    "import gc\n",
    "del data\n",
    "del y\n",
    "gc.collect()"
   ]
  },
  {
   "cell_type": "markdown",
   "id": "8d2ec777-f9c6-4b16-8afc-964b396bb420",
   "metadata": {},
   "source": [
    "### Encoding Categorical Columns"
   ]
  },
  {
   "cell_type": "code",
   "execution_count": 22,
   "id": "cc5004cf-1635-4eef-bd59-14b98aff4f72",
   "metadata": {},
   "outputs": [],
   "source": [
    "categorial_columns = ['Zip', 'MCC', 'Merchant Name', 'Use Chip', 'Merchant City', 'Merchant State']\n",
    "encoders = {}\n",
    "\n",
    "for col in categorial_columns:\n",
    "    unique_values = X_train[col].unique().values_host\n",
    "    X_test.loc[~X_test[col].isin(unique_values), col] = 'UNKNOWN'\n",
    "    unique_values = np.append(unique_values, ['UNKNOWN'])\n",
    "    # convert to cudf series\n",
    "    unique_values = cudf.Series(unique_values)\n",
    "    le = LabelEncoder().fit(unique_values)\n",
    "    X_train[col] = le.transform(X_train[col])\n",
    "    X_test[col] = le.transform(X_test[col])\n",
    "    encoders[col] = le.classes_.values_host"
   ]
  },
  {
   "cell_type": "code",
   "execution_count": 23,
   "id": "9f14d707-c23a-4efe-98ab-a37ebd4476b5",
   "metadata": {},
   "outputs": [],
   "source": [
    "with open('label_encoders.pkl', 'wb') as f:\n",
    "    pickle.dump(encoders, f)"
   ]
  },
  {
   "cell_type": "code",
   "execution_count": 24,
   "id": "d0abce0a-c28c-4596-904a-236e4afefa00",
   "metadata": {},
   "outputs": [],
   "source": [
    "X_train = X_train.astype('float32')\n",
    "X_test = X_test.astype('float32')"
   ]
  },
  {
   "cell_type": "markdown",
   "id": "993af653-b0e4-4e00-a7a0-e82888357d35",
   "metadata": {},
   "source": [
    "## Train XGBoost"
   ]
  },
  {
   "cell_type": "code",
   "execution_count": 25,
   "id": "a2f2ec92-d9a0-4eea-be7f-fd00a85d9322",
   "metadata": {},
   "outputs": [],
   "source": [
    "import xgboost as xgb\n",
    "\n",
    "dtrain = xgb.DMatrix(\n",
    "        X_train,\n",
    "        y_train )\n",
    "\n",
    "dtest = xgb.DMatrix(\n",
    "        X_test,\n",
    "        y_test    )\n",
    "\n",
    "xgb_params = {\n",
    "    'max_depth':         8,\n",
    "    'tree_method':       'gpu_hist',\n",
    "    'objective':         'binary:logistic',\n",
    "    'eval_metric':       'aucpr',\n",
    "    'predictor':         'gpu_predictor',\n",
    "}\n",
    "n_rounds = 2000"
   ]
  },
  {
   "cell_type": "code",
   "execution_count": 26,
   "id": "b362dfe7-e7c2-4b78-802b-6ccba10284ba",
   "metadata": {},
   "outputs": [
    {
     "name": "stdout",
     "output_type": "stream",
     "text": [
      "Training Time 173.77175045013428 seconds\n"
     ]
    }
   ],
   "source": [
    "import time\n",
    "start = time.time()\n",
    "model = xgb.train(params=xgb_params, \n",
    "                       dtrain=dtrain, \n",
    "                       num_boost_round=n_rounds)\n",
    "print(\"Training Time\", time.time()-start, \"seconds\")"
   ]
  },
  {
   "cell_type": "code",
   "execution_count": 27,
   "id": "44bcd480-f38c-42ed-9af0-fd61a898d38b",
   "metadata": {},
   "outputs": [],
   "source": [
    "y_score = model.predict(dtest)\n",
    "threshold = 0.5\n",
    "y_pred = (y_score >= 0.5).astype(int)"
   ]
  },
  {
   "cell_type": "code",
   "execution_count": 28,
   "id": "1d832ae9-0ee2-402e-923f-4168348e4b25",
   "metadata": {},
   "outputs": [
    {
     "name": "stdout",
     "output_type": "stream",
     "text": [
      "Test F1-Score:  0.8588\n"
     ]
    }
   ],
   "source": [
    "from sklearn.metrics import f1_score\n",
    "\n",
    "y_true = y_test.values_host\n",
    "f1 = f1_score(y_true, y_pred)\n",
    "print(f'Test F1-Score: {f1: 0.4f}')"
   ]
  },
  {
   "cell_type": "markdown",
   "id": "4d392321-0126-4cdc-9f3c-1e6e3bba48ba",
   "metadata": {},
   "source": [
    "### Save Trained Model"
   ]
  },
  {
   "cell_type": "code",
   "execution_count": 60,
   "id": "a28af40d-6e19-4cb0-a0aa-745480360fb9",
   "metadata": {},
   "outputs": [],
   "source": [
    "model_path = \"./xgboost.json\""
   ]
  },
  {
   "cell_type": "code",
   "execution_count": 61,
   "id": "24463695-78fa-448e-b505-33eabd19121d",
   "metadata": {},
   "outputs": [],
   "source": [
    "model.save_model(model_path)"
   ]
  },
  {
   "cell_type": "markdown",
   "id": "1729f938-ae1e-4917-9b46-8c1ce049e568",
   "metadata": {},
   "source": [
    "## CPU GPU FIL Benchmarks"
   ]
  },
  {
   "cell_type": "code",
   "execution_count": 82,
   "id": "91c6adb3-5689-4c44-a114-dd10c30a154b",
   "metadata": {},
   "outputs": [
    {
     "name": "stdout",
     "output_type": "stream",
     "text": [
      "CPU times: user 25 ms, sys: 7.96 ms, total: 33 ms\n",
      "Wall time: 63.6 ms\n"
     ]
    }
   ],
   "source": [
    "%%time\n",
    "model.set_param({\"predictor\": \"cpu_predictor\"})\n",
    "cpu_preds = model.predict(dtrain)"
   ]
  },
  {
   "cell_type": "code",
   "execution_count": 83,
   "id": "046b78d6-1bc9-4ab8-9d17-e4c2ccb9ede6",
   "metadata": {},
   "outputs": [
    {
     "name": "stdout",
     "output_type": "stream",
     "text": [
      "CPU times: user 18.2 ms, sys: 3.9 ms, total: 22.1 ms\n",
      "Wall time: 21.5 ms\n"
     ]
    }
   ],
   "source": [
    "%%time\n",
    "model.set_param({\"predictor\": \"gpu_predictor\"})\n",
    "gpu_preds = model.predict(dtrain)"
   ]
  },
  {
   "cell_type": "markdown",
   "id": "788fbd69-9013-48e0-9639-9d0426ff3f0b",
   "metadata": {},
   "source": [
    "###  Prediction using Forest Inference Library (FIL)"
   ]
  },
  {
   "cell_type": "code",
   "execution_count": 76,
   "id": "e107d391-5d1c-4437-9c6b-38971c46c324",
   "metadata": {},
   "outputs": [],
   "source": [
    "# Call FIL inference from cuml and load model and params\n",
    "fil = cuml.ForestInference.load(\n",
    "      filename=model_path,                                    \n",
    "      output_class=True,    \n",
    "      model_type='xgboost_json')"
   ]
  },
  {
   "cell_type": "code",
   "execution_count": 81,
   "id": "029c0fa2-115c-4713-9c31-e2242a6c3eb4",
   "metadata": {},
   "outputs": [
    {
     "name": "stdout",
     "output_type": "stream",
     "text": [
      "CPU times: user 5.57 s, sys: 2.76 s, total: 8.32 s\n",
      "Wall time: 8.44 s\n"
     ]
    }
   ],
   "source": [
    "%%time\n",
    "fil_preds = fil.predict_proba(X_train)"
   ]
  },
  {
   "cell_type": "code",
   "execution_count": 28,
   "id": "6d767eea-59f8-41ad-8b68-0e4952842e69",
   "metadata": {},
   "outputs": [
    {
     "data": {
      "text/plain": [
       "{'status': 'ok', 'restart': True}"
      ]
     },
     "execution_count": 28,
     "metadata": {},
     "output_type": "execute_result"
    }
   ],
   "source": [
    "import IPython\n",
    "\n",
    "IPython.Application.instance().kernel.do_shutdown(True)"
   ]
  }
 ],
 "metadata": {
  "kernelspec": {
   "display_name": "Python 3 (ipykernel)",
   "language": "python",
   "name": "python3"
  },
  "language_info": {
   "codemirror_mode": {
    "name": "ipython",
    "version": 3
   },
   "file_extension": ".py",
   "mimetype": "text/x-python",
   "name": "python",
   "nbconvert_exporter": "python",
   "pygments_lexer": "ipython3",
   "version": "3.8.13"
  }
 },
 "nbformat": 4,
 "nbformat_minor": 5
}
