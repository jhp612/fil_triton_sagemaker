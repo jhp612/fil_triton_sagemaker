{
 "cells": [
  {
   "cell_type": "code",
   "execution_count": 1,
   "id": "3c826eb6-3fbf-4ded-ad7b-68a2baf6bb7c",
   "metadata": {},
   "outputs": [
    {
     "name": "stdout",
     "output_type": "stream",
     "text": [
      "Looking in indexes: https://pypi.org/simple, https://pip.repos.neuron.amazonaws.com, https://pypi.ngc.nvidia.com\n",
      "Requirement already satisfied: nvidia-pyindex in /home/ec2-user/anaconda3/envs/python3/lib/python3.8/site-packages (1.0.9)\n",
      "Looking in indexes: https://pypi.org/simple, https://pip.repos.neuron.amazonaws.com, https://pypi.ngc.nvidia.com\n",
      "Requirement already satisfied: tritonclient[http] in /home/ec2-user/anaconda3/envs/python3/lib/python3.8/site-packages (2.22.4)\n",
      "Requirement already satisfied: numpy>=1.19.1 in /home/ec2-user/anaconda3/envs/python3/lib/python3.8/site-packages (from tritonclient[http]) (1.20.3)\n",
      "Requirement already satisfied: python-rapidjson>=0.9.1 in /home/ec2-user/anaconda3/envs/python3/lib/python3.8/site-packages (from tritonclient[http]) (1.6)\n",
      "Requirement already satisfied: geventhttpclient>=1.4.4 in /home/ec2-user/anaconda3/envs/python3/lib/python3.8/site-packages (from tritonclient[http]) (1.5.4)\n",
      "Requirement already satisfied: brotli in /home/ec2-user/anaconda3/envs/python3/lib/python3.8/site-packages (from geventhttpclient>=1.4.4->tritonclient[http]) (1.0.9)\n",
      "Requirement already satisfied: six in /home/ec2-user/anaconda3/envs/python3/lib/python3.8/site-packages (from geventhttpclient>=1.4.4->tritonclient[http]) (1.16.0)\n",
      "Requirement already satisfied: certifi in /home/ec2-user/anaconda3/envs/python3/lib/python3.8/site-packages (from geventhttpclient>=1.4.4->tritonclient[http]) (2021.10.8)\n",
      "Requirement already satisfied: gevent>=0.13 in /home/ec2-user/anaconda3/envs/python3/lib/python3.8/site-packages (from geventhttpclient>=1.4.4->tritonclient[http]) (21.8.0)\n",
      "Requirement already satisfied: zope.event in /home/ec2-user/anaconda3/envs/python3/lib/python3.8/site-packages (from gevent>=0.13->geventhttpclient>=1.4.4->tritonclient[http]) (4.5.0)\n",
      "Requirement already satisfied: zope.interface in /home/ec2-user/anaconda3/envs/python3/lib/python3.8/site-packages (from gevent>=0.13->geventhttpclient>=1.4.4->tritonclient[http]) (5.4.0)\n",
      "Requirement already satisfied: greenlet<2.0,>=1.1.0 in /home/ec2-user/anaconda3/envs/python3/lib/python3.8/site-packages (from gevent>=0.13->geventhttpclient>=1.4.4->tritonclient[http]) (1.1.2)\n",
      "Requirement already satisfied: setuptools in /home/ec2-user/anaconda3/envs/python3/lib/python3.8/site-packages (from gevent>=0.13->geventhttpclient>=1.4.4->tritonclient[http]) (59.4.0)\n"
     ]
    }
   ],
   "source": [
    "!pip install -qU pip awscli boto3 sagemaker \n",
    "!pip install nvidia-pyindex\n",
    "!pip install tritonclient[http]"
   ]
  },
  {
   "cell_type": "code",
   "execution_count": 2,
   "id": "5f92aaf6-5e01-4609-9ac2-1e36a9cc6974",
   "metadata": {},
   "outputs": [],
   "source": [
    "import os"
   ]
  },
  {
   "cell_type": "code",
   "execution_count": 3,
   "id": "d04fec5d-17a4-45f2-99d7-7ef33a71e8fa",
   "metadata": {},
   "outputs": [
    {
     "ename": "SyntaxError",
     "evalue": "invalid syntax (2559600829.py, line 2)",
     "output_type": "error",
     "traceback": [
      "\u001b[0;36m  File \u001b[0;32m\"/tmp/ipykernel_32237/2559600829.py\"\u001b[0;36m, line \u001b[0;32m2\u001b[0m\n\u001b[0;31m    import json,\u001b[0m\n\u001b[0m                ^\u001b[0m\n\u001b[0;31mSyntaxError\u001b[0m\u001b[0;31m:\u001b[0m invalid syntax\n"
     ]
    }
   ],
   "source": [
    "import boto3\n",
    "import json,\n",
    "import sagemaker\n",
    "import time\n",
    "import os\n",
    "from sagemaker import get_execution_role\n",
    "\n",
    "sess = boto3.Session()\n",
    "sm = sess.client(\"sagemaker\")\n",
    "sagemaker_session = sagemaker.Session(boto_session=sess)\n",
    "role = get_execution_role()\n",
    "client = boto3.client(\"sagemaker-runtime\")"
   ]
  },
  {
   "cell_type": "code",
   "execution_count": null,
   "id": "ed736d08-902f-427b-9407-0b2596b229ff",
   "metadata": {},
   "outputs": [],
   "source": [
    "triton_image_uri = \"354625738399.dkr.ecr.us-west-2.amazonaws.com/sagemaker-tritonserver:22.05-py\""
   ]
  },
  {
   "cell_type": "markdown",
   "id": "aa889064-f088-4b82-b25e-c03535386d52",
   "metadata": {},
   "source": [
    "## Package model files and uploading to S3"
   ]
  },
  {
   "cell_type": "code",
   "execution_count": 5,
   "id": "ba5ccf2c-8aa3-47b2-b791-7a075969acf7",
   "metadata": {},
   "outputs": [],
   "source": [
    "!wget -q -P triton-serve-fil/preprocessing https://rapidsai-data.s3.us-east-2.amazonaws.com/conda-pack/rapidsai/rapids22.06_cuda11.5_py3.8.tar.gz"
   ]
  },
  {
   "cell_type": "code",
   "execution_count": null,
   "id": "47ac1834-fd1c-487c-a899-372bbc3ba002",
   "metadata": {},
   "outputs": [],
   "source": [
    "!tar -C triton-serve-fil/ -czf model.tar.gz preprocessing\n",
    "model_uri = sagemaker_session.upload_data(path=\"model.tar.gz\", key_prefix=\"triton-serve-fil\")"
   ]
  },
  {
   "cell_type": "code",
   "execution_count": 6,
   "id": "8e1d9583-4d2a-4080-bc3c-9e8e24eae6b2",
   "metadata": {},
   "outputs": [],
   "source": []
  },
  {
   "cell_type": "code",
   "execution_count": 4,
   "id": "244c4fb1-3f47-48c7-adfd-4b0e781b203a",
   "metadata": {},
   "outputs": [],
   "source": [
    "def generate_config(model_dir, max_batch_size, num_features, threshold=0.5, \n",
    "                    deployment_type='gpu', storage_type='AUTO'):\n",
    "    \n",
    "    if deployment_type.lower() == 'cpu':\n",
    "        instance_kind = 'KIND_CPU'\n",
    "    else:\n",
    "        instance_kind = 'KIND_GPU'\n",
    "\n",
    "    config_text = f\"\"\"backend: \"fil\"\n",
    "max_batch_size: {max_batch_size}\n",
    "input [                                 \n",
    " {{  \n",
    "    name: \"input__0\"\n",
    "    data_type: TYPE_FP32\n",
    "    dims: [ {num_features} ]                    \n",
    "  }} \n",
    "]\n",
    "output [\n",
    " {{\n",
    "    name: \"output__0\"\n",
    "    data_type: TYPE_FP32\n",
    "    dims: [ 1 ]\n",
    "  }}\n",
    "]\n",
    "instance_group [{{ kind: {instance_kind} }}]\n",
    "parameters [\n",
    "  {{\n",
    "    key: \"model_type\"\n",
    "    value: {{ string_value: \"xgboost_json\" }}\n",
    "  }},\n",
    "  {{\n",
    "    key: \"output_class\"\n",
    "    value: {{ string_value: \"true\" }}\n",
    "  }},\n",
    "  {{\n",
    "    key: \"threshold\"\n",
    "    value: {{ string_value: \"{threshold}\" }}\n",
    "  }},\n",
    "  {{\n",
    "    key: \"storage_type\"\n",
    "    value: {{ string_value: \"{storage_type}\" }}\n",
    "  }}\n",
    "]\n",
    "\n",
    "dynamic_batching {{\n",
    "}}\"\"\"\n",
    "    \n",
    "    config_path = os.path.join(model_dir, 'config.pbtxt')\n",
    "    with open(config_path, 'w') as file_:\n",
    "        file_.write(config_text)\n",
    "\n",
    "    return config_path"
   ]
  },
  {
   "cell_type": "code",
   "execution_count": 7,
   "id": "3ddcd5d1-dee1-44ed-b370-07e576ce7935",
   "metadata": {},
   "outputs": [],
   "source": [
    "MAX_MEMORY_BYTES = 60_000_000\n",
    "num_features = 15\n",
    "num_classes = 2\n",
    "bytes_per_sample = (num_features + num_classes) * 4\n",
    "max_batch_size = MAX_MEMORY_BYTES // bytes_per_sample\n",
    "deployment_type = 'gpu'\n",
    "xgb_model_dir = 'xgboost'"
   ]
  },
  {
   "cell_type": "code",
   "execution_count": 8,
   "id": "c00e2131-03b3-4dcc-be34-01a1b2c26d8a",
   "metadata": {},
   "outputs": [
    {
     "data": {
      "text/plain": [
       "'xgboost/config.pbtxt'"
      ]
     },
     "execution_count": 8,
     "metadata": {},
     "output_type": "execute_result"
    }
   ],
   "source": [
    "generate_config(xgb_model_dir, max_batch_size, num_features, num_classes, deployment_type)"
   ]
  },
  {
   "cell_type": "code",
   "execution_count": 1,
   "id": "7b5e8227-96a0-4c7f-8ca6-b2773869116c",
   "metadata": {},
   "outputs": [
    {
     "ename": "ModuleNotFoundError",
     "evalue": "No module named 'triton_python_backend_utils'",
     "output_type": "error",
     "traceback": [
      "\u001b[0;31m---------------------------------------------------------------------------\u001b[0m",
      "\u001b[0;31mModuleNotFoundError\u001b[0m                       Traceback (most recent call last)",
      "Input \u001b[0;32mIn [1]\u001b[0m, in \u001b[0;36m<cell line: 1>\u001b[0;34m()\u001b[0m\n\u001b[0;32m----> 1\u001b[0m \u001b[38;5;28;01mimport\u001b[39;00m \u001b[38;5;21;01mtriton_python_backend_utils\u001b[39;00m \u001b[38;5;28;01mas\u001b[39;00m \u001b[38;5;21;01mpb_utils\u001b[39;00m\n",
      "\u001b[0;31mModuleNotFoundError\u001b[0m: No module named 'triton_python_backend_utils'"
     ]
    }
   ],
   "source": [
    "import triton_python_backend_utils as pb_utils"
   ]
  },
  {
   "cell_type": "code",
   "execution_count": null,
   "id": "c4907710-9c40-4cfc-a317-17742bf3c9b8",
   "metadata": {},
   "outputs": [],
   "source": []
  }
 ],
 "metadata": {
  "kernelspec": {
   "display_name": "Python 3 (ipykernel)",
   "language": "python",
   "name": "python3"
  },
  "language_info": {
   "codemirror_mode": {
    "name": "ipython",
    "version": 3
   },
   "file_extension": ".py",
   "mimetype": "text/x-python",
   "name": "python",
   "nbconvert_exporter": "python",
   "pygments_lexer": "ipython3",
   "version": "3.8.10"
  }
 },
 "nbformat": 4,
 "nbformat_minor": 5
}
