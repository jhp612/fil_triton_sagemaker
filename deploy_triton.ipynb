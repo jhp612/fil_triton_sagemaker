{
 "cells": [
  {
   "cell_type": "code",
   "execution_count": 1,
   "id": "2349bdd9-6db5-4084-a45e-92ce805be304",
   "metadata": {},
   "outputs": [
    {
     "name": "stdout",
     "output_type": "stream",
     "text": [
      "\u001b[33mWARNING: Running pip as the 'root' user can result in broken permissions and conflicting behaviour with the system package manager. It is recommended to use a virtual environment instead: https://pip.pypa.io/warnings/venv\u001b[0m\u001b[33m\n",
      "\u001b[0m"
     ]
    }
   ],
   "source": [
    "!pip install -q pandas"
   ]
  },
  {
   "cell_type": "code",
   "execution_count": 1,
   "id": "3c826eb6-3fbf-4ded-ad7b-68a2baf6bb7c",
   "metadata": {},
   "outputs": [
    {
     "name": "stdout",
     "output_type": "stream",
     "text": [
      "Looking in indexes: https://pypi.org/simple, https://pip.repos.neuron.amazonaws.com, https://pypi.ngc.nvidia.com\n",
      "Requirement already satisfied: nvidia-pyindex in /home/ec2-user/anaconda3/envs/python3/lib/python3.8/site-packages (1.0.9)\n",
      "Looking in indexes: https://pypi.org/simple, https://pip.repos.neuron.amazonaws.com, https://pypi.ngc.nvidia.com\n",
      "Requirement already satisfied: tritonclient[http] in /home/ec2-user/anaconda3/envs/python3/lib/python3.8/site-packages (2.22.4)\n",
      "Requirement already satisfied: numpy>=1.19.1 in /home/ec2-user/anaconda3/envs/python3/lib/python3.8/site-packages (from tritonclient[http]) (1.20.3)\n",
      "Requirement already satisfied: python-rapidjson>=0.9.1 in /home/ec2-user/anaconda3/envs/python3/lib/python3.8/site-packages (from tritonclient[http]) (1.6)\n",
      "Requirement already satisfied: geventhttpclient>=1.4.4 in /home/ec2-user/anaconda3/envs/python3/lib/python3.8/site-packages (from tritonclient[http]) (1.5.4)\n",
      "Requirement already satisfied: brotli in /home/ec2-user/anaconda3/envs/python3/lib/python3.8/site-packages (from geventhttpclient>=1.4.4->tritonclient[http]) (1.0.9)\n",
      "Requirement already satisfied: six in /home/ec2-user/anaconda3/envs/python3/lib/python3.8/site-packages (from geventhttpclient>=1.4.4->tritonclient[http]) (1.16.0)\n",
      "Requirement already satisfied: certifi in /home/ec2-user/anaconda3/envs/python3/lib/python3.8/site-packages (from geventhttpclient>=1.4.4->tritonclient[http]) (2021.10.8)\n",
      "Requirement already satisfied: gevent>=0.13 in /home/ec2-user/anaconda3/envs/python3/lib/python3.8/site-packages (from geventhttpclient>=1.4.4->tritonclient[http]) (21.8.0)\n",
      "Requirement already satisfied: zope.event in /home/ec2-user/anaconda3/envs/python3/lib/python3.8/site-packages (from gevent>=0.13->geventhttpclient>=1.4.4->tritonclient[http]) (4.5.0)\n",
      "Requirement already satisfied: zope.interface in /home/ec2-user/anaconda3/envs/python3/lib/python3.8/site-packages (from gevent>=0.13->geventhttpclient>=1.4.4->tritonclient[http]) (5.4.0)\n",
      "Requirement already satisfied: greenlet<2.0,>=1.1.0 in /home/ec2-user/anaconda3/envs/python3/lib/python3.8/site-packages (from gevent>=0.13->geventhttpclient>=1.4.4->tritonclient[http]) (1.1.2)\n",
      "Requirement already satisfied: setuptools in /home/ec2-user/anaconda3/envs/python3/lib/python3.8/site-packages (from gevent>=0.13->geventhttpclient>=1.4.4->tritonclient[http]) (59.4.0)\n"
     ]
    }
   ],
   "source": [
    "!pip install -qU pip awscli boto3 sagemaker \n",
    "!pip install nvidia-pyindex\n",
    "!pip install tritonclient[http]"
   ]
  },
  {
   "cell_type": "code",
   "execution_count": 2,
   "id": "5f92aaf6-5e01-4609-9ac2-1e36a9cc6974",
   "metadata": {},
   "outputs": [],
   "source": [
    "import os"
   ]
  },
  {
   "cell_type": "code",
   "execution_count": 3,
   "id": "d04fec5d-17a4-45f2-99d7-7ef33a71e8fa",
   "metadata": {},
   "outputs": [
    {
     "ename": "SyntaxError",
     "evalue": "invalid syntax (2559600829.py, line 2)",
     "output_type": "error",
     "traceback": [
      "\u001b[0;36m  File \u001b[0;32m\"/tmp/ipykernel_32237/2559600829.py\"\u001b[0;36m, line \u001b[0;32m2\u001b[0m\n\u001b[0;31m    import json,\u001b[0m\n\u001b[0m                ^\u001b[0m\n\u001b[0;31mSyntaxError\u001b[0m\u001b[0;31m:\u001b[0m invalid syntax\n"
     ]
    }
   ],
   "source": [
    "import boto3\n",
    "import json,\n",
    "import sagemaker\n",
    "import time\n",
    "import os\n",
    "from sagemaker import get_execution_role\n",
    "\n",
    "sess = boto3.Session()\n",
    "sm = sess.client(\"sagemaker\")\n",
    "sagemaker_session = sagemaker.Session(boto_session=sess)\n",
    "role = get_execution_role()\n",
    "client = boto3.client(\"sagemaker-runtime\")"
   ]
  },
  {
   "cell_type": "code",
   "execution_count": null,
   "id": "ed736d08-902f-427b-9407-0b2596b229ff",
   "metadata": {},
   "outputs": [],
   "source": [
    "triton_image_uri = \"354625738399.dkr.ecr.us-west-2.amazonaws.com/sagemaker-tritonserver:22.05-py\""
   ]
  },
  {
   "cell_type": "markdown",
   "id": "aa889064-f088-4b82-b25e-c03535386d52",
   "metadata": {},
   "source": [
    "## Package model files and uploading to S3"
   ]
  },
  {
   "cell_type": "code",
   "execution_count": 5,
   "id": "ba5ccf2c-8aa3-47b2-b791-7a075969acf7",
   "metadata": {},
   "outputs": [],
   "source": [
    "!wget -q -P triton-serve-fil/preprocessing https://rapidsai-data.s3.us-east-2.amazonaws.com/conda-pack/rapidsai/rapids22.06_cuda11.5_py3.8.tar.gz"
   ]
  },
  {
   "cell_type": "code",
   "execution_count": null,
   "id": "47ac1834-fd1c-487c-a899-372bbc3ba002",
   "metadata": {},
   "outputs": [],
   "source": [
    "!tar -C triton-serve-fil/ -czf model.tar.gz preprocessing\n",
    "model_uri = sagemaker_session.upload_data(path=\"model.tar.gz\", key_prefix=\"triton-serve-fil\")"
   ]
  },
  {
   "cell_type": "code",
   "execution_count": 6,
   "id": "8e1d9583-4d2a-4080-bc3c-9e8e24eae6b2",
   "metadata": {},
   "outputs": [],
   "source": []
  },
  {
   "cell_type": "code",
   "execution_count": 4,
   "id": "244c4fb1-3f47-48c7-adfd-4b0e781b203a",
   "metadata": {},
   "outputs": [],
   "source": [
    "def generate_config(model_dir, max_batch_size, num_features, threshold=0.5, \n",
    "                    deployment_type='gpu', storage_type='AUTO'):\n",
    "    \n",
    "    if deployment_type.lower() == 'cpu':\n",
    "        instance_kind = 'KIND_CPU'\n",
    "    else:\n",
    "        instance_kind = 'KIND_GPU'\n",
    "\n",
    "    config_text = f\"\"\"backend: \"fil\"\n",
    "max_batch_size: {max_batch_size}\n",
    "input [                                 \n",
    " {{  \n",
    "    name: \"input__0\"\n",
    "    data_type: TYPE_FP32\n",
    "    dims: [ {num_features} ]                    \n",
    "  }} \n",
    "]\n",
    "output [\n",
    " {{\n",
    "    name: \"output__0\"\n",
    "    data_type: TYPE_FP32\n",
    "    dims: [ 1 ]\n",
    "  }}\n",
    "]\n",
    "instance_group [{{ kind: {instance_kind} }}]\n",
    "parameters [\n",
    "  {{\n",
    "    key: \"model_type\"\n",
    "    value: {{ string_value: \"xgboost_json\" }}\n",
    "  }},\n",
    "  {{\n",
    "    key: \"output_class\"\n",
    "    value: {{ string_value: \"true\" }}\n",
    "  }},\n",
    "  {{\n",
    "    key: \"threshold\"\n",
    "    value: {{ string_value: \"{threshold}\" }}\n",
    "  }},\n",
    "  {{\n",
    "    key: \"storage_type\"\n",
    "    value: {{ string_value: \"{storage_type}\" }}\n",
    "  }}\n",
    "]\n",
    "\n",
    "dynamic_batching {{\n",
    "}}\"\"\"\n",
    "    \n",
    "    config_path = os.path.join(model_dir, 'config.pbtxt')\n",
    "    with open(config_path, 'w') as file_:\n",
    "        file_.write(config_text)\n",
    "\n",
    "    return config_path"
   ]
  },
  {
   "cell_type": "code",
   "execution_count": 7,
   "id": "3ddcd5d1-dee1-44ed-b370-07e576ce7935",
   "metadata": {},
   "outputs": [],
   "source": [
    "MAX_MEMORY_BYTES = 60_000_000\n",
    "num_features = 15\n",
    "num_classes = 2\n",
    "bytes_per_sample = (num_features + num_classes) * 4\n",
    "max_batch_size = MAX_MEMORY_BYTES // bytes_per_sample\n",
    "deployment_type = 'gpu'\n",
    "xgb_model_dir = 'xgboost'"
   ]
  },
  {
   "cell_type": "code",
   "execution_count": 8,
   "id": "c00e2131-03b3-4dcc-be34-01a1b2c26d8a",
   "metadata": {},
   "outputs": [
    {
     "data": {
      "text/plain": [
       "'xgboost/config.pbtxt'"
      ]
     },
     "execution_count": 8,
     "metadata": {},
     "output_type": "execute_result"
    }
   ],
   "source": [
    "generate_config(xgb_model_dir, max_batch_size, num_features, num_classes, deployment_type)"
   ]
  },
  {
   "cell_type": "code",
   "execution_count": 1,
   "id": "7b5e8227-96a0-4c7f-8ca6-b2773869116c",
   "metadata": {},
   "outputs": [
    {
     "ename": "ModuleNotFoundError",
     "evalue": "No module named 'triton_python_backend_utils'",
     "output_type": "error",
     "traceback": [
      "\u001b[0;31m---------------------------------------------------------------------------\u001b[0m",
      "\u001b[0;31mModuleNotFoundError\u001b[0m                       Traceback (most recent call last)",
      "Input \u001b[0;32mIn [1]\u001b[0m, in \u001b[0;36m<cell line: 1>\u001b[0;34m()\u001b[0m\n\u001b[0;32m----> 1\u001b[0m \u001b[38;5;28;01mimport\u001b[39;00m \u001b[38;5;21;01mtriton_python_backend_utils\u001b[39;00m \u001b[38;5;28;01mas\u001b[39;00m \u001b[38;5;21;01mpb_utils\u001b[39;00m\n",
      "\u001b[0;31mModuleNotFoundError\u001b[0m: No module named 'triton_python_backend_utils'"
     ]
    }
   ],
   "source": [
    "import triton_python_backend_utils as pb_utils"
   ]
  },
  {
   "cell_type": "markdown",
   "id": "af081a5d-8220-4bf8-8081-d24c9f57e204",
   "metadata": {},
   "source": [
    "## Run Inference"
   ]
  },
  {
   "cell_type": "code",
   "execution_count": 10,
   "id": "a91e2fb9-1113-4fc5-8c9c-4252875f7279",
   "metadata": {},
   "outputs": [],
   "source": [
    "import pandas as pd"
   ]
  },
  {
   "cell_type": "code",
   "execution_count": 11,
   "id": "c4907710-9c40-4cfc-a317-17742bf3c9b8",
   "metadata": {},
   "outputs": [],
   "source": [
    "data_infer = pd.read_csv(\"data_infer.csv\")"
   ]
  },
  {
   "cell_type": "code",
   "execution_count": 12,
   "id": "8d3950e8-4fb8-4056-bd82-bd1cd1f94ad8",
   "metadata": {},
   "outputs": [
    {
     "data": {
      "text/html": [
       "<div>\n",
       "<style scoped>\n",
       "    .dataframe tbody tr th:only-of-type {\n",
       "        vertical-align: middle;\n",
       "    }\n",
       "\n",
       "    .dataframe tbody tr th {\n",
       "        vertical-align: top;\n",
       "    }\n",
       "\n",
       "    .dataframe thead th {\n",
       "        text-align: right;\n",
       "    }\n",
       "</style>\n",
       "<table border=\"1\" class=\"dataframe\">\n",
       "  <thead>\n",
       "    <tr style=\"text-align: right;\">\n",
       "      <th></th>\n",
       "      <th>User</th>\n",
       "      <th>Card</th>\n",
       "      <th>Year</th>\n",
       "      <th>Month</th>\n",
       "      <th>Day</th>\n",
       "      <th>Time</th>\n",
       "      <th>Amount</th>\n",
       "      <th>Use Chip</th>\n",
       "      <th>Merchant Name</th>\n",
       "      <th>Merchant City</th>\n",
       "      <th>Merchant State</th>\n",
       "      <th>Zip</th>\n",
       "      <th>MCC</th>\n",
       "      <th>Errors?</th>\n",
       "    </tr>\n",
       "  </thead>\n",
       "  <tbody>\n",
       "    <tr>\n",
       "      <th>0</th>\n",
       "      <td>1005</td>\n",
       "      <td>0</td>\n",
       "      <td>2013</td>\n",
       "      <td>6</td>\n",
       "      <td>5</td>\n",
       "      <td>22:03</td>\n",
       "      <td>$-180.00</td>\n",
       "      <td>Swipe Transaction</td>\n",
       "      <td>7834055923142137930</td>\n",
       "      <td>Orlando</td>\n",
       "      <td>FL</td>\n",
       "      <td>32808.0</td>\n",
       "      <td>3395</td>\n",
       "      <td>NaN</td>\n",
       "    </tr>\n",
       "    <tr>\n",
       "      <th>1</th>\n",
       "      <td>134</td>\n",
       "      <td>5</td>\n",
       "      <td>2015</td>\n",
       "      <td>2</td>\n",
       "      <td>16</td>\n",
       "      <td>18:34</td>\n",
       "      <td>$99.10</td>\n",
       "      <td>Chip Transaction</td>\n",
       "      <td>-1548923525906069124</td>\n",
       "      <td>Tyler</td>\n",
       "      <td>TX</td>\n",
       "      <td>75706.0</td>\n",
       "      <td>4900</td>\n",
       "      <td>NaN</td>\n",
       "    </tr>\n",
       "    <tr>\n",
       "      <th>2</th>\n",
       "      <td>1270</td>\n",
       "      <td>0</td>\n",
       "      <td>2009</td>\n",
       "      <td>11</td>\n",
       "      <td>27</td>\n",
       "      <td>18:44</td>\n",
       "      <td>$82.42</td>\n",
       "      <td>Swipe Transaction</td>\n",
       "      <td>-7329090674102508598</td>\n",
       "      <td>Saint Charles</td>\n",
       "      <td>IL</td>\n",
       "      <td>60174.0</td>\n",
       "      <td>5812</td>\n",
       "      <td>NaN</td>\n",
       "    </tr>\n",
       "    <tr>\n",
       "      <th>3</th>\n",
       "      <td>109</td>\n",
       "      <td>0</td>\n",
       "      <td>2010</td>\n",
       "      <td>11</td>\n",
       "      <td>3</td>\n",
       "      <td>16:21</td>\n",
       "      <td>$0.45</td>\n",
       "      <td>Swipe Transaction</td>\n",
       "      <td>-6571010470072147219</td>\n",
       "      <td>Dyer</td>\n",
       "      <td>IN</td>\n",
       "      <td>46311.0</td>\n",
       "      <td>5499</td>\n",
       "      <td>NaN</td>\n",
       "    </tr>\n",
       "    <tr>\n",
       "      <th>4</th>\n",
       "      <td>1853</td>\n",
       "      <td>2</td>\n",
       "      <td>2006</td>\n",
       "      <td>3</td>\n",
       "      <td>27</td>\n",
       "      <td>12:25</td>\n",
       "      <td>$11.41</td>\n",
       "      <td>Swipe Transaction</td>\n",
       "      <td>6135208568923449408</td>\n",
       "      <td>East Peoria</td>\n",
       "      <td>IL</td>\n",
       "      <td>61611.0</td>\n",
       "      <td>9402</td>\n",
       "      <td>NaN</td>\n",
       "    </tr>\n",
       "  </tbody>\n",
       "</table>\n",
       "</div>"
      ],
      "text/plain": [
       "   User  Card  Year  Month  Day   Time    Amount           Use Chip  \\\n",
       "0  1005     0  2013      6    5  22:03  $-180.00  Swipe Transaction   \n",
       "1   134     5  2015      2   16  18:34    $99.10   Chip Transaction   \n",
       "2  1270     0  2009     11   27  18:44    $82.42  Swipe Transaction   \n",
       "3   109     0  2010     11    3  16:21     $0.45  Swipe Transaction   \n",
       "4  1853     2  2006      3   27  12:25    $11.41  Swipe Transaction   \n",
       "\n",
       "         Merchant Name  Merchant City Merchant State      Zip   MCC Errors?  \n",
       "0  7834055923142137930        Orlando             FL  32808.0  3395     NaN  \n",
       "1 -1548923525906069124          Tyler             TX  75706.0  4900     NaN  \n",
       "2 -7329090674102508598  Saint Charles             IL  60174.0  5812     NaN  \n",
       "3 -6571010470072147219           Dyer             IN  46311.0  5499     NaN  \n",
       "4  6135208568923449408    East Peoria             IL  61611.0  9402     NaN  "
      ]
     },
     "execution_count": 12,
     "metadata": {},
     "output_type": "execute_result"
    }
   ],
   "source": [
    "data_infer.head()"
   ]
  },
  {
   "cell_type": "code",
   "execution_count": 19,
   "id": "08eb9eef-03c0-4333-bc71-c0119b9e587e",
   "metadata": {},
   "outputs": [],
   "source": [
    "import cudf"
   ]
  },
  {
   "cell_type": "code",
   "execution_count": 20,
   "id": "d5802377-db69-4bcb-bbf1-374c67601f94",
   "metadata": {},
   "outputs": [],
   "source": [
    "col_names=data_infer.columns.tolist()"
   ]
  },
  {
   "cell_type": "code",
   "execution_count": 21,
   "id": "efe29366-1c20-4e1c-a1a7-e1a43f0ae0a7",
   "metadata": {},
   "outputs": [],
   "source": [
    "data_infer = data_infer"
   ]
  },
  {
   "cell_type": "code",
   "execution_count": null,
   "id": "4de6237c-d237-490d-b3f1-d0a544bfb3f5",
   "metadata": {},
   "outputs": [],
   "source": []
  },
  {
   "cell_type": "code",
   "execution_count": 24,
   "id": "9ee87153-48e4-472f-88a1-97e40f794f6c",
   "metadata": {},
   "outputs": [
    {
     "data": {
      "text/html": [
       "<div>\n",
       "<style scoped>\n",
       "    .dataframe tbody tr th:only-of-type {\n",
       "        vertical-align: middle;\n",
       "    }\n",
       "\n",
       "    .dataframe tbody tr th {\n",
       "        vertical-align: top;\n",
       "    }\n",
       "\n",
       "    .dataframe thead th {\n",
       "        text-align: right;\n",
       "    }\n",
       "</style>\n",
       "<table border=\"1\" class=\"dataframe\">\n",
       "  <thead>\n",
       "    <tr style=\"text-align: right;\">\n",
       "      <th></th>\n",
       "      <th>0</th>\n",
       "    </tr>\n",
       "  </thead>\n",
       "  <tbody>\n",
       "    <tr>\n",
       "      <th>User</th>\n",
       "      <td>1005</td>\n",
       "    </tr>\n",
       "    <tr>\n",
       "      <th>Card</th>\n",
       "      <td>0</td>\n",
       "    </tr>\n",
       "    <tr>\n",
       "      <th>Year</th>\n",
       "      <td>2013</td>\n",
       "    </tr>\n",
       "    <tr>\n",
       "      <th>Month</th>\n",
       "      <td>6</td>\n",
       "    </tr>\n",
       "    <tr>\n",
       "      <th>Day</th>\n",
       "      <td>5</td>\n",
       "    </tr>\n",
       "    <tr>\n",
       "      <th>Time</th>\n",
       "      <td>22:03</td>\n",
       "    </tr>\n",
       "    <tr>\n",
       "      <th>Amount</th>\n",
       "      <td>$-180.00</td>\n",
       "    </tr>\n",
       "    <tr>\n",
       "      <th>Use Chip</th>\n",
       "      <td>Swipe Transaction</td>\n",
       "    </tr>\n",
       "    <tr>\n",
       "      <th>Merchant Name</th>\n",
       "      <td>7834055923142137930</td>\n",
       "    </tr>\n",
       "    <tr>\n",
       "      <th>Merchant City</th>\n",
       "      <td>Orlando</td>\n",
       "    </tr>\n",
       "    <tr>\n",
       "      <th>Merchant State</th>\n",
       "      <td>FL</td>\n",
       "    </tr>\n",
       "    <tr>\n",
       "      <th>Zip</th>\n",
       "      <td>32808.0</td>\n",
       "    </tr>\n",
       "    <tr>\n",
       "      <th>MCC</th>\n",
       "      <td>3395</td>\n",
       "    </tr>\n",
       "    <tr>\n",
       "      <th>Errors?</th>\n",
       "      <td>NaN</td>\n",
       "    </tr>\n",
       "  </tbody>\n",
       "</table>\n",
       "</div>"
      ],
      "text/plain": [
       "                                  0\n",
       "User                           1005\n",
       "Card                              0\n",
       "Year                           2013\n",
       "Month                             6\n",
       "Day                               5\n",
       "Time                          22:03\n",
       "Amount                     $-180.00\n",
       "Use Chip          Swipe Transaction\n",
       "Merchant Name   7834055923142137930\n",
       "Merchant City               Orlando\n",
       "Merchant State                   FL\n",
       "Zip                         32808.0\n",
       "MCC                            3395\n",
       "Errors?                         NaN"
      ]
     },
     "execution_count": 24,
     "metadata": {},
     "output_type": "execute_result"
    }
   ],
   "source": [
    "pd.DataFrame(data_infer.iloc[0].values, col_names)"
   ]
  },
  {
   "cell_type": "code",
   "execution_count": null,
   "id": "066eb4eb-35e1-4725-b825-1a810ade072c",
   "metadata": {},
   "outputs": [],
   "source": []
  },
  {
   "cell_type": "code",
   "execution_count": 6,
   "id": "1ffd81a0-9cbd-4f7d-88b6-a4a4bc32db19",
   "metadata": {},
   "outputs": [
    {
     "data": {
      "text/plain": [
       "['User',\n",
       " 'Card',\n",
       " 'Year',\n",
       " 'Month',\n",
       " 'Day',\n",
       " 'Amount',\n",
       " 'Use Chip',\n",
       " 'Merchant Name',\n",
       " 'Merchant City',\n",
       " 'Merchant State',\n",
       " 'Zip',\n",
       " 'MCC',\n",
       " 'Errors?',\n",
       " 'Hour',\n",
       " 'Minute']"
      ]
     },
     "execution_count": 6,
     "metadata": {},
     "output_type": "execute_result"
    }
   ],
   "source": [
    "X_infer.columns.tolist()"
   ]
  },
  {
   "cell_type": "code",
   "execution_count": 14,
   "id": "6c905db7-a11c-4045-9b39-f12020f13e79",
   "metadata": {},
   "outputs": [],
   "source": [
    "sample_data = X_infer.astype(str).values"
   ]
  },
  {
   "cell_type": "code",
   "execution_count": 15,
   "id": "cd22467a-126e-461e-acb3-643d264c68b7",
   "metadata": {},
   "outputs": [
    {
     "data": {
      "text/plain": [
       "array([['767', '0', '2012', '11', '12', '25.37000084', '1', '22776',\n",
       "        '8313', '145', '26128', '35', '0', '9', '15'],\n",
       "       ['1676', '0', '2016', '1', '2', '103.75', '0', '61835', '5977',\n",
       "        '28', '23436', '74', '0', '5', '12'],\n",
       "       ['1395', '0', '2017', '5', '11', '6.699999809', '0', '21061',\n",
       "        '11313', '214', '25784', '78', '0', '7', '57'],\n",
       "       ['1073', '1', '2010', '8', '24', '2.849999905', '2', '39706',\n",
       "        '5783', '128', '4953', '56', '0', '8', '5'],\n",
       "       ['123', '0', '2009', '12', '17', '80.77999878', '2', '51879',\n",
       "        '6749', '215', '13903', '54', '0', '13', '7'],\n",
       "       ['1945', '2', '2014', '9', '28', '21.37000084', '2', '21752',\n",
       "        '7688', '78', '16490', '95', '1', '16', '32'],\n",
       "       ['579', '1', '2007', '9', '13', '11.39999962', '2', '56561',\n",
       "        '7771', '107', '12881', '56', '0', '13', '6'],\n",
       "       ['413', '3', '2010', '9', '7', '55.43000031', '2', '8910', '3283',\n",
       "        '214', '25904', '65', '0', '7', '58'],\n",
       "       ['83', '0', '2016', '12', '17', '10.97000027', '0', '11908',\n",
       "        '8492', '28', '23634', '56', '0', '7', '36'],\n",
       "       ['1748', '0', '2017', '10', '16', '93.12999725', '0', '56561',\n",
       "        '2911', '189', '20578', '56', '0', '0', '58'],\n",
       "       ['325', '0', '2013', '1', '17', '54.0', '2', '42872', '6583',\n",
       "        '28', '23334', '57', '0', '1', '58']], dtype=object)"
      ]
     },
     "execution_count": 15,
     "metadata": {},
     "output_type": "execute_result"
    }
   ],
   "source": [
    "sample_data"
   ]
  },
  {
   "cell_type": "code",
   "execution_count": 18,
   "id": "5cae78cf-e054-4d98-bc3d-a297fd2500ca",
   "metadata": {},
   "outputs": [
    {
     "data": {
      "text/plain": [
       "numpy.ndarray"
      ]
     },
     "execution_count": 18,
     "metadata": {},
     "output_type": "execute_result"
    }
   ],
   "source": [
    "type(sample_data)"
   ]
  },
  {
   "cell_type": "code",
   "execution_count": null,
   "id": "c5c63d71-a0be-4829-9a37-07986d6860da",
   "metadata": {},
   "outputs": [],
   "source": [
    "payload = {\n",
    "    \"inputs\": [\n",
    "        {\"name\": \"INPUT__0\", \"shape\": list(sample_data.shape), \"datatype\": \"STRING\", \"data\": sample_data},\n",
    "    ]\n",
    "}"
   ]
  }
 ],
 "metadata": {
  "kernelspec": {
   "display_name": "Python 3 (ipykernel)",
   "language": "python",
   "name": "python3"
  },
  "language_info": {
   "codemirror_mode": {
    "name": "ipython",
    "version": 3
   },
   "file_extension": ".py",
   "mimetype": "text/x-python",
   "name": "python",
   "nbconvert_exporter": "python",
   "pygments_lexer": "ipython3",
   "version": "3.8.13"
  }
 },
 "nbformat": 4,
 "nbformat_minor": 5
}
