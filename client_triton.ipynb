{
 "cells": [
  {
   "cell_type": "code",
   "execution_count": 1,
   "id": "e00d1239-ec89-48fd-94e4-db6aa4fe8f81",
   "metadata": {
    "scrolled": true,
    "tags": []
   },
   "outputs": [
    {
     "name": "stdout",
     "output_type": "stream",
     "text": [
      "\u001b[33mWARNING: Running pip as the 'root' user can result in broken permissions and conflicting behaviour with the system package manager. It is recommended to use a virtual environment instead: https://pip.pypa.io/warnings/venv\u001b[0m\u001b[33m\n",
      "\u001b[0m\u001b[33mWARNING: Running pip as the 'root' user can result in broken permissions and conflicting behaviour with the system package manager. It is recommended to use a virtual environment instead: https://pip.pypa.io/warnings/venv\u001b[0m\u001b[33m\n",
      "\u001b[0m"
     ]
    }
   ],
   "source": [
    "!pip install -q tritonclient[http]\n",
    "!pip install -q pandas scikit-learn"
   ]
  },
  {
   "cell_type": "code",
   "execution_count": 1,
   "id": "7c442af8-698c-45e9-8e15-53fea4454b78",
   "metadata": {},
   "outputs": [],
   "source": [
    "import triton_python_backend_utils as pb_utils"
   ]
  },
  {
   "cell_type": "code",
   "execution_count": 33,
   "id": "0e16ccc6-d71d-4fd5-b1bd-16e0ac77981a",
   "metadata": {},
   "outputs": [],
   "source": [
    "import tritonclient.http as httpclient\n",
    "from tritonclient.utils import np_to_triton_dtype"
   ]
  },
  {
   "cell_type": "code",
   "execution_count": 34,
   "id": "43d060f7-34cf-40c3-9348-d48da0b31e59",
   "metadata": {},
   "outputs": [],
   "source": [
    "import pandas as pd\n",
    "import numpy as np\n",
    "import json"
   ]
  },
  {
   "cell_type": "code",
   "execution_count": 35,
   "id": "f42b3bfb-f601-447b-885c-1a49ac623704",
   "metadata": {},
   "outputs": [],
   "source": [
    "client = httpclient.InferenceServerClient(url='localhost:8000')"
   ]
  },
  {
   "cell_type": "code",
   "execution_count": 36,
   "id": "db69e573-1150-4943-a16d-5044abb32079",
   "metadata": {},
   "outputs": [],
   "source": [
    "data_infer = pd.read_csv(\"data_infer.csv\").astype('str')"
   ]
  },
  {
   "cell_type": "code",
   "execution_count": 119,
   "id": "ace55631-b024-42df-944c-89e9c386faf1",
   "metadata": {},
   "outputs": [],
   "source": [
    "input_data = data_infer.values"
   ]
  },
  {
   "cell_type": "code",
   "execution_count": 120,
   "id": "cf797167-8463-4dc3-81c7-ab01728869f6",
   "metadata": {},
   "outputs": [
    {
     "data": {
      "text/html": [
       "<div>\n",
       "<style scoped>\n",
       "    .dataframe tbody tr th:only-of-type {\n",
       "        vertical-align: middle;\n",
       "    }\n",
       "\n",
       "    .dataframe tbody tr th {\n",
       "        vertical-align: top;\n",
       "    }\n",
       "\n",
       "    .dataframe thead th {\n",
       "        text-align: right;\n",
       "    }\n",
       "</style>\n",
       "<table border=\"1\" class=\"dataframe\">\n",
       "  <thead>\n",
       "    <tr style=\"text-align: right;\">\n",
       "      <th></th>\n",
       "      <th>User</th>\n",
       "      <th>Card</th>\n",
       "      <th>Year</th>\n",
       "      <th>Month</th>\n",
       "      <th>Day</th>\n",
       "      <th>Time</th>\n",
       "      <th>Amount</th>\n",
       "      <th>Use Chip</th>\n",
       "      <th>Merchant Name</th>\n",
       "      <th>Merchant City</th>\n",
       "      <th>Merchant State</th>\n",
       "      <th>Zip</th>\n",
       "      <th>MCC</th>\n",
       "      <th>Errors?</th>\n",
       "    </tr>\n",
       "  </thead>\n",
       "  <tbody>\n",
       "    <tr>\n",
       "      <th>0</th>\n",
       "      <td>1005</td>\n",
       "      <td>0</td>\n",
       "      <td>2013</td>\n",
       "      <td>6</td>\n",
       "      <td>5</td>\n",
       "      <td>22:03</td>\n",
       "      <td>$-180.00</td>\n",
       "      <td>Swipe Transaction</td>\n",
       "      <td>7834055923142137930</td>\n",
       "      <td>Orlando</td>\n",
       "      <td>FL</td>\n",
       "      <td>32808.0</td>\n",
       "      <td>3395</td>\n",
       "      <td>nan</td>\n",
       "    </tr>\n",
       "    <tr>\n",
       "      <th>1</th>\n",
       "      <td>134</td>\n",
       "      <td>5</td>\n",
       "      <td>2015</td>\n",
       "      <td>2</td>\n",
       "      <td>16</td>\n",
       "      <td>18:34</td>\n",
       "      <td>$99.10</td>\n",
       "      <td>Chip Transaction</td>\n",
       "      <td>-1548923525906069124</td>\n",
       "      <td>Tyler</td>\n",
       "      <td>TX</td>\n",
       "      <td>75706.0</td>\n",
       "      <td>4900</td>\n",
       "      <td>nan</td>\n",
       "    </tr>\n",
       "    <tr>\n",
       "      <th>2</th>\n",
       "      <td>1270</td>\n",
       "      <td>0</td>\n",
       "      <td>2009</td>\n",
       "      <td>11</td>\n",
       "      <td>27</td>\n",
       "      <td>18:44</td>\n",
       "      <td>$82.42</td>\n",
       "      <td>Swipe Transaction</td>\n",
       "      <td>-7329090674102508598</td>\n",
       "      <td>Saint Charles</td>\n",
       "      <td>IL</td>\n",
       "      <td>60174.0</td>\n",
       "      <td>5812</td>\n",
       "      <td>nan</td>\n",
       "    </tr>\n",
       "    <tr>\n",
       "      <th>3</th>\n",
       "      <td>109</td>\n",
       "      <td>0</td>\n",
       "      <td>2010</td>\n",
       "      <td>11</td>\n",
       "      <td>3</td>\n",
       "      <td>16:21</td>\n",
       "      <td>$0.45</td>\n",
       "      <td>Swipe Transaction</td>\n",
       "      <td>-6571010470072147219</td>\n",
       "      <td>Dyer</td>\n",
       "      <td>IN</td>\n",
       "      <td>46311.0</td>\n",
       "      <td>5499</td>\n",
       "      <td>nan</td>\n",
       "    </tr>\n",
       "    <tr>\n",
       "      <th>4</th>\n",
       "      <td>1853</td>\n",
       "      <td>2</td>\n",
       "      <td>2006</td>\n",
       "      <td>3</td>\n",
       "      <td>27</td>\n",
       "      <td>12:25</td>\n",
       "      <td>$11.41</td>\n",
       "      <td>Swipe Transaction</td>\n",
       "      <td>6135208568923449408</td>\n",
       "      <td>East Peoria</td>\n",
       "      <td>IL</td>\n",
       "      <td>61611.0</td>\n",
       "      <td>9402</td>\n",
       "      <td>nan</td>\n",
       "    </tr>\n",
       "  </tbody>\n",
       "</table>\n",
       "</div>"
      ],
      "text/plain": [
       "   User Card  Year Month Day   Time    Amount           Use Chip  \\\n",
       "0  1005    0  2013     6   5  22:03  $-180.00  Swipe Transaction   \n",
       "1   134    5  2015     2  16  18:34    $99.10   Chip Transaction   \n",
       "2  1270    0  2009    11  27  18:44    $82.42  Swipe Transaction   \n",
       "3   109    0  2010    11   3  16:21     $0.45  Swipe Transaction   \n",
       "4  1853    2  2006     3  27  12:25    $11.41  Swipe Transaction   \n",
       "\n",
       "          Merchant Name  Merchant City Merchant State      Zip   MCC Errors?  \n",
       "0   7834055923142137930        Orlando             FL  32808.0  3395     nan  \n",
       "1  -1548923525906069124          Tyler             TX  75706.0  4900     nan  \n",
       "2  -7329090674102508598  Saint Charles             IL  60174.0  5812     nan  \n",
       "3  -6571010470072147219           Dyer             IN  46311.0  5499     nan  \n",
       "4   6135208568923449408    East Peoria             IL  61611.0  9402     nan  "
      ]
     },
     "execution_count": 120,
     "metadata": {},
     "output_type": "execute_result"
    }
   ],
   "source": [
    "data_infer.head()"
   ]
  },
  {
   "cell_type": "code",
   "execution_count": 121,
   "id": "b4eecfdd-4601-48db-8b56-51af91d5fb88",
   "metadata": {},
   "outputs": [
    {
     "data": {
      "text/plain": [
       "array([['1005', '0', '2013', ..., '32808.0', '3395', 'nan'],\n",
       "       ['134', '5', '2015', ..., '75706.0', '4900', 'nan'],\n",
       "       ['1270', '0', '2009', ..., '60174.0', '5812', 'nan'],\n",
       "       ...,\n",
       "       ['1436', '0', '2017', ..., '15083.0', '5411', 'nan'],\n",
       "       ['1227', '3', '2011', ..., '29525.0', '5311', 'nan'],\n",
       "       ['1309', '1', '2013', ..., '45869.0', '5912', 'nan']], dtype=object)"
      ]
     },
     "execution_count": 121,
     "metadata": {},
     "output_type": "execute_result"
    }
   ],
   "source": [
    "input_data"
   ]
  },
  {
   "cell_type": "code",
   "execution_count": 122,
   "id": "a600bfb0-7385-4d4f-a945-592e3a807517",
   "metadata": {},
   "outputs": [],
   "source": [
    "def prepare_tensor(name, input_data):\n",
    "    tensor = httpclient.InferInput(\n",
    "        name, input_data.shape, np_to_triton_dtype(input_data.dtype))\n",
    "    tensor.set_data_from_numpy(input_data)\n",
    "    return tensor"
   ]
  },
  {
   "cell_type": "code",
   "execution_count": 123,
   "id": "f9778f83-3a0c-4a7f-86b0-3069c0ee8cd4",
   "metadata": {},
   "outputs": [],
   "source": [
    "model_name = \"ensemble_preprocess_fil_postprocess\""
   ]
  },
  {
   "cell_type": "code",
   "execution_count": 124,
   "id": "a5f7f8ff-9d24-4ad2-b8cb-11c14d0554a3",
   "metadata": {},
   "outputs": [],
   "source": [
    "inputs = [prepare_tensor('raw_data', input_data)]"
   ]
  },
  {
   "cell_type": "code",
   "execution_count": 125,
   "id": "220ea11f-d2ae-4215-b670-f96d3b00ab17",
   "metadata": {},
   "outputs": [
    {
     "data": {
      "text/plain": [
       "(100, 14)"
      ]
     },
     "execution_count": 125,
     "metadata": {},
     "output_type": "execute_result"
    }
   ],
   "source": [
    "input_data.shape"
   ]
  },
  {
   "cell_type": "code",
   "execution_count": 118,
   "id": "f2e60b1f-f733-4f83-bca7-f3ca774fa9ac",
   "metadata": {},
   "outputs": [
    {
     "ename": "InferenceServerException",
     "evalue": "in ensemble 'ensemble_preprocess_fil_postprocess', unexpected shape for input 'CLASS_IDX' for model 'postprocessing'. Expected [-1,1], got [3]",
     "output_type": "error",
     "traceback": [
      "\u001b[0;31m---------------------------------------------------------------------------\u001b[0m",
      "\u001b[0;31mInferenceServerException\u001b[0m                  Traceback (most recent call last)",
      "Input \u001b[0;32mIn [118]\u001b[0m, in \u001b[0;36m<cell line: 1>\u001b[0;34m()\u001b[0m\n\u001b[0;32m----> 1\u001b[0m response \u001b[38;5;241m=\u001b[39m \u001b[43mclient\u001b[49m\u001b[38;5;241;43m.\u001b[39;49m\u001b[43minfer\u001b[49m\u001b[43m(\u001b[49m\u001b[43mmodel_name\u001b[49m\u001b[43m,\u001b[49m\n\u001b[1;32m      2\u001b[0m \u001b[43m                        \u001b[49m\u001b[43minputs\u001b[49m\u001b[43m)\u001b[49m\n",
      "File \u001b[0;32m/usr/local/lib/python3.8/dist-packages/tritonclient/http/__init__.py:1418\u001b[0m, in \u001b[0;36mInferenceServerClient.infer\u001b[0;34m(self, model_name, inputs, model_version, outputs, request_id, sequence_id, sequence_start, sequence_end, priority, timeout, headers, query_params, request_compression_algorithm, response_compression_algorithm)\u001b[0m\n\u001b[1;32m   1412\u001b[0m     request_uri \u001b[38;5;241m=\u001b[39m \u001b[38;5;124m\"\u001b[39m\u001b[38;5;124mv2/models/\u001b[39m\u001b[38;5;132;01m{}\u001b[39;00m\u001b[38;5;124m/infer\u001b[39m\u001b[38;5;124m\"\u001b[39m\u001b[38;5;241m.\u001b[39mformat(quote(model_name))\n\u001b[1;32m   1414\u001b[0m response \u001b[38;5;241m=\u001b[39m \u001b[38;5;28mself\u001b[39m\u001b[38;5;241m.\u001b[39m_post(request_uri\u001b[38;5;241m=\u001b[39mrequest_uri,\n\u001b[1;32m   1415\u001b[0m                       request_body\u001b[38;5;241m=\u001b[39mrequest_body,\n\u001b[1;32m   1416\u001b[0m                       headers\u001b[38;5;241m=\u001b[39mheaders,\n\u001b[1;32m   1417\u001b[0m                       query_params\u001b[38;5;241m=\u001b[39mquery_params)\n\u001b[0;32m-> 1418\u001b[0m \u001b[43m_raise_if_error\u001b[49m\u001b[43m(\u001b[49m\u001b[43mresponse\u001b[49m\u001b[43m)\u001b[49m\n\u001b[1;32m   1420\u001b[0m \u001b[38;5;28;01mreturn\u001b[39;00m InferResult(response, \u001b[38;5;28mself\u001b[39m\u001b[38;5;241m.\u001b[39m_verbose)\n",
      "File \u001b[0;32m/usr/local/lib/python3.8/dist-packages/tritonclient/http/__init__.py:65\u001b[0m, in \u001b[0;36m_raise_if_error\u001b[0;34m(response)\u001b[0m\n\u001b[1;32m     63\u001b[0m error \u001b[38;5;241m=\u001b[39m _get_error(response)\n\u001b[1;32m     64\u001b[0m \u001b[38;5;28;01mif\u001b[39;00m error \u001b[38;5;129;01mis\u001b[39;00m \u001b[38;5;129;01mnot\u001b[39;00m \u001b[38;5;28;01mNone\u001b[39;00m:\n\u001b[0;32m---> 65\u001b[0m     \u001b[38;5;28;01mraise\u001b[39;00m error\n",
      "\u001b[0;31mInferenceServerException\u001b[0m: in ensemble 'ensemble_preprocess_fil_postprocess', unexpected shape for input 'CLASS_IDX' for model 'postprocessing'. Expected [-1,1], got [3]"
     ]
    }
   ],
   "source": [
    "response = client.infer(model_name,\n",
    "                        inputs)"
   ]
  },
  {
   "cell_type": "code",
   "execution_count": 98,
   "id": "701052d3-5736-4e2f-8ce4-021df4c0b707",
   "metadata": {},
   "outputs": [],
   "source": [
    "output_data = response.as_numpy(\"postprocessed_predictions\")"
   ]
  },
  {
   "cell_type": "code",
   "execution_count": 99,
   "id": "b5782aa7-fd96-4bd9-9f95-463247b99731",
   "metadata": {},
   "outputs": [],
   "source": [
    "np.set_printoptions(suppress=True)"
   ]
  },
  {
   "cell_type": "code",
   "execution_count": 100,
   "id": "3baf2467-b34b-4133-943b-106cc0c69d91",
   "metadata": {},
   "outputs": [
    {
     "data": {
      "text/plain": [
       "array([[ 1005.  ,     0.  ,  2013.  ,     6.  ,     5.  ,  -180.  ,\n",
       "            2.  , 71455.  ,  8544.  ,    58.  ,  7326.  ,    21.  ,\n",
       "            0.  ,    22.  ,     3.  ],\n",
       "       [  134.  ,     5.  ,  2015.  ,     2.  ,    16.  ,    99.1 ,\n",
       "            0.  ,  2578.  , 11757.  ,   189.  , 19836.  ,    45.  ,\n",
       "            0.  ,    18.  ,    34.  ],\n",
       "       [ 1270.  ,     0.  ,  2009.  ,    11.  ,    27.  ,    82.42,\n",
       "            2.  , 29794.  , 10074.  ,    78.  , 15541.  ,    69.  ,\n",
       "            0.  ,    18.  ,    44.  ]], dtype=float32)"
      ]
     },
     "execution_count": 100,
     "metadata": {},
     "output_type": "execute_result"
    }
   ],
   "source": [
    "output_data"
   ]
  },
  {
   "cell_type": "code",
   "execution_count": 90,
   "id": "4118ed72-c2a4-4024-a5ef-bb0da39c1e1d",
   "metadata": {},
   "outputs": [
    {
     "data": {
      "text/plain": [
       "(3, 15)"
      ]
     },
     "execution_count": 90,
     "metadata": {},
     "output_type": "execute_result"
    }
   ],
   "source": [
    "output_data.shape"
   ]
  },
  {
   "cell_type": "code",
   "execution_count": 11,
   "id": "ac7ba8e8-2f6f-4a1c-b0ed-3a4ac1f52306",
   "metadata": {},
   "outputs": [],
   "source": [
    "data = pd.DataFrame(['nan'], columns=['Errors?']).astype(str)"
   ]
  },
  {
   "cell_type": "code",
   "execution_count": 13,
   "id": "e2443921-1585-4829-8563-53a0c5aec544",
   "metadata": {},
   "outputs": [
    {
     "data": {
      "text/plain": [
       "0    False\n",
       "Name: Errors?, dtype: bool"
      ]
     },
     "execution_count": 13,
     "metadata": {},
     "output_type": "execute_result"
    }
   ],
   "source": [
    "data['Errors?'] != 'nan'"
   ]
  },
  {
   "cell_type": "code",
   "execution_count": null,
   "id": "a2c1ee57-5679-47d7-ae4d-b292d73b27cb",
   "metadata": {},
   "outputs": [],
   "source": []
  },
  {
   "cell_type": "code",
   "execution_count": 86,
   "id": "af397952-9414-4267-ad4f-f2b79adf1c0e",
   "metadata": {},
   "outputs": [
    {
     "name": "stdout",
     "output_type": "stream",
     "text": [
      "[45.23]\n"
     ]
    }
   ],
   "source": [
    "print(output_data)"
   ]
  },
  {
   "cell_type": "code",
   "execution_count": 105,
   "id": "39217a1a-12e1-4999-b396-55ca0c686a3f",
   "metadata": {},
   "outputs": [],
   "source": [
    "CLASS_LABELS = ['NOT FRAUD', 'FRAUD']"
   ]
  },
  {
   "cell_type": "code",
   "execution_count": 106,
   "id": "7f73313f-6430-43e5-8a22-422376d3b570",
   "metadata": {},
   "outputs": [
    {
     "ename": "TypeError",
     "evalue": "only size-1 arrays can be converted to Python scalars",
     "output_type": "error",
     "traceback": [
      "\u001b[0;31m---------------------------------------------------------------------------\u001b[0m",
      "\u001b[0;31mTypeError\u001b[0m                                 Traceback (most recent call last)",
      "Input \u001b[0;32mIn [106]\u001b[0m, in \u001b[0;36m<cell line: 3>\u001b[0;34m()\u001b[0m\n\u001b[1;32m      1\u001b[0m class_indices \u001b[38;5;241m=\u001b[39m np\u001b[38;5;241m.\u001b[39marray([\u001b[38;5;241m1.0\u001b[39m, \u001b[38;5;241m0.0\u001b[39m, \u001b[38;5;241m1.1\u001b[39m, \u001b[38;5;241m1.1\u001b[39m])\n\u001b[1;32m      2\u001b[0m map_func \u001b[38;5;241m=\u001b[39m \u001b[38;5;28;01mlambda\u001b[39;00m idx : CLASS_LABELS[\u001b[38;5;28mint\u001b[39m(idx)]\n\u001b[0;32m----> 3\u001b[0m class_labels \u001b[38;5;241m=\u001b[39m \u001b[43mmap_func\u001b[49m\u001b[43m(\u001b[49m\u001b[43mclass_indices\u001b[49m\u001b[43m)\u001b[49m\n",
      "Input \u001b[0;32mIn [106]\u001b[0m, in \u001b[0;36m<lambda>\u001b[0;34m(idx)\u001b[0m\n\u001b[1;32m      1\u001b[0m class_indices \u001b[38;5;241m=\u001b[39m np\u001b[38;5;241m.\u001b[39marray([\u001b[38;5;241m1.0\u001b[39m, \u001b[38;5;241m0.0\u001b[39m, \u001b[38;5;241m1.1\u001b[39m, \u001b[38;5;241m1.1\u001b[39m])\n\u001b[0;32m----> 2\u001b[0m map_func \u001b[38;5;241m=\u001b[39m \u001b[38;5;28;01mlambda\u001b[39;00m idx : CLASS_LABELS[\u001b[38;5;28;43mint\u001b[39;49m\u001b[43m(\u001b[49m\u001b[43midx\u001b[49m\u001b[43m)\u001b[49m]\n\u001b[1;32m      3\u001b[0m class_labels \u001b[38;5;241m=\u001b[39m map_func(class_indices)\n",
      "\u001b[0;31mTypeError\u001b[0m: only size-1 arrays can be converted to Python scalars"
     ]
    }
   ],
   "source": [
    "class_indices = np.array([1.0, 0.0, 1.1, 1.1])\n",
    "map_func = lambda idx : CLASS_LABELS[int(idx)]\n",
    "class_labels = map_func(class_indices)"
   ]
  },
  {
   "cell_type": "code",
   "execution_count": null,
   "id": "ae55da64-da2f-4aee-83c7-711fcb72f3fc",
   "metadata": {},
   "outputs": [],
   "source": []
  }
 ],
 "metadata": {
  "kernelspec": {
   "display_name": "Python 3 (ipykernel)",
   "language": "python",
   "name": "python3"
  },
  "language_info": {
   "codemirror_mode": {
    "name": "ipython",
    "version": 3
   },
   "file_extension": ".py",
   "mimetype": "text/x-python",
   "name": "python",
   "nbconvert_exporter": "python",
   "pygments_lexer": "ipython3",
   "version": "3.8.10"
  }
 },
 "nbformat": 4,
 "nbformat_minor": 5
}
