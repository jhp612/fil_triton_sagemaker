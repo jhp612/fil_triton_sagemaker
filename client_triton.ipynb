{
 "cells": [
  {
   "cell_type": "code",
   "execution_count": 2,
   "id": "e00d1239-ec89-48fd-94e4-db6aa4fe8f81",
   "metadata": {
    "scrolled": true,
    "tags": []
   },
   "outputs": [
    {
     "name": "stdout",
     "output_type": "stream",
     "text": [
      "\u001b[33mWARNING: Running pip as the 'root' user can result in broken permissions and conflicting behaviour with the system package manager. It is recommended to use a virtual environment instead: https://pip.pypa.io/warnings/venv\u001b[0m\u001b[33m\n",
      "\u001b[0m\u001b[33mWARNING: Running pip as the 'root' user can result in broken permissions and conflicting behaviour with the system package manager. It is recommended to use a virtual environment instead: https://pip.pypa.io/warnings/venv\u001b[0m\u001b[33m\n",
      "\u001b[0m"
     ]
    }
   ],
   "source": [
    "!pip install -q tritonclient[http]\n",
    "!pip install -q pandas scikit-learn"
   ]
  },
  {
   "cell_type": "code",
   "execution_count": 3,
   "id": "0e16ccc6-d71d-4fd5-b1bd-16e0ac77981a",
   "metadata": {},
   "outputs": [],
   "source": [
    "import tritonclient.http as httpclient\n",
    "from tritonclient.utils import np_to_triton_dtype"
   ]
  },
  {
   "cell_type": "code",
   "execution_count": 4,
   "id": "43d060f7-34cf-40c3-9348-d48da0b31e59",
   "metadata": {},
   "outputs": [],
   "source": [
    "import pandas as pd\n",
    "import numpy as np\n",
    "import json"
   ]
  },
  {
   "cell_type": "code",
   "execution_count": 5,
   "id": "f42b3bfb-f601-447b-885c-1a49ac623704",
   "metadata": {},
   "outputs": [],
   "source": [
    "client = httpclient.InferenceServerClient(url='localhost:8000')"
   ]
  },
  {
   "cell_type": "code",
   "execution_count": 6,
   "id": "db69e573-1150-4943-a16d-5044abb32079",
   "metadata": {},
   "outputs": [],
   "source": [
    "data_infer = pd.read_csv(\"data_infer.csv\").astype('str')"
   ]
  },
  {
   "cell_type": "code",
   "execution_count": 7,
   "id": "ace55631-b024-42df-944c-89e9c386faf1",
   "metadata": {},
   "outputs": [],
   "source": [
    "input_data = data_infer.iloc[:4].values"
   ]
  },
  {
   "cell_type": "code",
   "execution_count": 8,
   "id": "cf797167-8463-4dc3-81c7-ab01728869f6",
   "metadata": {},
   "outputs": [
    {
     "data": {
      "text/plain": [
       "array([['1005', '0', '2013', '6', '5', '22:03', '$-180.00',\n",
       "        'Swipe Transaction', '7834055923142137930', 'Orlando', 'FL',\n",
       "        '32808.0', '3395', 'nan'],\n",
       "       ['134', '5', '2015', '2', '16', '18:34', '$99.10',\n",
       "        'Chip Transaction', '-1548923525906069124', 'Tyler', 'TX',\n",
       "        '75706.0', '4900', 'nan'],\n",
       "       ['1270', '0', '2009', '11', '27', '18:44', '$82.42',\n",
       "        'Swipe Transaction', '-7329090674102508598', 'Saint Charles',\n",
       "        'IL', '60174.0', '5812', 'nan'],\n",
       "       ['109', '0', '2010', '11', '3', '16:21', '$0.45',\n",
       "        'Swipe Transaction', '-6571010470072147219', 'Dyer', 'IN',\n",
       "        '46311.0', '5499', 'nan']], dtype=object)"
      ]
     },
     "execution_count": 8,
     "metadata": {},
     "output_type": "execute_result"
    }
   ],
   "source": [
    "input_data"
   ]
  },
  {
   "cell_type": "code",
   "execution_count": 9,
   "id": "a600bfb0-7385-4d4f-a945-592e3a807517",
   "metadata": {},
   "outputs": [],
   "source": [
    "def prepare_tensor(name, input_data):\n",
    "    tensor = httpclient.InferInput(\n",
    "        name, input_data.shape, np_to_triton_dtype(input_data.dtype))\n",
    "    tensor.set_data_from_numpy(input_data)\n",
    "    return tensor"
   ]
  },
  {
   "cell_type": "code",
   "execution_count": 24,
   "id": "b8578762-795d-41ad-acc2-1ab536e88d3f",
   "metadata": {},
   "outputs": [
    {
     "data": {
      "text/plain": [
       "dtype('O')"
      ]
     },
     "execution_count": 24,
     "metadata": {},
     "output_type": "execute_result"
    }
   ],
   "source": [
    "input_data.dtype"
   ]
  },
  {
   "cell_type": "code",
   "execution_count": 23,
   "id": "a4ec3435-ef4e-483e-8012-e4d744741b23",
   "metadata": {},
   "outputs": [
    {
     "data": {
      "text/plain": [
       "'BYTES'"
      ]
     },
     "execution_count": 23,
     "metadata": {},
     "output_type": "execute_result"
    }
   ],
   "source": [
    "np_to_triton_dtype(input_data.dtype)"
   ]
  },
  {
   "cell_type": "code",
   "execution_count": 10,
   "id": "f9778f83-3a0c-4a7f-86b0-3069c0ee8cd4",
   "metadata": {},
   "outputs": [],
   "source": [
    "model_name = \"ensemble_preprocess_fil_postprocess\""
   ]
  },
  {
   "cell_type": "code",
   "execution_count": 11,
   "id": "a5f7f8ff-9d24-4ad2-b8cb-11c14d0554a3",
   "metadata": {},
   "outputs": [],
   "source": [
    "inputs = [prepare_tensor('raw_data', input_data)]"
   ]
  },
  {
   "cell_type": "code",
   "execution_count": 12,
   "id": "220ea11f-d2ae-4215-b670-f96d3b00ab17",
   "metadata": {},
   "outputs": [
    {
     "data": {
      "text/plain": [
       "(4, 14)"
      ]
     },
     "execution_count": 12,
     "metadata": {},
     "output_type": "execute_result"
    }
   ],
   "source": [
    "input_data.shape"
   ]
  },
  {
   "cell_type": "code",
   "execution_count": null,
   "id": "07f65a4b-4b38-4ebb-906c-b15d84e62eed",
   "metadata": {},
   "outputs": [],
   "source": [
    "(4, )\n",
    "(bs, )"
   ]
  },
  {
   "cell_type": "code",
   "execution_count": 14,
   "id": "85e84476-425e-4b9b-8fc4-98b1b5035b72",
   "metadata": {},
   "outputs": [
    {
     "data": {
      "text/plain": [
       "(4,)"
      ]
     },
     "execution_count": 14,
     "metadata": {},
     "output_type": "execute_result"
    }
   ],
   "source": [
    "np.array([0, 1, 0, 0]).shape"
   ]
  },
  {
   "cell_type": "code",
   "execution_count": null,
   "id": "4a8ff54b-d1c0-4012-a8ad-e2448d4c63bd",
   "metadata": {},
   "outputs": [],
   "source": [
    "(-1, 1), (4, 1)"
   ]
  },
  {
   "cell_type": "code",
   "execution_count": 19,
   "id": "f2e60b1f-f733-4f83-bca7-f3ca774fa9ac",
   "metadata": {},
   "outputs": [],
   "source": [
    "response = client.infer(model_name,\n",
    "                        inputs)"
   ]
  },
  {
   "cell_type": "code",
   "execution_count": 20,
   "id": "701052d3-5736-4e2f-8ce4-021df4c0b707",
   "metadata": {},
   "outputs": [],
   "source": [
    "output_data = response.as_numpy(\"processed_predictions\")"
   ]
  },
  {
   "cell_type": "code",
   "execution_count": 26,
   "id": "55ccefb4-462a-4163-84c4-e2c225aceaa6",
   "metadata": {},
   "outputs": [
    {
     "data": {
      "text/plain": [
       "array([b'NOT FRAUD', b'NOT FRAUD', b'NOT FRAUD', b'NOT FRAUD'],\n",
       "      dtype=object)"
      ]
     },
     "execution_count": 26,
     "metadata": {},
     "output_type": "execute_result"
    }
   ],
   "source": [
    "output_data"
   ]
  },
  {
   "cell_type": "code",
   "execution_count": 21,
   "id": "c8b9f89e-4341-4868-809b-159e1c586608",
   "metadata": {},
   "outputs": [
    {
     "data": {
      "text/plain": [
       "(4,)"
      ]
     },
     "execution_count": 21,
     "metadata": {},
     "output_type": "execute_result"
    }
   ],
   "source": [
    "output_data.shape"
   ]
  },
  {
   "cell_type": "code",
   "execution_count": 24,
   "id": "3baf2467-b34b-4133-943b-106cc0c69d91",
   "metadata": {},
   "outputs": [
    {
     "data": {
      "text/plain": [
       "array([0., 0., 0., 0.], dtype=float32)"
      ]
     },
     "execution_count": 24,
     "metadata": {},
     "output_type": "execute_result"
    }
   ],
   "source": [
    "output_data"
   ]
  },
  {
   "cell_type": "code",
   "execution_count": 15,
   "id": "4118ed72-c2a4-4024-a5ef-bb0da39c1e1d",
   "metadata": {},
   "outputs": [
    {
     "data": {
      "text/plain": [
       "(4, 2)"
      ]
     },
     "execution_count": 15,
     "metadata": {},
     "output_type": "execute_result"
    }
   ],
   "source": [
    "output_data.shape"
   ]
  },
  {
   "cell_type": "code",
   "execution_count": 16,
   "id": "ac7ba8e8-2f6f-4a1c-b0ed-3a4ac1f52306",
   "metadata": {},
   "outputs": [],
   "source": [
    "data = pd.DataFrame(['nan'], columns=['Errors?']).astype(str)"
   ]
  },
  {
   "cell_type": "code",
   "execution_count": 13,
   "id": "e2443921-1585-4829-8563-53a0c5aec544",
   "metadata": {},
   "outputs": [
    {
     "data": {
      "text/plain": [
       "0    False\n",
       "Name: Errors?, dtype: bool"
      ]
     },
     "execution_count": 13,
     "metadata": {},
     "output_type": "execute_result"
    }
   ],
   "source": [
    "data['Errors?'] != 'nan'"
   ]
  },
  {
   "cell_type": "code",
   "execution_count": null,
   "id": "a2c1ee57-5679-47d7-ae4d-b292d73b27cb",
   "metadata": {},
   "outputs": [],
   "source": []
  },
  {
   "cell_type": "code",
   "execution_count": 86,
   "id": "af397952-9414-4267-ad4f-f2b79adf1c0e",
   "metadata": {},
   "outputs": [
    {
     "name": "stdout",
     "output_type": "stream",
     "text": [
      "[45.23]\n"
     ]
    }
   ],
   "source": [
    "print(output_data)"
   ]
  },
  {
   "cell_type": "code",
   "execution_count": 105,
   "id": "39217a1a-12e1-4999-b396-55ca0c686a3f",
   "metadata": {},
   "outputs": [],
   "source": [
    "CLASS_LABELS = ['NOT FRAUD', 'FRAUD']"
   ]
  },
  {
   "cell_type": "code",
   "execution_count": 106,
   "id": "7f73313f-6430-43e5-8a22-422376d3b570",
   "metadata": {},
   "outputs": [
    {
     "ename": "TypeError",
     "evalue": "only size-1 arrays can be converted to Python scalars",
     "output_type": "error",
     "traceback": [
      "\u001b[0;31m---------------------------------------------------------------------------\u001b[0m",
      "\u001b[0;31mTypeError\u001b[0m                                 Traceback (most recent call last)",
      "Input \u001b[0;32mIn [106]\u001b[0m, in \u001b[0;36m<cell line: 3>\u001b[0;34m()\u001b[0m\n\u001b[1;32m      1\u001b[0m class_indices \u001b[38;5;241m=\u001b[39m np\u001b[38;5;241m.\u001b[39marray([\u001b[38;5;241m1.0\u001b[39m, \u001b[38;5;241m0.0\u001b[39m, \u001b[38;5;241m1.1\u001b[39m, \u001b[38;5;241m1.1\u001b[39m])\n\u001b[1;32m      2\u001b[0m map_func \u001b[38;5;241m=\u001b[39m \u001b[38;5;28;01mlambda\u001b[39;00m idx : CLASS_LABELS[\u001b[38;5;28mint\u001b[39m(idx)]\n\u001b[0;32m----> 3\u001b[0m class_labels \u001b[38;5;241m=\u001b[39m \u001b[43mmap_func\u001b[49m\u001b[43m(\u001b[49m\u001b[43mclass_indices\u001b[49m\u001b[43m)\u001b[49m\n",
      "Input \u001b[0;32mIn [106]\u001b[0m, in \u001b[0;36m<lambda>\u001b[0;34m(idx)\u001b[0m\n\u001b[1;32m      1\u001b[0m class_indices \u001b[38;5;241m=\u001b[39m np\u001b[38;5;241m.\u001b[39marray([\u001b[38;5;241m1.0\u001b[39m, \u001b[38;5;241m0.0\u001b[39m, \u001b[38;5;241m1.1\u001b[39m, \u001b[38;5;241m1.1\u001b[39m])\n\u001b[0;32m----> 2\u001b[0m map_func \u001b[38;5;241m=\u001b[39m \u001b[38;5;28;01mlambda\u001b[39;00m idx : CLASS_LABELS[\u001b[38;5;28;43mint\u001b[39;49m\u001b[43m(\u001b[49m\u001b[43midx\u001b[49m\u001b[43m)\u001b[49m]\n\u001b[1;32m      3\u001b[0m class_labels \u001b[38;5;241m=\u001b[39m map_func(class_indices)\n",
      "\u001b[0;31mTypeError\u001b[0m: only size-1 arrays can be converted to Python scalars"
     ]
    }
   ],
   "source": [
    "class_indices = np.array([1.0, 0.0, 1.1, 1.1])\n",
    "map_func = lambda idx : CLASS_LABELS[int(idx)]\n",
    "class_labels = map_func(class_indices)"
   ]
  },
  {
   "cell_type": "code",
   "execution_count": null,
   "id": "ae55da64-da2f-4aee-83c7-711fcb72f3fc",
   "metadata": {},
   "outputs": [],
   "source": []
  }
 ],
 "metadata": {
  "kernelspec": {
   "display_name": "Python 3 (ipykernel)",
   "language": "python",
   "name": "python3"
  },
  "language_info": {
   "codemirror_mode": {
    "name": "ipython",
    "version": 3
   },
   "file_extension": ".py",
   "mimetype": "text/x-python",
   "name": "python",
   "nbconvert_exporter": "python",
   "pygments_lexer": "ipython3",
   "version": "3.8.10"
  }
 },
 "nbformat": 4,
 "nbformat_minor": 5
}
