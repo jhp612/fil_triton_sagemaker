{
 "cells": [
  {
   "cell_type": "code",
   "execution_count": 1,
   "id": "e00d1239-ec89-48fd-94e4-db6aa4fe8f81",
   "metadata": {
    "scrolled": true,
    "tags": []
   },
   "outputs": [
    {
     "name": "stdout",
     "output_type": "stream",
     "text": [
      "Requirement already satisfied: tritonclient[http] in /usr/local/lib/python3.8/dist-packages (2.22.4)\n",
      "Requirement already satisfied: python-rapidjson>=0.9.1 in /usr/local/lib/python3.8/dist-packages (from tritonclient[http]) (1.6)\n",
      "Requirement already satisfied: numpy>=1.19.1 in /usr/local/lib/python3.8/dist-packages (from tritonclient[http]) (1.22.4)\n",
      "Requirement already satisfied: geventhttpclient>=1.4.4 in /usr/local/lib/python3.8/dist-packages (from tritonclient[http]) (1.5.4)\n",
      "Requirement already satisfied: brotli in /usr/local/lib/python3.8/dist-packages (from geventhttpclient>=1.4.4->tritonclient[http]) (1.0.9)\n",
      "Requirement already satisfied: gevent>=0.13 in /usr/local/lib/python3.8/dist-packages (from geventhttpclient>=1.4.4->tritonclient[http]) (21.12.0)\n",
      "Requirement already satisfied: six in /usr/lib/python3/dist-packages (from geventhttpclient>=1.4.4->tritonclient[http]) (1.14.0)\n",
      "Requirement already satisfied: certifi in /usr/lib/python3/dist-packages (from geventhttpclient>=1.4.4->tritonclient[http]) (2019.11.28)\n",
      "Requirement already satisfied: greenlet<2.0,>=1.1.0 in /usr/local/lib/python3.8/dist-packages (from gevent>=0.13->geventhttpclient>=1.4.4->tritonclient[http]) (1.1.2)\n",
      "Requirement already satisfied: zope.interface in /usr/local/lib/python3.8/dist-packages (from gevent>=0.13->geventhttpclient>=1.4.4->tritonclient[http]) (5.4.0)\n",
      "Requirement already satisfied: zope.event in /usr/local/lib/python3.8/dist-packages (from gevent>=0.13->geventhttpclient>=1.4.4->tritonclient[http]) (4.5.0)\n",
      "Requirement already satisfied: setuptools in /usr/local/lib/python3.8/dist-packages (from gevent>=0.13->geventhttpclient>=1.4.4->tritonclient[http]) (62.3.2)\n",
      "\u001b[33mWARNING: Running pip as the 'root' user can result in broken permissions and conflicting behaviour with the system package manager. It is recommended to use a virtual environment instead: https://pip.pypa.io/warnings/venv\u001b[0m\u001b[33m\n",
      "\u001b[0m\u001b[33mWARNING: There was an error checking the latest version of pip.\u001b[0m\u001b[33m\n",
      "\u001b[0m"
     ]
    }
   ],
   "source": [
    "!pip install -q tritonclient[http]\n",
    "!pip install -q pandas scikit-learn"
   ]
  },
  {
   "cell_type": "code",
   "execution_count": 1,
   "id": "7c442af8-698c-45e9-8e15-53fea4454b78",
   "metadata": {},
   "outputs": [],
   "source": [
    "import triton_python_backend_utils as pb_utils"
   ]
  },
  {
   "cell_type": "code",
   "execution_count": 2,
   "id": "0e16ccc6-d71d-4fd5-b1bd-16e0ac77981a",
   "metadata": {},
   "outputs": [],
   "source": [
    "import tritonclient.http as httpclient\n",
    "from tritonclient.utils import np_to_triton_dtype"
   ]
  },
  {
   "cell_type": "code",
   "execution_count": 3,
   "id": "43d060f7-34cf-40c3-9348-d48da0b31e59",
   "metadata": {},
   "outputs": [],
   "source": [
    "import pandas as pd\n",
    "import numpy as np\n",
    "import json"
   ]
  },
  {
   "cell_type": "code",
   "execution_count": 67,
   "id": "f0b2059c-3889-4f82-b128-c5db775c309b",
   "metadata": {},
   "outputs": [],
   "source": [
    "amount = np.array([['$45.23']]).astype('object')"
   ]
  },
  {
   "cell_type": "code",
   "execution_count": 68,
   "id": "f42b3bfb-f601-447b-885c-1a49ac623704",
   "metadata": {},
   "outputs": [],
   "source": [
    "client = httpclient.InferenceServerClient(url='localhost:8000')"
   ]
  },
  {
   "cell_type": "code",
   "execution_count": 69,
   "id": "a600bfb0-7385-4d4f-a945-592e3a807517",
   "metadata": {},
   "outputs": [],
   "source": [
    "def prepare_tensor(name, input_data):\n",
    "    tensor = httpclient.InferInput(\n",
    "        name, input_data.shape, np_to_triton_dtype(input_data.dtype))\n",
    "    tensor.set_data_from_numpy(input_data)\n",
    "    return tensor"
   ]
  },
  {
   "cell_type": "code",
   "execution_count": 70,
   "id": "f9778f83-3a0c-4a7f-86b0-3069c0ee8cd4",
   "metadata": {},
   "outputs": [],
   "source": [
    "model_name = \"preprocessing\""
   ]
  },
  {
   "cell_type": "code",
   "execution_count": 71,
   "id": "a5f7f8ff-9d24-4ad2-b8cb-11c14d0554a3",
   "metadata": {},
   "outputs": [],
   "source": [
    "inputs = [prepare_tensor('AMOUNT', amount)]"
   ]
  },
  {
   "cell_type": "code",
   "execution_count": 72,
   "id": "97150d0b-eb8c-4402-8b26-5a4364b925f2",
   "metadata": {},
   "outputs": [],
   "source": [
    "outputs = [\n",
    "    httpclient.InferRequestedOutput(\"AMOUNT\")\n",
    "]"
   ]
  },
  {
   "cell_type": "code",
   "execution_count": 84,
   "id": "f2e60b1f-f733-4f83-bca7-f3ca774fa9ac",
   "metadata": {},
   "outputs": [],
   "source": [
    "response = client.infer(model_name,\n",
    "                        inputs)"
   ]
  },
  {
   "cell_type": "code",
   "execution_count": 85,
   "id": "a2c1ee57-5679-47d7-ae4d-b292d73b27cb",
   "metadata": {},
   "outputs": [],
   "source": [
    "output0_data = response.as_numpy(\"AMOUNT\")"
   ]
  },
  {
   "cell_type": "code",
   "execution_count": 86,
   "id": "af397952-9414-4267-ad4f-f2b79adf1c0e",
   "metadata": {},
   "outputs": [
    {
     "name": "stdout",
     "output_type": "stream",
     "text": [
      "[45.23]\n"
     ]
    }
   ],
   "source": [
    "print(output0_data)"
   ]
  },
  {
   "cell_type": "code",
   "execution_count": null,
   "id": "7f73313f-6430-43e5-8a22-422376d3b570",
   "metadata": {},
   "outputs": [],
   "source": []
  }
 ],
 "metadata": {
  "kernelspec": {
   "display_name": "Python 3 (ipykernel)",
   "language": "python",
   "name": "python3"
  },
  "language_info": {
   "codemirror_mode": {
    "name": "ipython",
    "version": 3
   },
   "file_extension": ".py",
   "mimetype": "text/x-python",
   "name": "python",
   "nbconvert_exporter": "python",
   "pygments_lexer": "ipython3",
   "version": "3.8.10"
  }
 },
 "nbformat": 4,
 "nbformat_minor": 5
}
