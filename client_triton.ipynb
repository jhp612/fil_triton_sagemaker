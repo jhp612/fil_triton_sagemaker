{
 "cells": [
  {
   "cell_type": "code",
   "execution_count": 1,
   "id": "cd27cfe9",
   "metadata": {
    "scrolled": true,
    "tags": []
   },
   "outputs": [],
   "source": [
    "!pip install -q tritonclient[http]\n",
    "!pip install -q pandas scikit-learn"
   ]
  },
  {
   "cell_type": "code",
   "execution_count": 2,
   "id": "aa9b211d",
   "metadata": {},
   "outputs": [],
   "source": [
    "import tritonclient.http as httpclient\n",
    "from tritonclient.utils import np_to_triton_dtype"
   ]
  },
  {
   "cell_type": "code",
   "execution_count": 3,
   "id": "2525ddbb",
   "metadata": {},
   "outputs": [],
   "source": [
    "import pandas as pd\n",
    "import numpy as np\n",
    "import json"
   ]
  },
  {
   "cell_type": "code",
   "execution_count": 4,
   "id": "596bdf95",
   "metadata": {},
   "outputs": [],
   "source": [
    "client = httpclient.InferenceServerClient(url='localhost:8000')"
   ]
  },
  {
   "cell_type": "code",
   "execution_count": 5,
   "id": "ddb121ef",
   "metadata": {},
   "outputs": [],
   "source": [
    "data_infer = pd.read_csv(\"data_infer.csv\").astype('str')"
   ]
  },
  {
   "cell_type": "code",
   "execution_count": 6,
   "id": "d9458da7",
   "metadata": {},
   "outputs": [
    {
     "data": {
      "text/html": [
       "<div>\n",
       "<style scoped>\n",
       "    .dataframe tbody tr th:only-of-type {\n",
       "        vertical-align: middle;\n",
       "    }\n",
       "\n",
       "    .dataframe tbody tr th {\n",
       "        vertical-align: top;\n",
       "    }\n",
       "\n",
       "    .dataframe thead th {\n",
       "        text-align: right;\n",
       "    }\n",
       "</style>\n",
       "<table border=\"1\" class=\"dataframe\">\n",
       "  <thead>\n",
       "    <tr style=\"text-align: right;\">\n",
       "      <th></th>\n",
       "      <th>User</th>\n",
       "      <th>Card</th>\n",
       "      <th>Year</th>\n",
       "      <th>Month</th>\n",
       "      <th>Day</th>\n",
       "      <th>Time</th>\n",
       "      <th>Amount</th>\n",
       "      <th>Use Chip</th>\n",
       "      <th>Merchant Name</th>\n",
       "      <th>Merchant City</th>\n",
       "      <th>Merchant State</th>\n",
       "      <th>Zip</th>\n",
       "      <th>MCC</th>\n",
       "      <th>Errors?</th>\n",
       "    </tr>\n",
       "  </thead>\n",
       "  <tbody>\n",
       "    <tr>\n",
       "      <th>0</th>\n",
       "      <td>1005</td>\n",
       "      <td>0</td>\n",
       "      <td>2013</td>\n",
       "      <td>6</td>\n",
       "      <td>5</td>\n",
       "      <td>22:03</td>\n",
       "      <td>$-180.00</td>\n",
       "      <td>Swipe Transaction</td>\n",
       "      <td>7834055923142137930</td>\n",
       "      <td>Orlando</td>\n",
       "      <td>FL</td>\n",
       "      <td>32808.0</td>\n",
       "      <td>3395</td>\n",
       "      <td>nan</td>\n",
       "    </tr>\n",
       "    <tr>\n",
       "      <th>1</th>\n",
       "      <td>134</td>\n",
       "      <td>5</td>\n",
       "      <td>2015</td>\n",
       "      <td>2</td>\n",
       "      <td>16</td>\n",
       "      <td>18:34</td>\n",
       "      <td>$99.10</td>\n",
       "      <td>Chip Transaction</td>\n",
       "      <td>-1548923525906069124</td>\n",
       "      <td>Tyler</td>\n",
       "      <td>TX</td>\n",
       "      <td>75706.0</td>\n",
       "      <td>4900</td>\n",
       "      <td>nan</td>\n",
       "    </tr>\n",
       "    <tr>\n",
       "      <th>2</th>\n",
       "      <td>1270</td>\n",
       "      <td>0</td>\n",
       "      <td>2009</td>\n",
       "      <td>11</td>\n",
       "      <td>27</td>\n",
       "      <td>18:44</td>\n",
       "      <td>$82.42</td>\n",
       "      <td>Swipe Transaction</td>\n",
       "      <td>-7329090674102508598</td>\n",
       "      <td>Saint Charles</td>\n",
       "      <td>IL</td>\n",
       "      <td>60174.0</td>\n",
       "      <td>5812</td>\n",
       "      <td>nan</td>\n",
       "    </tr>\n",
       "    <tr>\n",
       "      <th>3</th>\n",
       "      <td>109</td>\n",
       "      <td>0</td>\n",
       "      <td>2010</td>\n",
       "      <td>11</td>\n",
       "      <td>3</td>\n",
       "      <td>16:21</td>\n",
       "      <td>$0.45</td>\n",
       "      <td>Swipe Transaction</td>\n",
       "      <td>-6571010470072147219</td>\n",
       "      <td>Dyer</td>\n",
       "      <td>IN</td>\n",
       "      <td>46311.0</td>\n",
       "      <td>5499</td>\n",
       "      <td>nan</td>\n",
       "    </tr>\n",
       "    <tr>\n",
       "      <th>4</th>\n",
       "      <td>1853</td>\n",
       "      <td>2</td>\n",
       "      <td>2006</td>\n",
       "      <td>3</td>\n",
       "      <td>27</td>\n",
       "      <td>12:25</td>\n",
       "      <td>$11.41</td>\n",
       "      <td>Swipe Transaction</td>\n",
       "      <td>6135208568923449408</td>\n",
       "      <td>East Peoria</td>\n",
       "      <td>IL</td>\n",
       "      <td>61611.0</td>\n",
       "      <td>9402</td>\n",
       "      <td>nan</td>\n",
       "    </tr>\n",
       "  </tbody>\n",
       "</table>\n",
       "</div>"
      ],
      "text/plain": [
       "   User Card  Year Month Day   Time    Amount           Use Chip  \\\n",
       "0  1005    0  2013     6   5  22:03  $-180.00  Swipe Transaction   \n",
       "1   134    5  2015     2  16  18:34    $99.10   Chip Transaction   \n",
       "2  1270    0  2009    11  27  18:44    $82.42  Swipe Transaction   \n",
       "3   109    0  2010    11   3  16:21     $0.45  Swipe Transaction   \n",
       "4  1853    2  2006     3  27  12:25    $11.41  Swipe Transaction   \n",
       "\n",
       "          Merchant Name  Merchant City Merchant State      Zip   MCC Errors?  \n",
       "0   7834055923142137930        Orlando             FL  32808.0  3395     nan  \n",
       "1  -1548923525906069124          Tyler             TX  75706.0  4900     nan  \n",
       "2  -7329090674102508598  Saint Charles             IL  60174.0  5812     nan  \n",
       "3  -6571010470072147219           Dyer             IN  46311.0  5499     nan  \n",
       "4   6135208568923449408    East Peoria             IL  61611.0  9402     nan  "
      ]
     },
     "execution_count": 6,
     "metadata": {},
     "output_type": "execute_result"
    }
   ],
   "source": [
    "data_infer.head()"
   ]
  },
  {
   "cell_type": "code",
   "execution_count": 17,
   "id": "d051224a",
   "metadata": {},
   "outputs": [],
   "source": [
    "input_data = data_infer.iloc[:4].values"
   ]
  },
  {
   "cell_type": "code",
   "execution_count": 18,
   "id": "c407133e",
   "metadata": {},
   "outputs": [],
   "source": [
    "def prepare_tensor(name, input_data):\n",
    "    tensor = httpclient.InferInput(\n",
    "        name, input_data.shape, np_to_triton_dtype(input_data.dtype))\n",
    "    tensor.set_data_from_numpy(input_data)\n",
    "    return tensor"
   ]
  },
  {
   "cell_type": "code",
   "execution_count": 24,
   "id": "96b492bc",
   "metadata": {},
   "outputs": [],
   "source": [
    "model_name = \"ensemble_preprocess_fil_postprocess\""
   ]
  },
  {
   "cell_type": "code",
   "execution_count": 25,
   "id": "6265d1da",
   "metadata": {},
   "outputs": [],
   "source": [
    "inputs = [prepare_tensor('raw_data', input_data)]"
   ]
  },
  {
   "cell_type": "code",
   "execution_count": 26,
   "id": "a108b09d",
   "metadata": {},
   "outputs": [],
   "source": [
    "response = client.infer(model_name,\n",
    "                        inputs)"
   ]
  },
  {
   "cell_type": "code",
   "execution_count": 27,
   "id": "844cbb6d",
   "metadata": {},
   "outputs": [],
   "source": [
    "output_data = response.as_numpy(\"processed_predictions\")"
   ]
  },
  {
   "cell_type": "code",
   "execution_count": 28,
   "id": "32e91f77",
   "metadata": {},
   "outputs": [
    {
     "data": {
      "text/plain": [
       "array(['NOT FRAUD', 'NOT FRAUD', 'NOT FRAUD', 'NOT FRAUD'], dtype='<U9')"
      ]
     },
     "execution_count": 28,
     "metadata": {},
     "output_type": "execute_result"
    }
   ],
   "source": [
    "output_data.astype(str)"
   ]
  },
  {
   "cell_type": "code",
   "execution_count": null,
   "id": "2b53bfa4",
   "metadata": {},
   "outputs": [],
   "source": []
  }
 ],
 "metadata": {
  "kernelspec": {
   "display_name": "conda_python3",
   "language": "python",
   "name": "conda_python3"
  },
  "language_info": {
   "codemirror_mode": {
    "name": "ipython",
    "version": 3
   },
   "file_extension": ".py",
   "mimetype": "text/x-python",
   "name": "python",
   "nbconvert_exporter": "python",
   "pygments_lexer": "ipython3",
   "version": "3.8.12"
  }
 },
 "nbformat": 4,
 "nbformat_minor": 5
}
