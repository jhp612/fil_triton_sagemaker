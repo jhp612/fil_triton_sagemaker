{
 "cells": [
  {
   "cell_type": "markdown",
   "id": "ea461e9b",
   "metadata": {},
   "source": [
    "# Data Preprocessing using RAPIDS and Training XGBoost for Fraud Detection"
   ]
  },
  {
   "cell_type": "markdown",
   "id": "a0f59541",
   "metadata": {},
   "source": [
    "In this notebook we will walk through using RAPIDS for GPU-accelerated data preprocessing and training of XGBoost model for Fraud Detection use-case."
   ]
  },
  {
   "cell_type": "markdown",
   "id": "02362bcd",
   "metadata": {},
   "source": [
    "## Get Data"
   ]
  },
  {
   "cell_type": "markdown",
   "id": "6e6b3936",
   "metadata": {},
   "source": [
    "For this example, we use a [synthetic credit card transactions dataset](https://arxiv.org/abs/1910.03033) available on [Kaggle](https://www.kaggle.com/datasets/ealtman2019/credit-card-transactions). You can either directly download the dataset from this [Kaggle link](https://www.kaggle.com/datasets/ealtman2019/credit-card-transactions) and then upload it to your SageMaker notebook instance. Or you may fetch the data from Kaggle command line client using the following commands.\n",
    "\n",
    "**NOTE:** You will need to make sure that your Kaggle credentials are [available](https://github.com/Kaggle/kaggle-api#api-credentials) either through a kaggle.json file or via environment variables."
   ]
  },
  {
   "cell_type": "code",
   "execution_count": 2,
   "id": "30859401",
   "metadata": {},
   "outputs": [
    {
     "name": "stdout",
     "output_type": "stream",
     "text": [
      "^C\n",
      "\u001b[31mERROR: Operation cancelled by user\u001b[0m\u001b[31m\n",
      "\u001b[0m"
     ]
    }
   ],
   "source": [
    "!pip install -q kaggle"
   ]
  },
  {
   "cell_type": "code",
   "execution_count": 3,
   "id": "e38dc436",
   "metadata": {},
   "outputs": [
    {
     "name": "stdout",
     "output_type": "stream",
     "text": [
      "/bin/sh: kaggle: command not found\n"
     ]
    }
   ],
   "source": [
    "!kaggle datasets download -d ealtman2019/credit-card-transactions"
   ]
  },
  {
   "cell_type": "code",
   "execution_count": 4,
   "id": "c23d626a",
   "metadata": {},
   "outputs": [
    {
     "name": "stdout",
     "output_type": "stream",
     "text": [
      "Archive:  credit-card-transactions.zip\n"
     ]
    }
   ],
   "source": [
    "!unzip -u credit-card-transactions.zip"
   ]
  },
  {
   "cell_type": "markdown",
   "id": "d1f5ccf6",
   "metadata": {},
   "source": [
    "## Data Preprocessing"
   ]
  },
  {
   "cell_type": "code",
   "execution_count": 1,
   "id": "f1565621",
   "metadata": {},
   "outputs": [],
   "source": [
    "import cudf\n",
    "import cuml\n",
    "from cuml.preprocessing import LabelEncoder\n",
    "import numpy as np\n",
    "import pickle\n",
    "import os"
   ]
  },
  {
   "cell_type": "code",
   "execution_count": 2,
   "id": "9d11d392",
   "metadata": {},
   "outputs": [],
   "source": [
    "data_path = './'"
   ]
  },
  {
   "cell_type": "code",
   "execution_count": 3,
   "id": "9d6da187",
   "metadata": {},
   "outputs": [],
   "source": [
    "data_csv = 'credit_card_transactions-ibm_v2.csv'"
   ]
  },
  {
   "cell_type": "code",
   "execution_count": 4,
   "id": "c6ca08e1",
   "metadata": {},
   "outputs": [],
   "source": [
    "data = cudf.read_csv(os.path.join(data_path, data_csv))"
   ]
  },
  {
   "cell_type": "code",
   "execution_count": 5,
   "id": "d5c57a99",
   "metadata": {},
   "outputs": [
    {
     "data": {
      "text/html": [
       "<div>\n",
       "<style scoped>\n",
       "    .dataframe tbody tr th:only-of-type {\n",
       "        vertical-align: middle;\n",
       "    }\n",
       "\n",
       "    .dataframe tbody tr th {\n",
       "        vertical-align: top;\n",
       "    }\n",
       "\n",
       "    .dataframe thead th {\n",
       "        text-align: right;\n",
       "    }\n",
       "</style>\n",
       "<table border=\"1\" class=\"dataframe\">\n",
       "  <thead>\n",
       "    <tr style=\"text-align: right;\">\n",
       "      <th></th>\n",
       "      <th>User</th>\n",
       "      <th>Card</th>\n",
       "      <th>Year</th>\n",
       "      <th>Month</th>\n",
       "      <th>Day</th>\n",
       "      <th>Time</th>\n",
       "      <th>Amount</th>\n",
       "      <th>Use Chip</th>\n",
       "      <th>Merchant Name</th>\n",
       "      <th>Merchant City</th>\n",
       "      <th>Merchant State</th>\n",
       "      <th>Zip</th>\n",
       "      <th>MCC</th>\n",
       "      <th>Errors?</th>\n",
       "      <th>Is Fraud?</th>\n",
       "    </tr>\n",
       "  </thead>\n",
       "  <tbody>\n",
       "    <tr>\n",
       "      <th>0</th>\n",
       "      <td>0</td>\n",
       "      <td>0</td>\n",
       "      <td>2002</td>\n",
       "      <td>9</td>\n",
       "      <td>1</td>\n",
       "      <td>06:21</td>\n",
       "      <td>$134.09</td>\n",
       "      <td>Swipe Transaction</td>\n",
       "      <td>3527213246127876953</td>\n",
       "      <td>La Verne</td>\n",
       "      <td>CA</td>\n",
       "      <td>91750.0</td>\n",
       "      <td>5300</td>\n",
       "      <td>&lt;NA&gt;</td>\n",
       "      <td>No</td>\n",
       "    </tr>\n",
       "    <tr>\n",
       "      <th>1</th>\n",
       "      <td>0</td>\n",
       "      <td>0</td>\n",
       "      <td>2002</td>\n",
       "      <td>9</td>\n",
       "      <td>1</td>\n",
       "      <td>06:42</td>\n",
       "      <td>$38.48</td>\n",
       "      <td>Swipe Transaction</td>\n",
       "      <td>-727612092139916043</td>\n",
       "      <td>Monterey Park</td>\n",
       "      <td>CA</td>\n",
       "      <td>91754.0</td>\n",
       "      <td>5411</td>\n",
       "      <td>&lt;NA&gt;</td>\n",
       "      <td>No</td>\n",
       "    </tr>\n",
       "    <tr>\n",
       "      <th>2</th>\n",
       "      <td>0</td>\n",
       "      <td>0</td>\n",
       "      <td>2002</td>\n",
       "      <td>9</td>\n",
       "      <td>2</td>\n",
       "      <td>06:22</td>\n",
       "      <td>$120.34</td>\n",
       "      <td>Swipe Transaction</td>\n",
       "      <td>-727612092139916043</td>\n",
       "      <td>Monterey Park</td>\n",
       "      <td>CA</td>\n",
       "      <td>91754.0</td>\n",
       "      <td>5411</td>\n",
       "      <td>&lt;NA&gt;</td>\n",
       "      <td>No</td>\n",
       "    </tr>\n",
       "    <tr>\n",
       "      <th>3</th>\n",
       "      <td>0</td>\n",
       "      <td>0</td>\n",
       "      <td>2002</td>\n",
       "      <td>9</td>\n",
       "      <td>2</td>\n",
       "      <td>17:45</td>\n",
       "      <td>$128.95</td>\n",
       "      <td>Swipe Transaction</td>\n",
       "      <td>3414527459579106770</td>\n",
       "      <td>Monterey Park</td>\n",
       "      <td>CA</td>\n",
       "      <td>91754.0</td>\n",
       "      <td>5651</td>\n",
       "      <td>&lt;NA&gt;</td>\n",
       "      <td>No</td>\n",
       "    </tr>\n",
       "    <tr>\n",
       "      <th>4</th>\n",
       "      <td>0</td>\n",
       "      <td>0</td>\n",
       "      <td>2002</td>\n",
       "      <td>9</td>\n",
       "      <td>3</td>\n",
       "      <td>06:23</td>\n",
       "      <td>$104.71</td>\n",
       "      <td>Swipe Transaction</td>\n",
       "      <td>5817218446178736267</td>\n",
       "      <td>La Verne</td>\n",
       "      <td>CA</td>\n",
       "      <td>91750.0</td>\n",
       "      <td>5912</td>\n",
       "      <td>&lt;NA&gt;</td>\n",
       "      <td>No</td>\n",
       "    </tr>\n",
       "  </tbody>\n",
       "</table>\n",
       "</div>"
      ],
      "text/plain": [
       "   User  Card  Year  Month  Day   Time   Amount           Use Chip  \\\n",
       "0     0     0  2002      9    1  06:21  $134.09  Swipe Transaction   \n",
       "1     0     0  2002      9    1  06:42   $38.48  Swipe Transaction   \n",
       "2     0     0  2002      9    2  06:22  $120.34  Swipe Transaction   \n",
       "3     0     0  2002      9    2  17:45  $128.95  Swipe Transaction   \n",
       "4     0     0  2002      9    3  06:23  $104.71  Swipe Transaction   \n",
       "\n",
       "         Merchant Name  Merchant City Merchant State      Zip   MCC Errors?  \\\n",
       "0  3527213246127876953       La Verne             CA  91750.0  5300    <NA>   \n",
       "1  -727612092139916043  Monterey Park             CA  91754.0  5411    <NA>   \n",
       "2  -727612092139916043  Monterey Park             CA  91754.0  5411    <NA>   \n",
       "3  3414527459579106770  Monterey Park             CA  91754.0  5651    <NA>   \n",
       "4  5817218446178736267       La Verne             CA  91750.0  5912    <NA>   \n",
       "\n",
       "  Is Fraud?  \n",
       "0        No  \n",
       "1        No  \n",
       "2        No  \n",
       "3        No  \n",
       "4        No  "
      ]
     },
     "execution_count": 5,
     "metadata": {},
     "output_type": "execute_result"
    }
   ],
   "source": [
    "data.head()"
   ]
  },
  {
   "cell_type": "code",
   "execution_count": 6,
   "id": "fc3a424c",
   "metadata": {},
   "outputs": [
    {
     "data": {
      "text/plain": [
       "(24386900, 15)"
      ]
     },
     "execution_count": 6,
     "metadata": {},
     "output_type": "execute_result"
    }
   ],
   "source": [
    "data.shape"
   ]
  },
  {
   "cell_type": "code",
   "execution_count": 7,
   "id": "28e5eb59",
   "metadata": {},
   "outputs": [],
   "source": [
    "data['Zip'] = data['Zip'].astype('object')\n",
    "data['MCC'] = data['MCC'].astype('object')\n",
    "data[\"Merchant Name\"] = data[\"Merchant Name\"].astype(\"object\")"
   ]
  },
  {
   "cell_type": "code",
   "execution_count": 8,
   "id": "d16e153c",
   "metadata": {},
   "outputs": [],
   "source": [
    "SEED = 42\n",
    "data = data.sample(frac=0.5, random_state=SEED)\n",
    "data = data.reset_index(drop=True)"
   ]
  },
  {
   "cell_type": "code",
   "execution_count": 9,
   "id": "a6c46db1",
   "metadata": {},
   "outputs": [
    {
     "data": {
      "text/plain": [
       "(12193450, 15)"
      ]
     },
     "execution_count": 9,
     "metadata": {},
     "output_type": "execute_result"
    }
   ],
   "source": [
    "data.shape"
   ]
  },
  {
   "cell_type": "markdown",
   "id": "07c909d2",
   "metadata": {},
   "source": [
    "### Encode labels\n"
   ]
  },
  {
   "cell_type": "code",
   "execution_count": 10,
   "id": "8c8d39bd",
   "metadata": {},
   "outputs": [],
   "source": [
    "y = data['Is Fraud?']\n",
    "data.drop(columns=['Is Fraud?'], inplace=True)\n",
    "y = (y == \"Yes\").astype(int)"
   ]
  },
  {
   "cell_type": "markdown",
   "id": "0b733a2f",
   "metadata": {},
   "source": [
    "### Save subset for inference"
   ]
  },
  {
   "cell_type": "markdown",
   "id": "1d12c1e6",
   "metadata": {},
   "source": [
    "We will save a subset of data to submit inference requests for later on in the second notebook."
   ]
  },
  {
   "cell_type": "code",
   "execution_count": 11,
   "id": "588424c4",
   "metadata": {},
   "outputs": [],
   "source": [
    "data_infer = data.iloc[258:263]\n",
    "data_infer.to_csv('data_infer.csv', index=False)"
   ]
  },
  {
   "cell_type": "markdown",
   "id": "962fe5ea",
   "metadata": {},
   "source": [
    "### Handle Missing Values"
   ]
  },
  {
   "cell_type": "code",
   "execution_count": 17,
   "id": "e854c42a",
   "metadata": {},
   "outputs": [
    {
     "data": {
      "text/plain": [
       "User               0.000000\n",
       "Card               0.000000\n",
       "Year               0.000000\n",
       "Month              0.000000\n",
       "Day                0.000000\n",
       "Time               0.000000\n",
       "Amount             0.000000\n",
       "Use Chip           0.000000\n",
       "Merchant Name      0.000000\n",
       "Merchant City      0.000000\n",
       "Merchant State    11.159934\n",
       "Zip               11.804764\n",
       "MCC                0.000000\n",
       "Errors?           98.408834\n",
       "dtype: float64"
      ]
     },
     "execution_count": 17,
     "metadata": {},
     "output_type": "execute_result"
    }
   ],
   "source": [
    "data.isna().sum()/len(data) * 100"
   ]
  },
  {
   "cell_type": "code",
   "execution_count": 18,
   "id": "e600c0d7",
   "metadata": {},
   "outputs": [],
   "source": [
    "data.loc[data[\"Merchant City\"]==\"ONLINE\", \"Merchant State\"] = \"ONLINE\" \n",
    "data.loc[data[\"Merchant City\"]==\"ONLINE\", \"Zip\"] = \"ONLINE\" "
   ]
  },
  {
   "cell_type": "code",
   "execution_count": 19,
   "id": "27ae45ed",
   "metadata": {},
   "outputs": [],
   "source": [
    "data['Errors?'] = data['Errors?'].notna().astype(int)"
   ]
  },
  {
   "cell_type": "code",
   "execution_count": 20,
   "id": "7a78ac5e",
   "metadata": {},
   "outputs": [],
   "source": [
    "us_states_plus_online = ['AK', 'AL', 'AR', 'AZ', 'CA', 'CO', 'CT', 'DC', 'DE', 'FL', 'GA',\n",
    "           'HI', 'IA', 'ID', 'IL', 'IN', 'KS', 'KY', 'LA', 'MA', 'MD', 'ME',\n",
    "           'MI', 'MN', 'MO', 'MS', 'MT', 'NC', 'ND', 'NE', 'NH', 'NJ', 'NM',\n",
    "           'NV', 'NY', 'OH', 'OK', 'OR', 'PA', 'RI', 'SC', 'SD', 'TN', 'TX',\n",
    "           'UT', 'VA', 'VT', 'WA', 'WI', 'WV', 'WY', 'ONLINE']\n",
    "\n",
    "data.loc[~data[\"Merchant State\"].isin(us_states_plus_online), \"Zip\"] = \"FOREIGN\""
   ]
  },
  {
   "cell_type": "markdown",
   "id": "8504401c",
   "metadata": {},
   "source": [
    "### Handle Amount and Time"
   ]
  },
  {
   "cell_type": "code",
   "execution_count": 21,
   "id": "1a5a3687",
   "metadata": {},
   "outputs": [],
   "source": [
    "data['Amount'] = data['Amount'].str.slice(1).astype('float32')\n",
    "data['Hour'] = data['Time'].str.slice(stop=2).astype('int64')\n",
    "data['Minute'] = data['Time'].str.slice(start=3).astype('int64')\n",
    "data.drop(columns=['Time'], inplace=True)"
   ]
  },
  {
   "cell_type": "markdown",
   "id": "27e4b8da",
   "metadata": {},
   "source": [
    "###  Train Test Split"
   ]
  },
  {
   "cell_type": "code",
   "execution_count": 22,
   "id": "9dd8632d",
   "metadata": {},
   "outputs": [],
   "source": [
    "from cuml.model_selection import train_test_split\n",
    "X_train, X_test, y_train, y_test = train_test_split(data, y, test_size=0.3, random_state=SEED, stratify=y)"
   ]
  },
  {
   "cell_type": "code",
   "execution_count": 23,
   "id": "bda19c5f",
   "metadata": {},
   "outputs": [
    {
     "data": {
      "text/plain": [
       "1654"
      ]
     },
     "execution_count": 23,
     "metadata": {},
     "output_type": "execute_result"
    }
   ],
   "source": [
    "# Free up some room on the GPU by explicitly deleting dataframes\n",
    "import gc\n",
    "del data\n",
    "del y\n",
    "gc.collect()"
   ]
  },
  {
   "cell_type": "markdown",
   "id": "1a61fc02",
   "metadata": {},
   "source": [
    "### Encoding Categorical Columns"
   ]
  },
  {
   "cell_type": "code",
   "execution_count": 24,
   "id": "91f4826a",
   "metadata": {},
   "outputs": [],
   "source": [
    "categorial_columns = ['Zip', 'MCC', 'Merchant Name', 'Use Chip', 'Merchant City', 'Merchant State']\n",
    "encoders = {}\n",
    "\n",
    "# handle unknown values present in training data but not in test data\n",
    "for col in categorial_columns:\n",
    "    unique_values = X_train[col].unique().values_host\n",
    "    X_test.loc[~X_test[col].isin(unique_values), col] = 'UNKNOWN'\n",
    "    unique_values = np.append(unique_values, ['UNKNOWN'])\n",
    "    # convert to cudf series\n",
    "    unique_values = cudf.Series(unique_values)\n",
    "    le = LabelEncoder().fit(unique_values)\n",
    "    X_train[col] = le.transform(X_train[col])\n",
    "    X_test[col] = le.transform(X_test[col])\n",
    "    encoders[col] = le.classes_.values_host"
   ]
  },
  {
   "cell_type": "markdown",
   "id": "83f82fe2",
   "metadata": {},
   "source": [
    "### Save Label Encoders to be used for preprocessing at Inference time"
   ]
  },
  {
   "cell_type": "code",
   "execution_count": 25,
   "id": "bc435341",
   "metadata": {},
   "outputs": [],
   "source": [
    "with open('label_encoders.pkl', 'wb') as f:\n",
    "    pickle.dump(encoders, f)"
   ]
  },
  {
   "cell_type": "code",
   "execution_count": 26,
   "id": "828598aa",
   "metadata": {},
   "outputs": [],
   "source": [
    "X_train = X_train.astype('float32')\n",
    "X_test = X_test.astype('float32')"
   ]
  },
  {
   "cell_type": "markdown",
   "id": "234b297c",
   "metadata": {},
   "source": [
    "## Train XGBoost"
   ]
  },
  {
   "cell_type": "code",
   "execution_count": 21,
   "id": "d168359e",
   "metadata": {},
   "outputs": [
    {
     "name": "stdout",
     "output_type": "stream",
     "text": [
      "Training Time 108.20628547668457 seconds\n"
     ]
    }
   ],
   "source": [
    "import xgboost as xgb\n",
    "import time\n",
    "\n",
    "dtrain = xgb.DMatrix(\n",
    "        X_train,\n",
    "        y_train)\n",
    "\n",
    "dtest = xgb.DMatrix(\n",
    "        X_test,\n",
    "        y_test)\n",
    "\n",
    "max_depth = 8\n",
    "num_trees = 2000\n",
    "xgb_params = {\n",
    "    'max_depth':          max_depth,\n",
    "    'tree_method':       'gpu_hist',\n",
    "    'objective':         'binary:logistic',\n",
    "    'eval_metric':       'aucpr',\n",
    "    'predictor':         'gpu_predictor',\n",
    "}\n",
    "start = time.time()\n",
    "model = xgb.train(params=xgb_params, \n",
    "                       dtrain=dtrain, \n",
    "                       num_boost_round=num_trees)\n",
    "print(\"Training Time\", time.time()-start, \"seconds\")"
   ]
  },
  {
   "cell_type": "code",
   "execution_count": 22,
   "id": "43f8923f",
   "metadata": {},
   "outputs": [],
   "source": [
    "y_score = model.predict(dtest)\n",
    "threshold = 0.5\n",
    "y_pred = (y_score >= 0.5).astype(int)"
   ]
  },
  {
   "cell_type": "code",
   "execution_count": 23,
   "id": "98285c5a",
   "metadata": {},
   "outputs": [
    {
     "name": "stdout",
     "output_type": "stream",
     "text": [
      "Test F1-Score:  0.8502\n"
     ]
    }
   ],
   "source": [
    "from sklearn.metrics import f1_score\n",
    "\n",
    "y_true = y_test.values_host\n",
    "f1 = f1_score(y_true, y_pred)\n",
    "print(f'Test F1-Score: {f1: 0.4f}')"
   ]
  },
  {
   "cell_type": "markdown",
   "id": "abcf823c",
   "metadata": {},
   "source": [
    "### Save Trained Model"
   ]
  },
  {
   "cell_type": "code",
   "execution_count": 32,
   "id": "89d7a689",
   "metadata": {},
   "outputs": [],
   "source": [
    "model_path = \"./xgboost.json\""
   ]
  },
  {
   "cell_type": "code",
   "execution_count": 25,
   "id": "3e652c69",
   "metadata": {},
   "outputs": [],
   "source": [
    "# model.save_model(model_path)"
   ]
  },
  {
   "cell_type": "markdown",
   "id": "3c3d48a2",
   "metadata": {},
   "source": [
    "## CPU GPU FIL Benchmarks"
   ]
  },
  {
   "cell_type": "markdown",
   "id": "c5bf7425",
   "metadata": {},
   "source": [
    "**Note:** CPU Predictor can take ~2 minutes."
   ]
  },
  {
   "cell_type": "code",
   "execution_count": null,
   "id": "314c6099",
   "metadata": {},
   "outputs": [],
   "source": [
    "import xgboost as xgb\n",
    "model_path = \"./xgboost.json\"\n",
    "model = xgb.Booster()\n",
    "model.load_model(model_path)"
   ]
  },
  {
   "cell_type": "code",
   "execution_count": null,
   "id": "43f50d17",
   "metadata": {},
   "outputs": [],
   "source": [
    "# %%time\n",
    "# model.set_param({\"predictor\": \"cpu_predictor\"})\n",
    "# cpu_preds = model.predict(dtest)"
   ]
  },
  {
   "cell_type": "code",
   "execution_count": 54,
   "id": "26673927",
   "metadata": {},
   "outputs": [
    {
     "name": "stdout",
     "output_type": "stream",
     "text": [
      "31.2 ms ± 448 µs per loop (mean ± std. dev. of 7 runs, 1 loop each)\n"
     ]
    }
   ],
   "source": [
    "%%timeit\n",
    "model.set_param({\"predictor\": \"gpu_predictor\"})\n",
    "gpu_preds = model.predict(dtrain)"
   ]
  },
  {
   "cell_type": "markdown",
   "id": "c41605bd",
   "metadata": {},
   "source": [
    "###  Prediction using Forest Inference Library (FIL)"
   ]
  },
  {
   "cell_type": "code",
   "execution_count": 58,
   "id": "c001b6a0",
   "metadata": {},
   "outputs": [
    {
     "data": {
      "text/html": [
       "<div>\n",
       "<style scoped>\n",
       "    .dataframe tbody tr th:only-of-type {\n",
       "        vertical-align: middle;\n",
       "    }\n",
       "\n",
       "    .dataframe tbody tr th {\n",
       "        vertical-align: top;\n",
       "    }\n",
       "\n",
       "    .dataframe thead th {\n",
       "        text-align: right;\n",
       "    }\n",
       "</style>\n",
       "<table border=\"1\" class=\"dataframe\">\n",
       "  <thead>\n",
       "    <tr style=\"text-align: right;\">\n",
       "      <th></th>\n",
       "      <th>User</th>\n",
       "      <th>Card</th>\n",
       "      <th>Year</th>\n",
       "      <th>Month</th>\n",
       "      <th>Day</th>\n",
       "      <th>Amount</th>\n",
       "      <th>Use Chip</th>\n",
       "      <th>Merchant Name</th>\n",
       "      <th>Merchant City</th>\n",
       "      <th>Merchant State</th>\n",
       "      <th>Zip</th>\n",
       "      <th>MCC</th>\n",
       "      <th>Errors?</th>\n",
       "      <th>Hour</th>\n",
       "      <th>Minute</th>\n",
       "    </tr>\n",
       "  </thead>\n",
       "  <tbody>\n",
       "    <tr>\n",
       "      <th>2501506</th>\n",
       "      <td>417.0</td>\n",
       "      <td>4.0</td>\n",
       "      <td>2017.0</td>\n",
       "      <td>5.0</td>\n",
       "      <td>31.0</td>\n",
       "      <td>47.189999</td>\n",
       "      <td>2.0</td>\n",
       "      <td>29480.0</td>\n",
       "      <td>9355.0</td>\n",
       "      <td>58.0</td>\n",
       "      <td>7013.0</td>\n",
       "      <td>85.0</td>\n",
       "      <td>0.0</td>\n",
       "      <td>14.0</td>\n",
       "      <td>35.0</td>\n",
       "    </tr>\n",
       "    <tr>\n",
       "      <th>2857440</th>\n",
       "      <td>1795.0</td>\n",
       "      <td>3.0</td>\n",
       "      <td>2020.0</td>\n",
       "      <td>2.0</td>\n",
       "      <td>14.0</td>\n",
       "      <td>240.820007</td>\n",
       "      <td>0.0</td>\n",
       "      <td>62385.0</td>\n",
       "      <td>8593.0</td>\n",
       "      <td>132.0</td>\n",
       "      <td>19868.0</td>\n",
       "      <td>99.0</td>\n",
       "      <td>0.0</td>\n",
       "      <td>13.0</td>\n",
       "      <td>31.0</td>\n",
       "    </tr>\n",
       "    <tr>\n",
       "      <th>4557656</th>\n",
       "      <td>1020.0</td>\n",
       "      <td>1.0</td>\n",
       "      <td>2014.0</td>\n",
       "      <td>3.0</td>\n",
       "      <td>9.0</td>\n",
       "      <td>6.200000</td>\n",
       "      <td>2.0</td>\n",
       "      <td>1252.0</td>\n",
       "      <td>5626.0</td>\n",
       "      <td>109.0</td>\n",
       "      <td>16654.0</td>\n",
       "      <td>57.0</td>\n",
       "      <td>0.0</td>\n",
       "      <td>14.0</td>\n",
       "      <td>14.0</td>\n",
       "    </tr>\n",
       "    <tr>\n",
       "      <th>3537044</th>\n",
       "      <td>101.0</td>\n",
       "      <td>2.0</td>\n",
       "      <td>2006.0</td>\n",
       "      <td>4.0</td>\n",
       "      <td>26.0</td>\n",
       "      <td>0.880000</td>\n",
       "      <td>2.0</td>\n",
       "      <td>24809.0</td>\n",
       "      <td>11929.0</td>\n",
       "      <td>105.0</td>\n",
       "      <td>3163.0</td>\n",
       "      <td>57.0</td>\n",
       "      <td>0.0</td>\n",
       "      <td>8.0</td>\n",
       "      <td>27.0</td>\n",
       "    </tr>\n",
       "    <tr>\n",
       "      <th>7369248</th>\n",
       "      <td>484.0</td>\n",
       "      <td>0.0</td>\n",
       "      <td>2017.0</td>\n",
       "      <td>12.0</td>\n",
       "      <td>10.0</td>\n",
       "      <td>80.000000</td>\n",
       "      <td>0.0</td>\n",
       "      <td>40426.0</td>\n",
       "      <td>12095.0</td>\n",
       "      <td>132.0</td>\n",
       "      <td>19158.0</td>\n",
       "      <td>57.0</td>\n",
       "      <td>0.0</td>\n",
       "      <td>13.0</td>\n",
       "      <td>7.0</td>\n",
       "    </tr>\n",
       "  </tbody>\n",
       "</table>\n",
       "</div>"
      ],
      "text/plain": [
       "           User  Card    Year  Month   Day      Amount  Use Chip  \\\n",
       "2501506   417.0   4.0  2017.0    5.0  31.0   47.189999       2.0   \n",
       "2857440  1795.0   3.0  2020.0    2.0  14.0  240.820007       0.0   \n",
       "4557656  1020.0   1.0  2014.0    3.0   9.0    6.200000       2.0   \n",
       "3537044   101.0   2.0  2006.0    4.0  26.0    0.880000       2.0   \n",
       "7369248   484.0   0.0  2017.0   12.0  10.0   80.000000       0.0   \n",
       "\n",
       "         Merchant Name  Merchant City  Merchant State      Zip   MCC  Errors?  \\\n",
       "2501506        29480.0         9355.0            58.0   7013.0  85.0      0.0   \n",
       "2857440        62385.0         8593.0           132.0  19868.0  99.0      0.0   \n",
       "4557656         1252.0         5626.0           109.0  16654.0  57.0      0.0   \n",
       "3537044        24809.0        11929.0           105.0   3163.0  57.0      0.0   \n",
       "7369248        40426.0        12095.0           132.0  19158.0  57.0      0.0   \n",
       "\n",
       "         Hour  Minute  \n",
       "2501506  14.0    35.0  \n",
       "2857440  13.0    31.0  \n",
       "4557656  14.0    14.0  \n",
       "3537044   8.0    27.0  \n",
       "7369248  13.0     7.0  "
      ]
     },
     "execution_count": 58,
     "metadata": {},
     "output_type": "execute_result"
    }
   ],
   "source": [
    "X_train.head()"
   ]
  },
  {
   "cell_type": "code",
   "execution_count": 55,
   "id": "778b02de",
   "metadata": {},
   "outputs": [],
   "source": [
    "# Call FIL inference from cuml and load model and params\n",
    "fil = cuml.ForestInference.load(\n",
    "      filename=model_path,                                    \n",
    "      output_class=True,    \n",
    "      model_type='xgboost_json')"
   ]
  },
  {
   "cell_type": "code",
   "execution_count": 56,
   "id": "f71d728d",
   "metadata": {},
   "outputs": [
    {
     "name": "stdout",
     "output_type": "stream",
     "text": [
      "4.34 s ± 26.6 ms per loop (mean ± std. dev. of 7 runs, 1 loop each)\n"
     ]
    }
   ],
   "source": [
    "%%timeit\n",
    "fil_preds = fil.predict_proba(X_train)"
   ]
  },
  {
   "cell_type": "code",
   "execution_count": 40,
   "id": "f8e5f1a3",
   "metadata": {},
   "outputs": [],
   "source": [
    "# Call FIL inference from cuml and load model and params\n",
    "fil_naive = cuml.ForestInference.load(\n",
    "      filename=model_path, \n",
    "      algo = 'NAIVE',\n",
    "      output_class=True,    \n",
    "      model_type='xgboost_json')"
   ]
  },
  {
   "cell_type": "code",
   "execution_count": 41,
   "id": "2ad93bc7",
   "metadata": {},
   "outputs": [
    {
     "name": "stdout",
     "output_type": "stream",
     "text": [
      "1.87 s ± 29.9 ms per loop (mean ± std. dev. of 7 runs, 1 loop each)\n"
     ]
    }
   ],
   "source": [
    "%%timeit\n",
    "fil_naive_preds = fil_naive.predict_proba(X_test)"
   ]
  },
  {
   "cell_type": "code",
   "execution_count": 42,
   "id": "5c2791a5",
   "metadata": {},
   "outputs": [],
   "source": [
    "# Call FIL inference from cuml and load model and params\n",
    "fil_treereorg = cuml.ForestInference.load(\n",
    "      filename=model_path, \n",
    "      algo = 'TREE_REORG',\n",
    "      output_class=True,    \n",
    "      model_type='xgboost_json')"
   ]
  },
  {
   "cell_type": "code",
   "execution_count": 43,
   "id": "fc0a3c3c",
   "metadata": {},
   "outputs": [
    {
     "name": "stdout",
     "output_type": "stream",
     "text": [
      "1.87 s ± 24.4 ms per loop (mean ± std. dev. of 7 runs, 1 loop each)\n"
     ]
    }
   ],
   "source": [
    "%%timeit\n",
    "fil_treereorg_preds = fil_treereorg.predict_proba(X_test)"
   ]
  },
  {
   "cell_type": "code",
   "execution_count": 48,
   "id": "1dd337b0",
   "metadata": {},
   "outputs": [],
   "source": [
    "# Call FIL inference from cuml and load model and params\n",
    "fil_batchtreereorg = cuml.ForestInference.load(\n",
    "      filename=model_path, \n",
    "      algo = 'BATCH_TREE_REORG',\n",
    "      output_class=True,    \n",
    "      model_type='xgboost_json')"
   ]
  },
  {
   "cell_type": "code",
   "execution_count": 49,
   "id": "03c6e1dd",
   "metadata": {},
   "outputs": [
    {
     "name": "stdout",
     "output_type": "stream",
     "text": [
      "1.98 s ± 4.52 ms per loop (mean ± std. dev. of 7 runs, 1 loop each)\n"
     ]
    }
   ],
   "source": [
    "%%timeit\n",
    "fil_batchtreereorg_preds = fil_batchtreereorg.predict_proba(X_test)"
   ]
  },
  {
   "cell_type": "code",
   "execution_count": 28,
   "id": "361760b9",
   "metadata": {},
   "outputs": [
    {
     "data": {
      "text/plain": [
       "{'status': 'ok', 'restart': True}"
      ]
     },
     "execution_count": 28,
     "metadata": {},
     "output_type": "execute_result"
    }
   ],
   "source": [
    "import IPython\n",
    "\n",
    "IPython.Application.instance().kernel.do_shutdown(True)"
   ]
  }
 ],
 "metadata": {
  "kernelspec": {
   "display_name": "rapids-2206",
   "language": "python",
   "name": "rapids-2206"
  },
  "language_info": {
   "codemirror_mode": {
    "name": "ipython",
    "version": 3
   },
   "file_extension": ".py",
   "mimetype": "text/x-python",
   "name": "python",
   "nbconvert_exporter": "python",
   "pygments_lexer": "ipython3",
   "version": "3.8.13"
  }
 },
 "nbformat": 4,
 "nbformat_minor": 5
}
