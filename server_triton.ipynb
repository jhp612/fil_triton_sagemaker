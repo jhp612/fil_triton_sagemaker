{
 "cells": [
  {
   "cell_type": "code",
   "execution_count": null,
   "id": "770966e6-798c-4b64-93c2-cf14d58dfca9",
   "metadata": {
    "tags": []
   },
   "outputs": [
    {
     "name": "stdout",
     "output_type": "stream",
     "text": [
      "I0626 05:33:55.583589 3551 pinned_memory_manager.cc:240] Pinned memory pool is created at '0x7fec8e000000' with size 268435456\n",
      "I0626 05:33:55.583870 3551 cuda_memory_manager.cc:105] CUDA memory pool is created on device 0 with size 67108864\n",
      "W0626 05:33:55.585005 3551 model_repository_manager.cc:315] ignore version directory '.ipynb_checkpoints' which fails to convert to integral number\n",
      "I0626 05:33:55.585027 3551 model_repository_manager.cc:1191] loading: preprocessing:1\n",
      "I0626 05:33:55.688259 3551 python.cc:2065] Using Python execution env /workspace/triton-serve-fil/preprocessing/rapids22.06_cuda11.5_py3.8.tar.gz\n",
      "I0626 05:33:55.688504 3551 python.cc:2388] TRITONBACKEND_ModelInstanceInitialize: preprocessing_0 (GPU device 0)\n",
      "I0626 05:34:25.880462 3551 model_repository_manager.cc:1345] successfully loaded 'preprocessing' version 1\n",
      "I0626 05:34:25.880586 3551 server.cc:556] \n",
      "+------------------+------+\n",
      "| Repository Agent | Path |\n",
      "+------------------+------+\n",
      "+------------------+------+\n",
      "\n",
      "I0626 05:34:25.880648 3551 server.cc:583] \n",
      "+---------+---------------------------------+---------------------------------+\n",
      "| Backend | Path                            | Config                          |\n",
      "+---------+---------------------------------+---------------------------------+\n",
      "| python  | /opt/tritonserver/backends/pyth | {\"cmdline\":{\"auto-complete-conf |\n",
      "|         | on/libtriton_python.so          | ig\":\"false\",\"min-compute-capabi |\n",
      "|         |                                 | lity\":\"6.000000\",\"backend-direc |\n",
      "|         |                                 | tory\":\"/opt/tritonserver/backen |\n",
      "|         |                                 | ds\",\"default-max-batch-size\":\"4 |\n",
      "|         |                                 | \"}}                             |\n",
      "|         |                                 |                                 |\n",
      "+---------+---------------------------------+---------------------------------+\n",
      "\n",
      "I0626 05:34:25.880701 3551 server.cc:626] \n",
      "+---------------+---------+--------+\n",
      "| Model         | Version | Status |\n",
      "+---------------+---------+--------+\n",
      "| preprocessing | 1       | READY  |\n",
      "+---------------+---------+--------+\n",
      "\n",
      "I0626 05:34:25.910561 3551 metrics.cc:650] Collecting metrics for GPU 0: NVIDIA RTX A6000\n",
      "I0626 05:34:25.910803 3551 tritonserver.cc:2138] \n",
      "+----------------------------------+------------------------------------------+\n",
      "| Option                           | Value                                    |\n",
      "+----------------------------------+------------------------------------------+\n",
      "| server_id                        | triton                                   |\n",
      "| server_version                   | 2.22.0                                   |\n",
      "| server_extensions                | classification sequence model_repository |\n",
      "|                                  |  model_repository(unload_dependents) sch |\n",
      "|                                  | edule_policy model_configuration system_ |\n",
      "|                                  | shared_memory cuda_shared_memory binary_ |\n",
      "|                                  | tensor_data statistics trace             |\n",
      "| model_repository_path[0]         | /workspace/triton-serve-fil              |\n",
      "| model_control_mode               | MODE_NONE                                |\n",
      "| strict_model_config              | 1                                        |\n",
      "| rate_limit                       | OFF                                      |\n",
      "| pinned_memory_pool_byte_size     | 268435456                                |\n",
      "| cuda_memory_pool_byte_size{0}    | 67108864                                 |\n",
      "| response_cache_byte_size         | 0                                        |\n",
      "| min_supported_compute_capability | 6.0                                      |\n",
      "| strict_readiness                 | 1                                        |\n",
      "| exit_timeout                     | 30                                       |\n",
      "+----------------------------------+------------------------------------------+\n",
      "\n",
      "I0626 05:34:25.911606 3551 grpc_server.cc:4589] Started GRPCInferenceService at 0.0.0.0:8001\n",
      "I0626 05:34:25.911791 3551 http_server.cc:3303] Started HTTPService at 0.0.0.0:8000\n",
      "I0626 05:34:25.952763 3551 http_server.cc:178] Started Metrics Service at 0.0.0.0:8002\n",
      "data is [[b'$45.23']]\n",
      "type of data <class 'numpy.ndarray'>\n",
      "Evertyhing fine\n"
     ]
    }
   ],
   "source": [
    "!tritonserver --model-repository `pwd`/triton-serve-fil "
   ]
  },
  {
   "cell_type": "code",
   "execution_count": null,
   "id": "e96dbb7c-6549-46a1-9e8c-c818963e6e3f",
   "metadata": {},
   "outputs": [],
   "source": []
  }
 ],
 "metadata": {
  "kernelspec": {
   "display_name": "Python 3 (ipykernel)",
   "language": "python",
   "name": "python3"
  },
  "language_info": {
   "codemirror_mode": {
    "name": "ipython",
    "version": 3
   },
   "file_extension": ".py",
   "mimetype": "text/x-python",
   "name": "python",
   "nbconvert_exporter": "python",
   "pygments_lexer": "ipython3",
   "version": "3.8.10"
  }
 },
 "nbformat": 4,
 "nbformat_minor": 5
}
