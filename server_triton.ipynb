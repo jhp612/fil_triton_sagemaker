{
 "cells": [
  {
   "cell_type": "code",
   "execution_count": null,
   "id": "770966e6-798c-4b64-93c2-cf14d58dfca9",
   "metadata": {
    "tags": []
   },
   "outputs": [
    {
     "name": "stdout",
     "output_type": "stream",
     "text": [
      "I0629 19:52:22.364896 800 pinned_memory_manager.cc:240] Pinned memory pool is created at '0x7f9766000000' with size 268435456\n",
      "I0629 19:52:22.365184 800 cuda_memory_manager.cc:105] CUDA memory pool is created on device 0 with size 67108864\n",
      "W0629 19:52:22.366863 800 model_repository_manager.cc:315] ignore version directory '.ipynb_checkpoints' which fails to convert to integral number\n",
      "I0629 19:52:22.366888 800 model_repository_manager.cc:1191] loading: fil:1\n",
      "W0629 19:52:22.467154 800 model_repository_manager.cc:315] ignore version directory '.ipynb_checkpoints' which fails to convert to integral number\n",
      "I0629 19:52:22.467200 800 model_repository_manager.cc:1191] loading: postprocessing:1\n",
      "I0629 19:52:22.479648 800 initialize.hpp:43] TRITONBACKEND_Initialize: fil\n",
      "I0629 19:52:22.479672 800 backend.hpp:47] Triton TRITONBACKEND API version: 1.9\n",
      "I0629 19:52:22.479683 800 backend.hpp:52] 'fil' TRITONBACKEND API version: 1.9\n",
      "I0629 19:52:22.480057 800 model_initialize.hpp:37] TRITONBACKEND_ModelInitialize: fil (version 1)\n",
      "I0629 19:52:22.481781 800 instance_initialize.hpp:46] TRITONBACKEND_ModelInstanceInitialize: fil_0 (GPU device 0)\n",
      "I0629 19:52:22.533500 800 model_repository_manager.cc:1345] successfully loaded 'fil' version 1\n",
      "W0629 19:52:22.567455 800 model_repository_manager.cc:315] ignore version directory '.ipynb_checkpoints' which fails to convert to integral number\n",
      "I0629 19:52:22.567501 800 model_repository_manager.cc:1191] loading: preprocessing:1\n",
      "I0629 19:52:22.569946 800 python.cc:2388] TRITONBACKEND_ModelInstanceInitialize: postprocessing_0 (CPU device 0)\n",
      "I0629 19:52:22.671191 800 model_repository_manager.cc:1345] successfully loaded 'postprocessing' version 1\n",
      "I0629 19:52:22.671569 800 python.cc:2065] Using Python execution env /workspace/triton-serve/preprocessing/rapids22.06_cuda11.5_py3.8.tar.gz\n",
      "I0629 19:52:22.671815 800 python.cc:2388] TRITONBACKEND_ModelInstanceInitialize: preprocessing_0 (CPU device 0)\n",
      "I0629 19:52:51.305734 800 model_repository_manager.cc:1345] successfully loaded 'preprocessing' version 1\n",
      "W0629 19:52:51.306037 800 model_repository_manager.cc:315] ignore version directory '.ipynb_checkpoints' which fails to convert to integral number\n",
      "I0629 19:52:51.306082 800 model_repository_manager.cc:1191] loading: ensemble_preprocess_fil_postprocess:1\n",
      "I0629 19:52:51.450613 800 model_repository_manager.cc:1345] successfully loaded 'ensemble_preprocess_fil_postprocess' version 1\n",
      "I0629 19:52:51.450716 800 server.cc:556] \n",
      "+------------------+------+\n",
      "| Repository Agent | Path |\n",
      "+------------------+------+\n",
      "+------------------+------+\n",
      "\n",
      "I0629 19:52:51.450795 800 server.cc:583] \n",
      "+---------+---------------------------------+---------------------------------+\n",
      "| Backend | Path                            | Config                          |\n",
      "+---------+---------------------------------+---------------------------------+\n",
      "| fil     | /opt/tritonserver/backends/fil/ | {\"cmdline\":{\"auto-complete-conf |\n",
      "|         | libtriton_fil.so                | ig\":\"false\",\"min-compute-capabi |\n",
      "|         |                                 | lity\":\"6.000000\",\"backend-direc |\n",
      "|         |                                 | tory\":\"/opt/tritonserver/backen |\n",
      "|         |                                 | ds\",\"default-max-batch-size\":\"4 |\n",
      "|         |                                 | \"}}                             |\n",
      "|         |                                 |                                 |\n",
      "| python  | /opt/tritonserver/backends/pyth | {\"cmdline\":{\"auto-complete-conf |\n",
      "|         | on/libtriton_python.so          | ig\":\"false\",\"min-compute-capabi |\n",
      "|         |                                 | lity\":\"6.000000\",\"backend-direc |\n",
      "|         |                                 | tory\":\"/opt/tritonserver/backen |\n",
      "|         |                                 | ds\",\"default-max-batch-size\":\"4 |\n",
      "|         |                                 | \"}}                             |\n",
      "|         |                                 |                                 |\n",
      "+---------+---------------------------------+---------------------------------+\n",
      "\n",
      "I0629 19:52:51.450865 800 server.cc:626] \n",
      "+-------------------------------------+---------+--------+\n",
      "| Model                               | Version | Status |\n",
      "+-------------------------------------+---------+--------+\n",
      "| ensemble_preprocess_fil_postprocess | 1       | READY  |\n",
      "| fil                                 | 1       | READY  |\n",
      "| postprocessing                      | 1       | READY  |\n",
      "| preprocessing                       | 1       | READY  |\n",
      "+-------------------------------------+---------+--------+\n",
      "\n",
      "I0629 19:52:51.479546 800 metrics.cc:650] Collecting metrics for GPU 0: NVIDIA RTX A6000\n",
      "I0629 19:52:51.479786 800 tritonserver.cc:2138] \n",
      "+----------------------------------+------------------------------------------+\n",
      "| Option                           | Value                                    |\n",
      "+----------------------------------+------------------------------------------+\n",
      "| server_id                        | triton                                   |\n",
      "| server_version                   | 2.22.0                                   |\n",
      "| server_extensions                | classification sequence model_repository |\n",
      "|                                  |  model_repository(unload_dependents) sch |\n",
      "|                                  | edule_policy model_configuration system_ |\n",
      "|                                  | shared_memory cuda_shared_memory binary_ |\n",
      "|                                  | tensor_data statistics trace             |\n",
      "| model_repository_path[0]         | /workspace/triton-serve                  |\n",
      "| model_control_mode               | MODE_NONE                                |\n",
      "| strict_model_config              | 1                                        |\n",
      "| rate_limit                       | OFF                                      |\n",
      "| pinned_memory_pool_byte_size     | 268435456                                |\n",
      "| cuda_memory_pool_byte_size{0}    | 67108864                                 |\n",
      "| response_cache_byte_size         | 0                                        |\n",
      "| min_supported_compute_capability | 6.0                                      |\n",
      "| strict_readiness                 | 1                                        |\n",
      "| exit_timeout                     | 30                                       |\n",
      "+----------------------------------+------------------------------------------+\n",
      "\n",
      "I0629 19:52:51.480638 800 grpc_server.cc:4589] Started GRPCInferenceService at 0.0.0.0:8001\n",
      "I0629 19:52:51.480821 800 http_server.cc:3303] Started HTTPService at 0.0.0.0:8000\n",
      "I0629 19:52:51.521755 800 http_server.cc:178] Started Metrics Service at 0.0.0.0:8002\n"
     ]
    }
   ],
   "source": [
    "!tritonserver --model-repository `pwd`/triton-serve "
   ]
  },
  {
   "cell_type": "code",
   "execution_count": null,
   "id": "e96dbb7c-6549-46a1-9e8c-c818963e6e3f",
   "metadata": {},
   "outputs": [],
   "source": []
  }
 ],
 "metadata": {
  "kernelspec": {
   "display_name": "Python 3 (ipykernel)",
   "language": "python",
   "name": "python3"
  },
  "language_info": {
   "codemirror_mode": {
    "name": "ipython",
    "version": 3
   },
   "file_extension": ".py",
   "mimetype": "text/x-python",
   "name": "python",
   "nbconvert_exporter": "python",
   "pygments_lexer": "ipython3",
   "version": "3.8.10"
  }
 },
 "nbformat": 4,
 "nbformat_minor": 5
}
