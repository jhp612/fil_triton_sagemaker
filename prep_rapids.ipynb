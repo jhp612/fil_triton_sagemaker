{
 "cells": [
  {
   "cell_type": "code",
   "execution_count": 2,
   "id": "6a411dbb-def5-45b3-92d8-49dd366cf331",
   "metadata": {},
   "outputs": [],
   "source": [
    "# !pip install -q kaggle"
   ]
  },
  {
   "cell_type": "markdown",
   "id": "f95bf87c-c53a-49c6-b9f2-a18789666010",
   "metadata": {},
   "source": [
    "## Get Data"
   ]
  },
  {
   "cell_type": "markdown",
   "id": "13da0832-f57e-4916-a7e6-e1e5746eef74",
   "metadata": {},
   "source": [
    "For this example, we use a [synthetic credit card transactions dataset](https://arxiv.org/abs/1910.03033) available on [Kaggle](https://www.kaggle.com/datasets/ealtman2019/credit-card-transactions). You can either directly download the dataset from this [Kaggle link](https://www.kaggle.com/datasets/ealtman2019/credit-card-transactions) and then upload it to your SageMaker notebook instance. Or you may fetch the data from Kaggle command line client using the following commands.\n",
    "\n",
    "**NOTE:** You will need to make sure that your Kaggle credentials are [available](https://github.com/Kaggle/kaggle-api#api-credentials) either through a kaggle.json file or via environment variables."
   ]
  },
  {
   "cell_type": "code",
   "execution_count": 3,
   "id": "19cf2ede-50a8-4d96-92dd-b7f83aefff19",
   "metadata": {},
   "outputs": [],
   "source": [
    "# !kaggle datasets download -d ealtman2019/credit-card-transactions"
   ]
  },
  {
   "cell_type": "code",
   "execution_count": 4,
   "id": "7a53f17b-478a-4fe9-b0cb-1e5c572f60d8",
   "metadata": {},
   "outputs": [],
   "source": [
    "# !unzip -u credit-card-transactions.zip"
   ]
  },
  {
   "cell_type": "markdown",
   "id": "b9266c45-3fe2-4a3f-9e0d-9ff6963ffc4b",
   "metadata": {},
   "source": [
    "## Data Preprocessing"
   ]
  },
  {
   "cell_type": "code",
   "execution_count": 5,
   "id": "9c20333a-b7e4-4533-814d-28b9d8d7b251",
   "metadata": {},
   "outputs": [],
   "source": [
    "import cudf\n",
    "from cuml.preprocessing import LabelEncoder\n",
    "import numpy as np\n",
    "import pickle\n",
    "import os"
   ]
  },
  {
   "cell_type": "code",
   "execution_count": 6,
   "id": "1fd98fe4-561a-4fc2-a8f4-814ff10f8c53",
   "metadata": {},
   "outputs": [],
   "source": [
    "data_path = './'"
   ]
  },
  {
   "cell_type": "code",
   "execution_count": 7,
   "id": "9587c59a-4392-44c9-84eb-d0c6cf1ebfed",
   "metadata": {},
   "outputs": [],
   "source": [
    "data_csv = 'credit_card_transactions-ibm_v2.csv'"
   ]
  },
  {
   "cell_type": "code",
   "execution_count": 8,
   "id": "93b79386-bd04-437a-a94d-3f581aa0fc44",
   "metadata": {},
   "outputs": [],
   "source": [
    "data = cudf.read_csv(os.path.join(data_path, data_csv))"
   ]
  },
  {
   "cell_type": "code",
   "execution_count": 9,
   "id": "f9f725c1-0b87-4548-8964-476586b44895",
   "metadata": {},
   "outputs": [
    {
     "data": {
      "text/plain": [
       "(24386900, 15)"
      ]
     },
     "execution_count": 9,
     "metadata": {},
     "output_type": "execute_result"
    }
   ],
   "source": [
    "data.shape"
   ]
  },
  {
   "cell_type": "code",
   "execution_count": 10,
   "id": "a36dc958-8c70-4fbc-9abe-7da9bbbe3ae5",
   "metadata": {},
   "outputs": [],
   "source": [
    "data['Zip'] = data['Zip'].astype('object').str.slice(0, -2)\n",
    "data['MCC'] = data['MCC'].astype('object')\n",
    "data[\"Merchant Name\"] = data[\"Merchant Name\"].astype(\"object\")"
   ]
  },
  {
   "cell_type": "code",
   "execution_count": 11,
   "id": "ffc2975e-fbda-4784-a3cd-a3341dfad038",
   "metadata": {},
   "outputs": [],
   "source": [
    "N = 500_000\n",
    "SEED = 42\n",
    "data = data.sample(frac=0.5, random_state=SEED)"
   ]
  },
  {
   "cell_type": "code",
   "execution_count": 12,
   "id": "beac72b7-dbf9-4b46-8de9-523498a57ca4",
   "metadata": {},
   "outputs": [
    {
     "data": {
      "text/plain": [
       "(12193450, 15)"
      ]
     },
     "execution_count": 12,
     "metadata": {},
     "output_type": "execute_result"
    }
   ],
   "source": [
    "data.shape"
   ]
  },
  {
   "cell_type": "markdown",
   "id": "536a500f-c5ab-41ce-b366-affdbcedc738",
   "metadata": {},
   "source": [
    "### Encode labels\n"
   ]
  },
  {
   "cell_type": "code",
   "execution_count": 13,
   "id": "fa2d84d6-5bd9-4a22-81a9-a2ee74fabc20",
   "metadata": {},
   "outputs": [],
   "source": [
    "data[\"Is Fraud?\"] = (data[\"Is Fraud?\"] == \"Yes\").astype(int)"
   ]
  },
  {
   "cell_type": "markdown",
   "id": "0b8b827a-c9ee-4d12-baa8-a5d8ebb9932d",
   "metadata": {},
   "source": [
    "### Handle Missing Values"
   ]
  },
  {
   "cell_type": "code",
   "execution_count": 14,
   "id": "5e47b875-622f-485f-9620-525972784a81",
   "metadata": {},
   "outputs": [
    {
     "data": {
      "text/plain": [
       "User               0.000000\n",
       "Card               0.000000\n",
       "Year               0.000000\n",
       "Month              0.000000\n",
       "Day                0.000000\n",
       "Time               0.000000\n",
       "Amount             0.000000\n",
       "Use Chip           0.000000\n",
       "Merchant Name      0.000000\n",
       "Merchant City      0.000000\n",
       "Merchant State    11.159934\n",
       "Zip               11.804764\n",
       "MCC                0.000000\n",
       "Errors?           98.408834\n",
       "Is Fraud?          0.000000\n",
       "dtype: float64"
      ]
     },
     "execution_count": 14,
     "metadata": {},
     "output_type": "execute_result"
    }
   ],
   "source": [
    "data.isna().sum()/len(data) * 100"
   ]
  },
  {
   "cell_type": "code",
   "execution_count": 15,
   "id": "682fab0d-b661-4f6d-9eac-4fd1e8d8147d",
   "metadata": {},
   "outputs": [],
   "source": [
    "data.loc[data[\"Merchant City\"]==\"ONLINE\", \"Merchant State\"] = \"ONLINE\" \n",
    "data.loc[data[\"Merchant City\"]==\"ONLINE\", \"Zip\"] = \"ONLINE\" "
   ]
  },
  {
   "cell_type": "code",
   "execution_count": 16,
   "id": "6549fa91-e37f-4e44-bd8d-9378de6db55c",
   "metadata": {},
   "outputs": [],
   "source": [
    "data['Errors?'] = data['Errors?'].notna().astype(int)"
   ]
  },
  {
   "cell_type": "code",
   "execution_count": 17,
   "id": "1c85a09d-3fed-487c-a41b-e462d1971b04",
   "metadata": {},
   "outputs": [],
   "source": [
    "us_states_plus_online = ['AK', 'AL', 'AR', 'AZ', 'CA', 'CO', 'CT', 'DC', 'DE', 'FL', 'GA',\n",
    "           'HI', 'IA', 'ID', 'IL', 'IN', 'KS', 'KY', 'LA', 'MA', 'MD', 'ME',\n",
    "           'MI', 'MN', 'MO', 'MS', 'MT', 'NC', 'ND', 'NE', 'NH', 'NJ', 'NM',\n",
    "           'NV', 'NY', 'OH', 'OK', 'OR', 'PA', 'RI', 'SC', 'SD', 'TN', 'TX',\n",
    "           'UT', 'VA', 'VT', 'WA', 'WI', 'WV', 'WY', 'ONLINE']\n",
    "\n",
    "data.loc[~data[\"Merchant State\"].isin(us_states_plus_online), \"Zip\"] = \"FOREIGN\""
   ]
  },
  {
   "cell_type": "markdown",
   "id": "b3e4fe68-0a2e-42e9-b571-446b5dddfaac",
   "metadata": {},
   "source": [
    "### Handle Amount and Time"
   ]
  },
  {
   "cell_type": "code",
   "execution_count": 18,
   "id": "1f3b994b-4668-4ac0-9dd9-a406b7817343",
   "metadata": {},
   "outputs": [],
   "source": [
    "data['Amount'] = data['Amount'].str.slice(1).astype('float32')\n",
    "data['Hour'] = data['Time'].str.slice(stop=2).astype('int64')\n",
    "data['Minute'] = data['Time'].str.slice(start=3).astype('int64')\n",
    "data.drop(columns=['Time'], inplace=True)"
   ]
  },
  {
   "cell_type": "code",
   "execution_count": 19,
   "id": "b2509c3e-0887-45fe-b6e2-428caf67f0b8",
   "metadata": {},
   "outputs": [
    {
     "data": {
      "text/html": [
       "<div>\n",
       "<style scoped>\n",
       "    .dataframe tbody tr th:only-of-type {\n",
       "        vertical-align: middle;\n",
       "    }\n",
       "\n",
       "    .dataframe tbody tr th {\n",
       "        vertical-align: top;\n",
       "    }\n",
       "\n",
       "    .dataframe thead th {\n",
       "        text-align: right;\n",
       "    }\n",
       "</style>\n",
       "<table border=\"1\" class=\"dataframe\">\n",
       "  <thead>\n",
       "    <tr style=\"text-align: right;\">\n",
       "      <th></th>\n",
       "      <th>User</th>\n",
       "      <th>Card</th>\n",
       "      <th>Year</th>\n",
       "      <th>Month</th>\n",
       "      <th>Day</th>\n",
       "      <th>Amount</th>\n",
       "      <th>Use Chip</th>\n",
       "      <th>Merchant Name</th>\n",
       "      <th>Merchant City</th>\n",
       "      <th>Merchant State</th>\n",
       "      <th>Zip</th>\n",
       "      <th>MCC</th>\n",
       "      <th>Errors?</th>\n",
       "      <th>Is Fraud?</th>\n",
       "      <th>Hour</th>\n",
       "      <th>Minute</th>\n",
       "    </tr>\n",
       "  </thead>\n",
       "  <tbody>\n",
       "    <tr>\n",
       "      <th>9528451</th>\n",
       "      <td>808</td>\n",
       "      <td>1</td>\n",
       "      <td>2010</td>\n",
       "      <td>5</td>\n",
       "      <td>12</td>\n",
       "      <td>-87.00</td>\n",
       "      <td>Swipe Transaction</td>\n",
       "      <td>-5162038175624867091</td>\n",
       "      <td>Alpine</td>\n",
       "      <td>UT</td>\n",
       "      <td>84004</td>\n",
       "      <td>5541</td>\n",
       "      <td>0</td>\n",
       "      <td>0</td>\n",
       "      <td>23</td>\n",
       "      <td>34</td>\n",
       "    </tr>\n",
       "    <tr>\n",
       "      <th>19199242</th>\n",
       "      <td>1555</td>\n",
       "      <td>0</td>\n",
       "      <td>2016</td>\n",
       "      <td>11</td>\n",
       "      <td>15</td>\n",
       "      <td>4.37</td>\n",
       "      <td>Chip Transaction</td>\n",
       "      <td>4722913068560264812</td>\n",
       "      <td>Des Moines</td>\n",
       "      <td>IA</td>\n",
       "      <td>50317</td>\n",
       "      <td>5411</td>\n",
       "      <td>0</td>\n",
       "      <td>0</td>\n",
       "      <td>11</td>\n",
       "      <td>19</td>\n",
       "    </tr>\n",
       "    <tr>\n",
       "      <th>18728798</th>\n",
       "      <td>1518</td>\n",
       "      <td>0</td>\n",
       "      <td>2016</td>\n",
       "      <td>5</td>\n",
       "      <td>1</td>\n",
       "      <td>18.85</td>\n",
       "      <td>Chip Transaction</td>\n",
       "      <td>-5162038175624867091</td>\n",
       "      <td>Las Vegas</td>\n",
       "      <td>NV</td>\n",
       "      <td>89118</td>\n",
       "      <td>5541</td>\n",
       "      <td>0</td>\n",
       "      <td>0</td>\n",
       "      <td>18</td>\n",
       "      <td>0</td>\n",
       "    </tr>\n",
       "    <tr>\n",
       "      <th>21451881</th>\n",
       "      <td>1753</td>\n",
       "      <td>4</td>\n",
       "      <td>1997</td>\n",
       "      <td>10</td>\n",
       "      <td>27</td>\n",
       "      <td>19.77</td>\n",
       "      <td>Swipe Transaction</td>\n",
       "      <td>-7146670748125200898</td>\n",
       "      <td>Bellwood</td>\n",
       "      <td>IL</td>\n",
       "      <td>60104</td>\n",
       "      <td>5970</td>\n",
       "      <td>0</td>\n",
       "      <td>0</td>\n",
       "      <td>13</td>\n",
       "      <td>55</td>\n",
       "    </tr>\n",
       "    <tr>\n",
       "      <th>15483620</th>\n",
       "      <td>1261</td>\n",
       "      <td>0</td>\n",
       "      <td>2017</td>\n",
       "      <td>6</td>\n",
       "      <td>27</td>\n",
       "      <td>1.35</td>\n",
       "      <td>Chip Transaction</td>\n",
       "      <td>6666504894937430109</td>\n",
       "      <td>Indianapolis</td>\n",
       "      <td>IN</td>\n",
       "      <td>46256</td>\n",
       "      <td>5499</td>\n",
       "      <td>0</td>\n",
       "      <td>0</td>\n",
       "      <td>6</td>\n",
       "      <td>22</td>\n",
       "    </tr>\n",
       "  </tbody>\n",
       "</table>\n",
       "</div>"
      ],
      "text/plain": [
       "          User  Card  Year  Month  Day  Amount           Use Chip  \\\n",
       "9528451    808     1  2010      5   12  -87.00  Swipe Transaction   \n",
       "19199242  1555     0  2016     11   15    4.37   Chip Transaction   \n",
       "18728798  1518     0  2016      5    1   18.85   Chip Transaction   \n",
       "21451881  1753     4  1997     10   27   19.77  Swipe Transaction   \n",
       "15483620  1261     0  2017      6   27    1.35   Chip Transaction   \n",
       "\n",
       "                 Merchant Name Merchant City Merchant State    Zip   MCC  \\\n",
       "9528451   -5162038175624867091        Alpine             UT  84004  5541   \n",
       "19199242   4722913068560264812    Des Moines             IA  50317  5411   \n",
       "18728798  -5162038175624867091     Las Vegas             NV  89118  5541   \n",
       "21451881  -7146670748125200898      Bellwood             IL  60104  5970   \n",
       "15483620   6666504894937430109  Indianapolis             IN  46256  5499   \n",
       "\n",
       "          Errors?  Is Fraud?  Hour  Minute  \n",
       "9528451         0          0    23      34  \n",
       "19199242        0          0    11      19  \n",
       "18728798        0          0    18       0  \n",
       "21451881        0          0    13      55  \n",
       "15483620        0          0     6      22  "
      ]
     },
     "execution_count": 19,
     "metadata": {},
     "output_type": "execute_result"
    }
   ],
   "source": [
    "data.head()"
   ]
  },
  {
   "cell_type": "markdown",
   "id": "e11dc3e4-4103-4940-bc9f-6f46db498aca",
   "metadata": {},
   "source": [
    "###  Train Test Split"
   ]
  },
  {
   "cell_type": "code",
   "execution_count": 20,
   "id": "48eb67b9-48e4-4c90-8349-f4edcc1ef1b9",
   "metadata": {},
   "outputs": [],
   "source": [
    "X = data.drop(['Is Fraud?'], axis=1)\n",
    "y = data['Is Fraud?']"
   ]
  },
  {
   "cell_type": "code",
   "execution_count": 21,
   "id": "5353c4b4-c5a3-416d-a442-16b51e44a57d",
   "metadata": {},
   "outputs": [],
   "source": [
    "from cuml.model_selection import train_test_split\n",
    "X_train, X_test, y_train, y_test = train_test_split(X=X, y=y, test_size=0.3, random_state=SEED, stratify=y)"
   ]
  },
  {
   "cell_type": "markdown",
   "id": "8d2ec777-f9c6-4b16-8afc-964b396bb420",
   "metadata": {},
   "source": [
    "### Encoding Categorical Columns"
   ]
  },
  {
   "cell_type": "code",
   "execution_count": 22,
   "id": "9e5f8e77-4d05-46f4-a67b-c75f5db528b6",
   "metadata": {},
   "outputs": [],
   "source": [
    "categorial_columns = ['Zip', 'MCC', 'Merchant Name', 'Use Chip', 'Merchant City', 'Merchant State']\n",
    "encoders = {}\n",
    "\n",
    "for col in categorial_columns:\n",
    "    unique_values = X_train[col].unique().values_host\n",
    "    X_test.loc[~X_test[col].isin(unique_values), col] = 'UNKNOWN'\n",
    "    unique_values = np.append(unique_values, ['UNKNOWN'])\n",
    "    le = LabelEncoder().fit(unique_values)\n",
    "    X_train[col] = le.transform(X_train[col])\n",
    "    X_test[col] = le.transform(X_test[col])\n",
    "    encoders[col] = le"
   ]
  },
  {
   "cell_type": "code",
   "execution_count": 23,
   "id": "9f14d707-c23a-4efe-98ab-a37ebd4476b5",
   "metadata": {},
   "outputs": [],
   "source": [
    "with open('label_encoders.pkl', 'wb') as f:\n",
    "    pickle.dump(encoders, f)"
   ]
  },
  {
   "cell_type": "code",
   "execution_count": 24,
   "id": "c736503a-c493-4079-9621-a2047201bcf3",
   "metadata": {},
   "outputs": [
    {
     "data": {
      "text/plain": [
       "0          0\n",
       "1          0\n",
       "2          0\n",
       "3          0\n",
       "4          0\n",
       "          ..\n",
       "8535410    1\n",
       "8535411    1\n",
       "8535412    1\n",
       "8535413    1\n",
       "8535414    1\n",
       "Length: 8535415, dtype: int64"
      ]
     },
     "execution_count": 24,
     "metadata": {},
     "output_type": "execute_result"
    }
   ],
   "source": [
    "y_train"
   ]
  },
  {
   "cell_type": "code",
   "execution_count": 25,
   "id": "a2cab7ee-2d7e-4dd9-ad99-2ebe9338f2b0",
   "metadata": {},
   "outputs": [],
   "source": [
    "X_train = X_train.reset_index(drop=True)\n",
    "X_test = X_test.reset_index(drop=True)"
   ]
  },
  {
   "cell_type": "code",
   "execution_count": 26,
   "id": "b86fc3b3-06f1-4431-92ea-dcce7fd8b91f",
   "metadata": {},
   "outputs": [
    {
     "data": {
      "text/html": [
       "<div>\n",
       "<style scoped>\n",
       "    .dataframe tbody tr th:only-of-type {\n",
       "        vertical-align: middle;\n",
       "    }\n",
       "\n",
       "    .dataframe tbody tr th {\n",
       "        vertical-align: top;\n",
       "    }\n",
       "\n",
       "    .dataframe thead th {\n",
       "        text-align: right;\n",
       "    }\n",
       "</style>\n",
       "<table border=\"1\" class=\"dataframe\">\n",
       "  <thead>\n",
       "    <tr style=\"text-align: right;\">\n",
       "      <th></th>\n",
       "      <th>User</th>\n",
       "      <th>Card</th>\n",
       "      <th>Year</th>\n",
       "      <th>Month</th>\n",
       "      <th>Day</th>\n",
       "      <th>Amount</th>\n",
       "      <th>Use Chip</th>\n",
       "      <th>Merchant Name</th>\n",
       "      <th>Merchant City</th>\n",
       "      <th>Merchant State</th>\n",
       "      <th>Zip</th>\n",
       "      <th>MCC</th>\n",
       "      <th>Errors?</th>\n",
       "      <th>Hour</th>\n",
       "      <th>Minute</th>\n",
       "    </tr>\n",
       "  </thead>\n",
       "  <tbody>\n",
       "    <tr>\n",
       "      <th>0</th>\n",
       "      <td>417</td>\n",
       "      <td>4</td>\n",
       "      <td>2017</td>\n",
       "      <td>5</td>\n",
       "      <td>31</td>\n",
       "      <td>47.189999</td>\n",
       "      <td>2</td>\n",
       "      <td>29480</td>\n",
       "      <td>9355</td>\n",
       "      <td>58</td>\n",
       "      <td>7013</td>\n",
       "      <td>85</td>\n",
       "      <td>0</td>\n",
       "      <td>14</td>\n",
       "      <td>35</td>\n",
       "    </tr>\n",
       "    <tr>\n",
       "      <th>1</th>\n",
       "      <td>1795</td>\n",
       "      <td>3</td>\n",
       "      <td>2020</td>\n",
       "      <td>2</td>\n",
       "      <td>14</td>\n",
       "      <td>240.820007</td>\n",
       "      <td>0</td>\n",
       "      <td>62385</td>\n",
       "      <td>8593</td>\n",
       "      <td>132</td>\n",
       "      <td>19868</td>\n",
       "      <td>99</td>\n",
       "      <td>0</td>\n",
       "      <td>13</td>\n",
       "      <td>31</td>\n",
       "    </tr>\n",
       "    <tr>\n",
       "      <th>2</th>\n",
       "      <td>1020</td>\n",
       "      <td>1</td>\n",
       "      <td>2014</td>\n",
       "      <td>3</td>\n",
       "      <td>9</td>\n",
       "      <td>6.200000</td>\n",
       "      <td>2</td>\n",
       "      <td>1252</td>\n",
       "      <td>5626</td>\n",
       "      <td>109</td>\n",
       "      <td>16654</td>\n",
       "      <td>57</td>\n",
       "      <td>0</td>\n",
       "      <td>14</td>\n",
       "      <td>14</td>\n",
       "    </tr>\n",
       "    <tr>\n",
       "      <th>3</th>\n",
       "      <td>101</td>\n",
       "      <td>2</td>\n",
       "      <td>2006</td>\n",
       "      <td>4</td>\n",
       "      <td>26</td>\n",
       "      <td>0.880000</td>\n",
       "      <td>2</td>\n",
       "      <td>24809</td>\n",
       "      <td>11929</td>\n",
       "      <td>105</td>\n",
       "      <td>3163</td>\n",
       "      <td>57</td>\n",
       "      <td>0</td>\n",
       "      <td>8</td>\n",
       "      <td>27</td>\n",
       "    </tr>\n",
       "    <tr>\n",
       "      <th>4</th>\n",
       "      <td>484</td>\n",
       "      <td>0</td>\n",
       "      <td>2017</td>\n",
       "      <td>12</td>\n",
       "      <td>10</td>\n",
       "      <td>80.000000</td>\n",
       "      <td>0</td>\n",
       "      <td>40426</td>\n",
       "      <td>12095</td>\n",
       "      <td>132</td>\n",
       "      <td>19158</td>\n",
       "      <td>57</td>\n",
       "      <td>0</td>\n",
       "      <td>13</td>\n",
       "      <td>7</td>\n",
       "    </tr>\n",
       "    <tr>\n",
       "      <th>...</th>\n",
       "      <td>...</td>\n",
       "      <td>...</td>\n",
       "      <td>...</td>\n",
       "      <td>...</td>\n",
       "      <td>...</td>\n",
       "      <td>...</td>\n",
       "      <td>...</td>\n",
       "      <td>...</td>\n",
       "      <td>...</td>\n",
       "      <td>...</td>\n",
       "      <td>...</td>\n",
       "      <td>...</td>\n",
       "      <td>...</td>\n",
       "      <td>...</td>\n",
       "      <td>...</td>\n",
       "    </tr>\n",
       "    <tr>\n",
       "      <th>8535410</th>\n",
       "      <td>1327</td>\n",
       "      <td>0</td>\n",
       "      <td>2015</td>\n",
       "      <td>11</td>\n",
       "      <td>18</td>\n",
       "      <td>83.660004</td>\n",
       "      <td>1</td>\n",
       "      <td>25604</td>\n",
       "      <td>8219</td>\n",
       "      <td>145</td>\n",
       "      <td>25785</td>\n",
       "      <td>54</td>\n",
       "      <td>0</td>\n",
       "      <td>11</td>\n",
       "      <td>40</td>\n",
       "    </tr>\n",
       "    <tr>\n",
       "      <th>8535411</th>\n",
       "      <td>1361</td>\n",
       "      <td>0</td>\n",
       "      <td>2010</td>\n",
       "      <td>1</td>\n",
       "      <td>29</td>\n",
       "      <td>86.830002</td>\n",
       "      <td>1</td>\n",
       "      <td>6318</td>\n",
       "      <td>8219</td>\n",
       "      <td>145</td>\n",
       "      <td>25785</td>\n",
       "      <td>55</td>\n",
       "      <td>0</td>\n",
       "      <td>10</td>\n",
       "      <td>12</td>\n",
       "    </tr>\n",
       "    <tr>\n",
       "      <th>8535412</th>\n",
       "      <td>943</td>\n",
       "      <td>1</td>\n",
       "      <td>2019</td>\n",
       "      <td>6</td>\n",
       "      <td>6</td>\n",
       "      <td>93.430000</td>\n",
       "      <td>2</td>\n",
       "      <td>72753</td>\n",
       "      <td>9779</td>\n",
       "      <td>87</td>\n",
       "      <td>25784</td>\n",
       "      <td>55</td>\n",
       "      <td>0</td>\n",
       "      <td>18</td>\n",
       "      <td>58</td>\n",
       "    </tr>\n",
       "    <tr>\n",
       "      <th>8535413</th>\n",
       "      <td>662</td>\n",
       "      <td>1</td>\n",
       "      <td>2013</td>\n",
       "      <td>3</td>\n",
       "      <td>9</td>\n",
       "      <td>194.699997</td>\n",
       "      <td>1</td>\n",
       "      <td>14528</td>\n",
       "      <td>8219</td>\n",
       "      <td>145</td>\n",
       "      <td>25785</td>\n",
       "      <td>43</td>\n",
       "      <td>0</td>\n",
       "      <td>15</td>\n",
       "      <td>5</td>\n",
       "    </tr>\n",
       "    <tr>\n",
       "      <th>8535414</th>\n",
       "      <td>513</td>\n",
       "      <td>1</td>\n",
       "      <td>2008</td>\n",
       "      <td>10</td>\n",
       "      <td>16</td>\n",
       "      <td>629.380005</td>\n",
       "      <td>1</td>\n",
       "      <td>40947</td>\n",
       "      <td>8219</td>\n",
       "      <td>145</td>\n",
       "      <td>25785</td>\n",
       "      <td>53</td>\n",
       "      <td>0</td>\n",
       "      <td>12</td>\n",
       "      <td>29</td>\n",
       "    </tr>\n",
       "  </tbody>\n",
       "</table>\n",
       "<p>8535415 rows × 15 columns</p>\n",
       "</div>"
      ],
      "text/plain": [
       "         User  Card  Year  Month  Day      Amount  Use Chip  Merchant Name  \\\n",
       "0         417     4  2017      5   31   47.189999         2          29480   \n",
       "1        1795     3  2020      2   14  240.820007         0          62385   \n",
       "2        1020     1  2014      3    9    6.200000         2           1252   \n",
       "3         101     2  2006      4   26    0.880000         2          24809   \n",
       "4         484     0  2017     12   10   80.000000         0          40426   \n",
       "...       ...   ...   ...    ...  ...         ...       ...            ...   \n",
       "8535410  1327     0  2015     11   18   83.660004         1          25604   \n",
       "8535411  1361     0  2010      1   29   86.830002         1           6318   \n",
       "8535412   943     1  2019      6    6   93.430000         2          72753   \n",
       "8535413   662     1  2013      3    9  194.699997         1          14528   \n",
       "8535414   513     1  2008     10   16  629.380005         1          40947   \n",
       "\n",
       "         Merchant City  Merchant State    Zip  MCC  Errors?  Hour  Minute  \n",
       "0                 9355              58   7013   85        0    14      35  \n",
       "1                 8593             132  19868   99        0    13      31  \n",
       "2                 5626             109  16654   57        0    14      14  \n",
       "3                11929             105   3163   57        0     8      27  \n",
       "4                12095             132  19158   57        0    13       7  \n",
       "...                ...             ...    ...  ...      ...   ...     ...  \n",
       "8535410           8219             145  25785   54        0    11      40  \n",
       "8535411           8219             145  25785   55        0    10      12  \n",
       "8535412           9779              87  25784   55        0    18      58  \n",
       "8535413           8219             145  25785   43        0    15       5  \n",
       "8535414           8219             145  25785   53        0    12      29  \n",
       "\n",
       "[8535415 rows x 15 columns]"
      ]
     },
     "execution_count": 26,
     "metadata": {},
     "output_type": "execute_result"
    }
   ],
   "source": [
    "X_train"
   ]
  },
  {
   "cell_type": "code",
   "execution_count": 27,
   "id": "d383ef04-d92c-4a6c-b921-3609c96f8999",
   "metadata": {},
   "outputs": [],
   "source": [
    "X_train['label'] = y_train\n",
    "X_test['label'] = y_test"
   ]
  },
  {
   "cell_type": "code",
   "execution_count": 28,
   "id": "9137cde1-b42f-43f0-a1f8-ce3849d77904",
   "metadata": {},
   "outputs": [],
   "source": [
    "X_train.to_parquet('X_train.parquet')\n",
    "X_test.to_parquet('X_test.parquet')"
   ]
  },
  {
   "cell_type": "code",
   "execution_count": 25,
   "id": "6d767eea-59f8-41ad-8b68-0e4952842e69",
   "metadata": {},
   "outputs": [
    {
     "data": {
      "text/plain": [
       "69"
      ]
     },
     "execution_count": 25,
     "metadata": {},
     "output_type": "execute_result"
    }
   ],
   "source": [
    "# Free up some room on the GPU by explicitly deleting dataframes\n",
    "import gc\n",
    "del data\n",
    "gc.collect()"
   ]
  }
 ],
 "metadata": {
  "kernelspec": {
   "display_name": "rapids-2206",
   "language": "python",
   "name": "rapids-2206"
  },
  "language_info": {
   "codemirror_mode": {
    "name": "ipython",
    "version": 3
   },
   "file_extension": ".py",
   "mimetype": "text/x-python",
   "name": "python",
   "nbconvert_exporter": "python",
   "pygments_lexer": "ipython3",
   "version": "3.8.13"
  }
 },
 "nbformat": 4,
 "nbformat_minor": 5
}
