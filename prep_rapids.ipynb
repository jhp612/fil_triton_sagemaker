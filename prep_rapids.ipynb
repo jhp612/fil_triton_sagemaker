{
 "cells": [
  {
   "cell_type": "code",
   "execution_count": 1,
   "id": "6a411dbb-def5-45b3-92d8-49dd366cf331",
   "metadata": {},
   "outputs": [
    {
     "name": "stdout",
     "output_type": "stream",
     "text": [
      "\u001b[33mWARNING: Running pip as the 'root' user can result in broken permissions and conflicting behaviour with the system package manager. It is recommended to use a virtual environment instead: https://pip.pypa.io/warnings/venv\u001b[0m\u001b[33m\n",
      "\u001b[0m"
     ]
    }
   ],
   "source": [
    "!pip install -q kaggle"
   ]
  },
  {
   "cell_type": "markdown",
   "id": "f95bf87c-c53a-49c6-b9f2-a18789666010",
   "metadata": {},
   "source": [
    "## Get Data"
   ]
  },
  {
   "cell_type": "markdown",
   "id": "13da0832-f57e-4916-a7e6-e1e5746eef74",
   "metadata": {},
   "source": [
    "For this example, we use a [synthetic credit card transactions dataset](https://arxiv.org/abs/1910.03033) available on [Kaggle](https://www.kaggle.com/datasets/ealtman2019/credit-card-transactions). You can either directly download the dataset from this [Kaggle link](https://www.kaggle.com/datasets/ealtman2019/credit-card-transactions) and then upload it to your SageMaker notebook instance. Or you may fetch the data from Kaggle command line client using the following commands.\n",
    "\n",
    "**NOTE:** You will need to make sure that your Kaggle credentials are [available](https://github.com/Kaggle/kaggle-api#api-credentials) either through a kaggle.json file or via environment variables."
   ]
  },
  {
   "cell_type": "code",
   "execution_count": 2,
   "id": "19cf2ede-50a8-4d96-92dd-b7f83aefff19",
   "metadata": {},
   "outputs": [
    {
     "name": "stdout",
     "output_type": "stream",
     "text": [
      "Traceback (most recent call last):\n",
      "  File \"/opt/conda/envs/rapids/bin/kaggle\", line 5, in <module>\n",
      "    from kaggle.cli import main\n",
      "  File \"/opt/conda/envs/rapids/lib/python3.8/site-packages/kaggle/__init__.py\", line 23, in <module>\n",
      "    api.authenticate()\n",
      "  File \"/opt/conda/envs/rapids/lib/python3.8/site-packages/kaggle/api/kaggle_api_extended.py\", line 164, in authenticate\n",
      "    raise IOError('Could not find {}. Make sure it\\'s located in'\n",
      "OSError: Could not find kaggle.json. Make sure it's located in /root/.kaggle. Or use the environment method.\n"
     ]
    }
   ],
   "source": [
    "!kaggle datasets download -d ealtman2019/credit-card-transactions"
   ]
  },
  {
   "cell_type": "code",
   "execution_count": 3,
   "id": "7a53f17b-478a-4fe9-b0cb-1e5c572f60d8",
   "metadata": {},
   "outputs": [
    {
     "name": "stdout",
     "output_type": "stream",
     "text": [
      "Archive:  credit-card-transactions.zip\n"
     ]
    }
   ],
   "source": [
    "!unzip -u credit-card-transactions.zip"
   ]
  },
  {
   "cell_type": "markdown",
   "id": "b9266c45-3fe2-4a3f-9e0d-9ff6963ffc4b",
   "metadata": {},
   "source": [
    "## Data Preprocessing"
   ]
  },
  {
   "cell_type": "code",
   "execution_count": 4,
   "id": "9c20333a-b7e4-4533-814d-28b9d8d7b251",
   "metadata": {},
   "outputs": [],
   "source": [
    "import cudf\n",
    "from cuml.preprocessing import LabelEncoder\n",
    "import numpy as np\n",
    "import pickle\n",
    "import os"
   ]
  },
  {
   "cell_type": "code",
   "execution_count": 5,
   "id": "1fd98fe4-561a-4fc2-a8f4-814ff10f8c53",
   "metadata": {},
   "outputs": [],
   "source": [
    "data_path = './'"
   ]
  },
  {
   "cell_type": "code",
   "execution_count": 6,
   "id": "9587c59a-4392-44c9-84eb-d0c6cf1ebfed",
   "metadata": {},
   "outputs": [],
   "source": [
    "data_csv = 'credit_card_transactions-ibm_v2.csv'"
   ]
  },
  {
   "cell_type": "code",
   "execution_count": 7,
   "id": "93b79386-bd04-437a-a94d-3f581aa0fc44",
   "metadata": {},
   "outputs": [],
   "source": [
    "data = cudf.read_csv(os.path.join(data_path, data_csv))"
   ]
  },
  {
   "cell_type": "code",
   "execution_count": 8,
   "id": "f9f725c1-0b87-4548-8964-476586b44895",
   "metadata": {},
   "outputs": [
    {
     "data": {
      "text/plain": [
       "(24386900, 15)"
      ]
     },
     "execution_count": 8,
     "metadata": {},
     "output_type": "execute_result"
    }
   ],
   "source": [
    "data.shape"
   ]
  },
  {
   "cell_type": "code",
   "execution_count": 9,
   "id": "a36dc958-8c70-4fbc-9abe-7da9bbbe3ae5",
   "metadata": {},
   "outputs": [],
   "source": [
    "data['Zip'] = data['Zip'].astype('object').str.slice(0, -2)\n",
    "data['MCC'] = data['MCC'].astype('object')\n",
    "data[\"Merchant Name\"] = data[\"Merchant Name\"].astype(\"object\")"
   ]
  },
  {
   "cell_type": "code",
   "execution_count": 10,
   "id": "ffc2975e-fbda-4784-a3cd-a3341dfad038",
   "metadata": {},
   "outputs": [],
   "source": [
    "SEED = 42\n",
    "data = data.sample(frac=0.6, random_state=SEED)"
   ]
  },
  {
   "cell_type": "code",
   "execution_count": 11,
   "id": "beac72b7-dbf9-4b46-8de9-523498a57ca4",
   "metadata": {},
   "outputs": [
    {
     "data": {
      "text/plain": [
       "(14632140, 15)"
      ]
     },
     "execution_count": 11,
     "metadata": {},
     "output_type": "execute_result"
    }
   ],
   "source": [
    "data.shape"
   ]
  },
  {
   "cell_type": "markdown",
   "id": "536a500f-c5ab-41ce-b366-affdbcedc738",
   "metadata": {},
   "source": [
    "### Encode labels\n"
   ]
  },
  {
   "cell_type": "code",
   "execution_count": 12,
   "id": "fa2d84d6-5bd9-4a22-81a9-a2ee74fabc20",
   "metadata": {},
   "outputs": [],
   "source": [
    "data[\"Is Fraud?\"] = (data[\"Is Fraud?\"] == \"Yes\").astype(int)"
   ]
  },
  {
   "cell_type": "markdown",
   "id": "0b8b827a-c9ee-4d12-baa8-a5d8ebb9932d",
   "metadata": {},
   "source": [
    "### Handle Missing Values"
   ]
  },
  {
   "cell_type": "code",
   "execution_count": 13,
   "id": "5e47b875-622f-485f-9620-525972784a81",
   "metadata": {},
   "outputs": [
    {
     "data": {
      "text/plain": [
       "User               0.000000\n",
       "Card               0.000000\n",
       "Year               0.000000\n",
       "Month              0.000000\n",
       "Day                0.000000\n",
       "Time               0.000000\n",
       "Amount             0.000000\n",
       "Use Chip           0.000000\n",
       "Merchant Name      0.000000\n",
       "Merchant City      0.000000\n",
       "Merchant State    11.160726\n",
       "Zip               11.806721\n",
       "MCC                0.000000\n",
       "Errors?           98.408162\n",
       "Is Fraud?          0.000000\n",
       "dtype: float64"
      ]
     },
     "execution_count": 13,
     "metadata": {},
     "output_type": "execute_result"
    }
   ],
   "source": [
    "data.isna().sum()/len(data) * 100"
   ]
  },
  {
   "cell_type": "code",
   "execution_count": 14,
   "id": "682fab0d-b661-4f6d-9eac-4fd1e8d8147d",
   "metadata": {},
   "outputs": [],
   "source": [
    "data.loc[data[\"Merchant City\"]==\"ONLINE\", \"Merchant State\"] = \"ONLINE\" \n",
    "data.loc[data[\"Merchant City\"]==\"ONLINE\", \"Zip\"] = \"ONLINE\" "
   ]
  },
  {
   "cell_type": "code",
   "execution_count": 15,
   "id": "6549fa91-e37f-4e44-bd8d-9378de6db55c",
   "metadata": {},
   "outputs": [],
   "source": [
    "data['Errors?'] = data['Errors?'].notna().astype(int)"
   ]
  },
  {
   "cell_type": "code",
   "execution_count": 16,
   "id": "1c85a09d-3fed-487c-a41b-e462d1971b04",
   "metadata": {},
   "outputs": [],
   "source": [
    "us_states_plus_online = ['AK', 'AL', 'AR', 'AZ', 'CA', 'CO', 'CT', 'DC', 'DE', 'FL', 'GA',\n",
    "           'HI', 'IA', 'ID', 'IL', 'IN', 'KS', 'KY', 'LA', 'MA', 'MD', 'ME',\n",
    "           'MI', 'MN', 'MO', 'MS', 'MT', 'NC', 'ND', 'NE', 'NH', 'NJ', 'NM',\n",
    "           'NV', 'NY', 'OH', 'OK', 'OR', 'PA', 'RI', 'SC', 'SD', 'TN', 'TX',\n",
    "           'UT', 'VA', 'VT', 'WA', 'WI', 'WV', 'WY', 'ONLINE']\n",
    "\n",
    "data.loc[~data[\"Merchant State\"].isin(us_states_plus_online), \"Zip\"] = \"FOREIGN\""
   ]
  },
  {
   "cell_type": "markdown",
   "id": "b3e4fe68-0a2e-42e9-b571-446b5dddfaac",
   "metadata": {},
   "source": [
    "### Handle Amount and Time"
   ]
  },
  {
   "cell_type": "code",
   "execution_count": 17,
   "id": "1f3b994b-4668-4ac0-9dd9-a406b7817343",
   "metadata": {},
   "outputs": [],
   "source": [
    "data['Amount'] = data['Amount'].str.slice(1).astype('float32')\n",
    "data['Hour'] = data['Time'].str.slice(stop=2).astype('int64')\n",
    "data['Minute'] = data['Time'].str.slice(start=3).astype('int64')\n",
    "data.drop(columns=['Time'], inplace=True)"
   ]
  },
  {
   "cell_type": "code",
   "execution_count": 18,
   "id": "b2509c3e-0887-45fe-b6e2-428caf67f0b8",
   "metadata": {},
   "outputs": [
    {
     "data": {
      "text/html": [
       "<div>\n",
       "<style scoped>\n",
       "    .dataframe tbody tr th:only-of-type {\n",
       "        vertical-align: middle;\n",
       "    }\n",
       "\n",
       "    .dataframe tbody tr th {\n",
       "        vertical-align: top;\n",
       "    }\n",
       "\n",
       "    .dataframe thead th {\n",
       "        text-align: right;\n",
       "    }\n",
       "</style>\n",
       "<table border=\"1\" class=\"dataframe\">\n",
       "  <thead>\n",
       "    <tr style=\"text-align: right;\">\n",
       "      <th></th>\n",
       "      <th>User</th>\n",
       "      <th>Card</th>\n",
       "      <th>Year</th>\n",
       "      <th>Month</th>\n",
       "      <th>Day</th>\n",
       "      <th>Amount</th>\n",
       "      <th>Use Chip</th>\n",
       "      <th>Merchant Name</th>\n",
       "      <th>Merchant City</th>\n",
       "      <th>Merchant State</th>\n",
       "      <th>Zip</th>\n",
       "      <th>MCC</th>\n",
       "      <th>Errors?</th>\n",
       "      <th>Is Fraud?</th>\n",
       "      <th>Hour</th>\n",
       "      <th>Minute</th>\n",
       "    </tr>\n",
       "  </thead>\n",
       "  <tbody>\n",
       "    <tr>\n",
       "      <th>9528451</th>\n",
       "      <td>808</td>\n",
       "      <td>1</td>\n",
       "      <td>2010</td>\n",
       "      <td>5</td>\n",
       "      <td>12</td>\n",
       "      <td>-87.00</td>\n",
       "      <td>Swipe Transaction</td>\n",
       "      <td>-5162038175624867091</td>\n",
       "      <td>Alpine</td>\n",
       "      <td>UT</td>\n",
       "      <td>84004</td>\n",
       "      <td>5541</td>\n",
       "      <td>0</td>\n",
       "      <td>0</td>\n",
       "      <td>23</td>\n",
       "      <td>34</td>\n",
       "    </tr>\n",
       "    <tr>\n",
       "      <th>19199242</th>\n",
       "      <td>1555</td>\n",
       "      <td>0</td>\n",
       "      <td>2016</td>\n",
       "      <td>11</td>\n",
       "      <td>15</td>\n",
       "      <td>4.37</td>\n",
       "      <td>Chip Transaction</td>\n",
       "      <td>4722913068560264812</td>\n",
       "      <td>Des Moines</td>\n",
       "      <td>IA</td>\n",
       "      <td>50317</td>\n",
       "      <td>5411</td>\n",
       "      <td>0</td>\n",
       "      <td>0</td>\n",
       "      <td>11</td>\n",
       "      <td>19</td>\n",
       "    </tr>\n",
       "    <tr>\n",
       "      <th>18728798</th>\n",
       "      <td>1518</td>\n",
       "      <td>0</td>\n",
       "      <td>2016</td>\n",
       "      <td>5</td>\n",
       "      <td>1</td>\n",
       "      <td>18.85</td>\n",
       "      <td>Chip Transaction</td>\n",
       "      <td>-5162038175624867091</td>\n",
       "      <td>Las Vegas</td>\n",
       "      <td>NV</td>\n",
       "      <td>89118</td>\n",
       "      <td>5541</td>\n",
       "      <td>0</td>\n",
       "      <td>0</td>\n",
       "      <td>18</td>\n",
       "      <td>0</td>\n",
       "    </tr>\n",
       "    <tr>\n",
       "      <th>21451881</th>\n",
       "      <td>1753</td>\n",
       "      <td>4</td>\n",
       "      <td>1997</td>\n",
       "      <td>10</td>\n",
       "      <td>27</td>\n",
       "      <td>19.77</td>\n",
       "      <td>Swipe Transaction</td>\n",
       "      <td>-7146670748125200898</td>\n",
       "      <td>Bellwood</td>\n",
       "      <td>IL</td>\n",
       "      <td>60104</td>\n",
       "      <td>5970</td>\n",
       "      <td>0</td>\n",
       "      <td>0</td>\n",
       "      <td>13</td>\n",
       "      <td>55</td>\n",
       "    </tr>\n",
       "    <tr>\n",
       "      <th>15483620</th>\n",
       "      <td>1261</td>\n",
       "      <td>0</td>\n",
       "      <td>2017</td>\n",
       "      <td>6</td>\n",
       "      <td>27</td>\n",
       "      <td>1.35</td>\n",
       "      <td>Chip Transaction</td>\n",
       "      <td>6666504894937430109</td>\n",
       "      <td>Indianapolis</td>\n",
       "      <td>IN</td>\n",
       "      <td>46256</td>\n",
       "      <td>5499</td>\n",
       "      <td>0</td>\n",
       "      <td>0</td>\n",
       "      <td>6</td>\n",
       "      <td>22</td>\n",
       "    </tr>\n",
       "  </tbody>\n",
       "</table>\n",
       "</div>"
      ],
      "text/plain": [
       "          User  Card  Year  Month  Day  Amount           Use Chip  \\\n",
       "9528451    808     1  2010      5   12  -87.00  Swipe Transaction   \n",
       "19199242  1555     0  2016     11   15    4.37   Chip Transaction   \n",
       "18728798  1518     0  2016      5    1   18.85   Chip Transaction   \n",
       "21451881  1753     4  1997     10   27   19.77  Swipe Transaction   \n",
       "15483620  1261     0  2017      6   27    1.35   Chip Transaction   \n",
       "\n",
       "                 Merchant Name Merchant City Merchant State    Zip   MCC  \\\n",
       "9528451   -5162038175624867091        Alpine             UT  84004  5541   \n",
       "19199242   4722913068560264812    Des Moines             IA  50317  5411   \n",
       "18728798  -5162038175624867091     Las Vegas             NV  89118  5541   \n",
       "21451881  -7146670748125200898      Bellwood             IL  60104  5970   \n",
       "15483620   6666504894937430109  Indianapolis             IN  46256  5499   \n",
       "\n",
       "          Errors?  Is Fraud?  Hour  Minute  \n",
       "9528451         0          0    23      34  \n",
       "19199242        0          0    11      19  \n",
       "18728798        0          0    18       0  \n",
       "21451881        0          0    13      55  \n",
       "15483620        0          0     6      22  "
      ]
     },
     "execution_count": 18,
     "metadata": {},
     "output_type": "execute_result"
    }
   ],
   "source": [
    "data.head()"
   ]
  },
  {
   "cell_type": "markdown",
   "id": "e11dc3e4-4103-4940-bc9f-6f46db498aca",
   "metadata": {},
   "source": [
    "###  Train Test Split"
   ]
  },
  {
   "cell_type": "code",
   "execution_count": 19,
   "id": "48eb67b9-48e4-4c90-8349-f4edcc1ef1b9",
   "metadata": {},
   "outputs": [],
   "source": [
    "X = data.drop(['Is Fraud?'], axis=1)\n",
    "y = data['Is Fraud?']"
   ]
  },
  {
   "cell_type": "code",
   "execution_count": 20,
   "id": "5353c4b4-c5a3-416d-a442-16b51e44a57d",
   "metadata": {},
   "outputs": [],
   "source": [
    "from cuml.model_selection import train_test_split\n",
    "X_train, X_test, y_train, y_test = train_test_split(X=X, y=y, test_size=0.3, random_state=SEED, stratify=y)"
   ]
  },
  {
   "cell_type": "code",
   "execution_count": 21,
   "id": "bb313a96-9484-49be-893b-7a386cb6c06c",
   "metadata": {},
   "outputs": [
    {
     "data": {
      "text/plain": [
       "210"
      ]
     },
     "execution_count": 21,
     "metadata": {},
     "output_type": "execute_result"
    }
   ],
   "source": [
    "# Free up some room on the GPU by explicitly deleting dataframes\n",
    "import gc\n",
    "del data\n",
    "gc.collect()"
   ]
  },
  {
   "cell_type": "markdown",
   "id": "8d2ec777-f9c6-4b16-8afc-964b396bb420",
   "metadata": {},
   "source": [
    "### Encoding Categorical Columns"
   ]
  },
  {
   "cell_type": "code",
   "execution_count": 22,
   "id": "9e5f8e77-4d05-46f4-a67b-c75f5db528b6",
   "metadata": {},
   "outputs": [],
   "source": [
    "categorial_columns = ['Zip', 'MCC', 'Merchant Name', 'Use Chip', 'Merchant City', 'Merchant State']\n",
    "encoders = {}\n",
    "\n",
    "for col in categorial_columns:\n",
    "    unique_values = X_train[col].unique().values_host\n",
    "    X_test.loc[~X_test[col].isin(unique_values), col] = 'UNKNOWN'\n",
    "    unique_values = np.append(unique_values, ['UNKNOWN'])\n",
    "    le = LabelEncoder().fit(unique_values)\n",
    "    X_train[col] = le.transform(X_train[col])\n",
    "    X_test[col] = le.transform(X_test[col])\n",
    "    encoders[col] = le"
   ]
  },
  {
   "cell_type": "code",
   "execution_count": 23,
   "id": "9f14d707-c23a-4efe-98ab-a37ebd4476b5",
   "metadata": {},
   "outputs": [],
   "source": [
    "with open('label_encoders.pkl', 'wb') as f:\n",
    "    pickle.dump(encoders, f)"
   ]
  },
  {
   "cell_type": "code",
   "execution_count": 24,
   "id": "10c0d134-aa24-4889-837b-7d131666bdef",
   "metadata": {},
   "outputs": [],
   "source": [
    "X_train = X_train.reset_index(drop=True)\n",
    "X_test = X_test.reset_index(drop=True)"
   ]
  },
  {
   "cell_type": "code",
   "execution_count": 25,
   "id": "d0ef037a-23dd-47fb-8fdc-d7fed7144036",
   "metadata": {},
   "outputs": [
    {
     "data": {
      "text/plain": [
       "User                int64\n",
       "Card                int64\n",
       "Year                int64\n",
       "Month               int64\n",
       "Day                 int64\n",
       "Amount            float32\n",
       "Use Chip            uint8\n",
       "Merchant Name      uint32\n",
       "Merchant City      uint16\n",
       "Merchant State      uint8\n",
       "Zip                uint16\n",
       "MCC                 uint8\n",
       "Errors?             int64\n",
       "Hour                int64\n",
       "Minute              int64\n",
       "dtype: object"
      ]
     },
     "execution_count": 25,
     "metadata": {},
     "output_type": "execute_result"
    }
   ],
   "source": [
    "X_train.dtypes"
   ]
  },
  {
   "cell_type": "code",
   "execution_count": 26,
   "id": "23c0f986-92b5-4485-955c-22d76dcfe9df",
   "metadata": {},
   "outputs": [],
   "source": [
    "X_infer = X_test.loc[:10, :]"
   ]
  },
  {
   "cell_type": "code",
   "execution_count": 27,
   "id": "d08abc9c-80f2-48d5-92db-063b2cd539c6",
   "metadata": {},
   "outputs": [
    {
     "data": {
      "text/html": [
       "<div>\n",
       "<style scoped>\n",
       "    .dataframe tbody tr th:only-of-type {\n",
       "        vertical-align: middle;\n",
       "    }\n",
       "\n",
       "    .dataframe tbody tr th {\n",
       "        vertical-align: top;\n",
       "    }\n",
       "\n",
       "    .dataframe thead th {\n",
       "        text-align: right;\n",
       "    }\n",
       "</style>\n",
       "<table border=\"1\" class=\"dataframe\">\n",
       "  <thead>\n",
       "    <tr style=\"text-align: right;\">\n",
       "      <th></th>\n",
       "      <th>User</th>\n",
       "      <th>Card</th>\n",
       "      <th>Year</th>\n",
       "      <th>Month</th>\n",
       "      <th>Day</th>\n",
       "      <th>Amount</th>\n",
       "      <th>Use Chip</th>\n",
       "      <th>Merchant Name</th>\n",
       "      <th>Merchant City</th>\n",
       "      <th>Merchant State</th>\n",
       "      <th>Zip</th>\n",
       "      <th>MCC</th>\n",
       "      <th>Errors?</th>\n",
       "      <th>Hour</th>\n",
       "      <th>Minute</th>\n",
       "    </tr>\n",
       "  </thead>\n",
       "  <tbody>\n",
       "    <tr>\n",
       "      <th>0</th>\n",
       "      <td>767</td>\n",
       "      <td>0</td>\n",
       "      <td>2012</td>\n",
       "      <td>11</td>\n",
       "      <td>12</td>\n",
       "      <td>25.370001</td>\n",
       "      <td>1</td>\n",
       "      <td>22776</td>\n",
       "      <td>8313</td>\n",
       "      <td>145</td>\n",
       "      <td>26128</td>\n",
       "      <td>35</td>\n",
       "      <td>0</td>\n",
       "      <td>9</td>\n",
       "      <td>15</td>\n",
       "    </tr>\n",
       "    <tr>\n",
       "      <th>1</th>\n",
       "      <td>1676</td>\n",
       "      <td>0</td>\n",
       "      <td>2016</td>\n",
       "      <td>1</td>\n",
       "      <td>2</td>\n",
       "      <td>103.750000</td>\n",
       "      <td>0</td>\n",
       "      <td>61835</td>\n",
       "      <td>5977</td>\n",
       "      <td>28</td>\n",
       "      <td>23436</td>\n",
       "      <td>74</td>\n",
       "      <td>0</td>\n",
       "      <td>5</td>\n",
       "      <td>12</td>\n",
       "    </tr>\n",
       "    <tr>\n",
       "      <th>2</th>\n",
       "      <td>1395</td>\n",
       "      <td>0</td>\n",
       "      <td>2017</td>\n",
       "      <td>5</td>\n",
       "      <td>11</td>\n",
       "      <td>6.700000</td>\n",
       "      <td>0</td>\n",
       "      <td>21061</td>\n",
       "      <td>11313</td>\n",
       "      <td>214</td>\n",
       "      <td>25784</td>\n",
       "      <td>78</td>\n",
       "      <td>0</td>\n",
       "      <td>7</td>\n",
       "      <td>57</td>\n",
       "    </tr>\n",
       "    <tr>\n",
       "      <th>3</th>\n",
       "      <td>1073</td>\n",
       "      <td>1</td>\n",
       "      <td>2010</td>\n",
       "      <td>8</td>\n",
       "      <td>24</td>\n",
       "      <td>2.850000</td>\n",
       "      <td>2</td>\n",
       "      <td>39706</td>\n",
       "      <td>5783</td>\n",
       "      <td>128</td>\n",
       "      <td>4953</td>\n",
       "      <td>56</td>\n",
       "      <td>0</td>\n",
       "      <td>8</td>\n",
       "      <td>5</td>\n",
       "    </tr>\n",
       "    <tr>\n",
       "      <th>4</th>\n",
       "      <td>123</td>\n",
       "      <td>0</td>\n",
       "      <td>2009</td>\n",
       "      <td>12</td>\n",
       "      <td>17</td>\n",
       "      <td>80.779999</td>\n",
       "      <td>2</td>\n",
       "      <td>51879</td>\n",
       "      <td>6749</td>\n",
       "      <td>215</td>\n",
       "      <td>13903</td>\n",
       "      <td>54</td>\n",
       "      <td>0</td>\n",
       "      <td>13</td>\n",
       "      <td>7</td>\n",
       "    </tr>\n",
       "    <tr>\n",
       "      <th>5</th>\n",
       "      <td>1945</td>\n",
       "      <td>2</td>\n",
       "      <td>2014</td>\n",
       "      <td>9</td>\n",
       "      <td>28</td>\n",
       "      <td>21.370001</td>\n",
       "      <td>2</td>\n",
       "      <td>21752</td>\n",
       "      <td>7688</td>\n",
       "      <td>78</td>\n",
       "      <td>16490</td>\n",
       "      <td>95</td>\n",
       "      <td>1</td>\n",
       "      <td>16</td>\n",
       "      <td>32</td>\n",
       "    </tr>\n",
       "    <tr>\n",
       "      <th>6</th>\n",
       "      <td>579</td>\n",
       "      <td>1</td>\n",
       "      <td>2007</td>\n",
       "      <td>9</td>\n",
       "      <td>13</td>\n",
       "      <td>11.400000</td>\n",
       "      <td>2</td>\n",
       "      <td>56561</td>\n",
       "      <td>7771</td>\n",
       "      <td>107</td>\n",
       "      <td>12881</td>\n",
       "      <td>56</td>\n",
       "      <td>0</td>\n",
       "      <td>13</td>\n",
       "      <td>6</td>\n",
       "    </tr>\n",
       "    <tr>\n",
       "      <th>7</th>\n",
       "      <td>413</td>\n",
       "      <td>3</td>\n",
       "      <td>2010</td>\n",
       "      <td>9</td>\n",
       "      <td>7</td>\n",
       "      <td>55.430000</td>\n",
       "      <td>2</td>\n",
       "      <td>8910</td>\n",
       "      <td>3283</td>\n",
       "      <td>214</td>\n",
       "      <td>25904</td>\n",
       "      <td>65</td>\n",
       "      <td>0</td>\n",
       "      <td>7</td>\n",
       "      <td>58</td>\n",
       "    </tr>\n",
       "    <tr>\n",
       "      <th>8</th>\n",
       "      <td>83</td>\n",
       "      <td>0</td>\n",
       "      <td>2016</td>\n",
       "      <td>12</td>\n",
       "      <td>17</td>\n",
       "      <td>10.970000</td>\n",
       "      <td>0</td>\n",
       "      <td>11908</td>\n",
       "      <td>8492</td>\n",
       "      <td>28</td>\n",
       "      <td>23634</td>\n",
       "      <td>56</td>\n",
       "      <td>0</td>\n",
       "      <td>7</td>\n",
       "      <td>36</td>\n",
       "    </tr>\n",
       "    <tr>\n",
       "      <th>9</th>\n",
       "      <td>1748</td>\n",
       "      <td>0</td>\n",
       "      <td>2017</td>\n",
       "      <td>10</td>\n",
       "      <td>16</td>\n",
       "      <td>93.129997</td>\n",
       "      <td>0</td>\n",
       "      <td>56561</td>\n",
       "      <td>2911</td>\n",
       "      <td>189</td>\n",
       "      <td>20578</td>\n",
       "      <td>56</td>\n",
       "      <td>0</td>\n",
       "      <td>0</td>\n",
       "      <td>58</td>\n",
       "    </tr>\n",
       "    <tr>\n",
       "      <th>10</th>\n",
       "      <td>325</td>\n",
       "      <td>0</td>\n",
       "      <td>2013</td>\n",
       "      <td>1</td>\n",
       "      <td>17</td>\n",
       "      <td>54.000000</td>\n",
       "      <td>2</td>\n",
       "      <td>42872</td>\n",
       "      <td>6583</td>\n",
       "      <td>28</td>\n",
       "      <td>23334</td>\n",
       "      <td>57</td>\n",
       "      <td>0</td>\n",
       "      <td>1</td>\n",
       "      <td>58</td>\n",
       "    </tr>\n",
       "  </tbody>\n",
       "</table>\n",
       "</div>"
      ],
      "text/plain": [
       "    User  Card  Year  Month  Day      Amount  Use Chip  Merchant Name  \\\n",
       "0    767     0  2012     11   12   25.370001         1          22776   \n",
       "1   1676     0  2016      1    2  103.750000         0          61835   \n",
       "2   1395     0  2017      5   11    6.700000         0          21061   \n",
       "3   1073     1  2010      8   24    2.850000         2          39706   \n",
       "4    123     0  2009     12   17   80.779999         2          51879   \n",
       "5   1945     2  2014      9   28   21.370001         2          21752   \n",
       "6    579     1  2007      9   13   11.400000         2          56561   \n",
       "7    413     3  2010      9    7   55.430000         2           8910   \n",
       "8     83     0  2016     12   17   10.970000         0          11908   \n",
       "9   1748     0  2017     10   16   93.129997         0          56561   \n",
       "10   325     0  2013      1   17   54.000000         2          42872   \n",
       "\n",
       "    Merchant City  Merchant State    Zip  MCC  Errors?  Hour  Minute  \n",
       "0            8313             145  26128   35        0     9      15  \n",
       "1            5977              28  23436   74        0     5      12  \n",
       "2           11313             214  25784   78        0     7      57  \n",
       "3            5783             128   4953   56        0     8       5  \n",
       "4            6749             215  13903   54        0    13       7  \n",
       "5            7688              78  16490   95        1    16      32  \n",
       "6            7771             107  12881   56        0    13       6  \n",
       "7            3283             214  25904   65        0     7      58  \n",
       "8            8492              28  23634   56        0     7      36  \n",
       "9            2911             189  20578   56        0     0      58  \n",
       "10           6583              28  23334   57        0     1      58  "
      ]
     },
     "execution_count": 27,
     "metadata": {},
     "output_type": "execute_result"
    }
   ],
   "source": [
    "X_infer"
   ]
  },
  {
   "cell_type": "code",
   "execution_count": 28,
   "id": "c0e06e8c-3f87-495e-848a-a3cdd2bde372",
   "metadata": {},
   "outputs": [],
   "source": [
    "X_infer.to_csv(\"X_infer.csv\", index=False)"
   ]
  },
  {
   "cell_type": "code",
   "execution_count": 29,
   "id": "6faefa4a-7ac0-4249-a50c-13a13e6ec4e4",
   "metadata": {},
   "outputs": [
    {
     "data": {
      "text/html": [
       "<div>\n",
       "<style scoped>\n",
       "    .dataframe tbody tr th:only-of-type {\n",
       "        vertical-align: middle;\n",
       "    }\n",
       "\n",
       "    .dataframe tbody tr th {\n",
       "        vertical-align: top;\n",
       "    }\n",
       "\n",
       "    .dataframe thead th {\n",
       "        text-align: right;\n",
       "    }\n",
       "</style>\n",
       "<table border=\"1\" class=\"dataframe\">\n",
       "  <thead>\n",
       "    <tr style=\"text-align: right;\">\n",
       "      <th></th>\n",
       "      <th>User</th>\n",
       "      <th>Card</th>\n",
       "      <th>Year</th>\n",
       "      <th>Month</th>\n",
       "      <th>Day</th>\n",
       "      <th>Amount</th>\n",
       "      <th>Use Chip</th>\n",
       "      <th>Merchant Name</th>\n",
       "      <th>Merchant City</th>\n",
       "      <th>Merchant State</th>\n",
       "      <th>Zip</th>\n",
       "      <th>MCC</th>\n",
       "      <th>Errors?</th>\n",
       "      <th>Hour</th>\n",
       "      <th>Minute</th>\n",
       "    </tr>\n",
       "  </thead>\n",
       "  <tbody>\n",
       "    <tr>\n",
       "      <th>0</th>\n",
       "      <td>767</td>\n",
       "      <td>0</td>\n",
       "      <td>2012</td>\n",
       "      <td>11</td>\n",
       "      <td>12</td>\n",
       "      <td>25.370001</td>\n",
       "      <td>1</td>\n",
       "      <td>22776</td>\n",
       "      <td>8313</td>\n",
       "      <td>145</td>\n",
       "      <td>26128</td>\n",
       "      <td>35</td>\n",
       "      <td>0</td>\n",
       "      <td>9</td>\n",
       "      <td>15</td>\n",
       "    </tr>\n",
       "    <tr>\n",
       "      <th>1</th>\n",
       "      <td>1676</td>\n",
       "      <td>0</td>\n",
       "      <td>2016</td>\n",
       "      <td>1</td>\n",
       "      <td>2</td>\n",
       "      <td>103.750000</td>\n",
       "      <td>0</td>\n",
       "      <td>61835</td>\n",
       "      <td>5977</td>\n",
       "      <td>28</td>\n",
       "      <td>23436</td>\n",
       "      <td>74</td>\n",
       "      <td>0</td>\n",
       "      <td>5</td>\n",
       "      <td>12</td>\n",
       "    </tr>\n",
       "    <tr>\n",
       "      <th>2</th>\n",
       "      <td>1395</td>\n",
       "      <td>0</td>\n",
       "      <td>2017</td>\n",
       "      <td>5</td>\n",
       "      <td>11</td>\n",
       "      <td>6.700000</td>\n",
       "      <td>0</td>\n",
       "      <td>21061</td>\n",
       "      <td>11313</td>\n",
       "      <td>214</td>\n",
       "      <td>25784</td>\n",
       "      <td>78</td>\n",
       "      <td>0</td>\n",
       "      <td>7</td>\n",
       "      <td>57</td>\n",
       "    </tr>\n",
       "    <tr>\n",
       "      <th>3</th>\n",
       "      <td>1073</td>\n",
       "      <td>1</td>\n",
       "      <td>2010</td>\n",
       "      <td>8</td>\n",
       "      <td>24</td>\n",
       "      <td>2.850000</td>\n",
       "      <td>2</td>\n",
       "      <td>39706</td>\n",
       "      <td>5783</td>\n",
       "      <td>128</td>\n",
       "      <td>4953</td>\n",
       "      <td>56</td>\n",
       "      <td>0</td>\n",
       "      <td>8</td>\n",
       "      <td>5</td>\n",
       "    </tr>\n",
       "    <tr>\n",
       "      <th>4</th>\n",
       "      <td>123</td>\n",
       "      <td>0</td>\n",
       "      <td>2009</td>\n",
       "      <td>12</td>\n",
       "      <td>17</td>\n",
       "      <td>80.779999</td>\n",
       "      <td>2</td>\n",
       "      <td>51879</td>\n",
       "      <td>6749</td>\n",
       "      <td>215</td>\n",
       "      <td>13903</td>\n",
       "      <td>54</td>\n",
       "      <td>0</td>\n",
       "      <td>13</td>\n",
       "      <td>7</td>\n",
       "    </tr>\n",
       "  </tbody>\n",
       "</table>\n",
       "</div>"
      ],
      "text/plain": [
       "   User  Card  Year  Month  Day      Amount  Use Chip  Merchant Name  \\\n",
       "0   767     0  2012     11   12   25.370001         1          22776   \n",
       "1  1676     0  2016      1    2  103.750000         0          61835   \n",
       "2  1395     0  2017      5   11    6.700000         0          21061   \n",
       "3  1073     1  2010      8   24    2.850000         2          39706   \n",
       "4   123     0  2009     12   17   80.779999         2          51879   \n",
       "\n",
       "   Merchant City  Merchant State    Zip  MCC  Errors?  Hour  Minute  \n",
       "0           8313             145  26128   35        0     9      15  \n",
       "1           5977              28  23436   74        0     5      12  \n",
       "2          11313             214  25784   78        0     7      57  \n",
       "3           5783             128   4953   56        0     8       5  \n",
       "4           6749             215  13903   54        0    13       7  "
      ]
     },
     "execution_count": 29,
     "metadata": {},
     "output_type": "execute_result"
    }
   ],
   "source": [
    "X_infer.head()"
   ]
  },
  {
   "cell_type": "code",
   "execution_count": 30,
   "id": "d0abce0a-c28c-4596-904a-236e4afefa00",
   "metadata": {},
   "outputs": [],
   "source": [
    "X_train = X_train.astype('float32')\n",
    "X_test = X_test.astype('float32')"
   ]
  },
  {
   "cell_type": "code",
   "execution_count": null,
   "id": "a2cab7ee-2d7e-4dd9-ad99-2ebe9338f2b0",
   "metadata": {},
   "outputs": [],
   "source": []
  },
  {
   "cell_type": "code",
   "execution_count": 31,
   "id": "d383ef04-d92c-4a6c-b921-3609c96f8999",
   "metadata": {},
   "outputs": [],
   "source": [
    "X_train['label'] = y_train\n",
    "X_test['label'] = y_test"
   ]
  },
  {
   "cell_type": "code",
   "execution_count": 32,
   "id": "cace1434-34b8-4f7f-8571-3ce35e8c6361",
   "metadata": {},
   "outputs": [],
   "source": [
    "X_train.to_csv('X_train.csv', index=False)\n",
    "X_test.to_csv('X_test.csv', index=False)"
   ]
  },
  {
   "cell_type": "code",
   "execution_count": 33,
   "id": "9137cde1-b42f-43f0-a1f8-ce3849d77904",
   "metadata": {},
   "outputs": [],
   "source": [
    "X_train.to_parquet('X_train.parquet')\n",
    "X_test.to_parquet('X_test.parquet')"
   ]
  },
  {
   "cell_type": "code",
   "execution_count": 31,
   "id": "6d767eea-59f8-41ad-8b68-0e4952842e69",
   "metadata": {},
   "outputs": [
    {
     "data": {
      "text/plain": [
       "{'status': 'ok', 'restart': True}"
      ]
     },
     "execution_count": 31,
     "metadata": {},
     "output_type": "execute_result"
    }
   ],
   "source": [
    "import IPython\n",
    "\n",
    "IPython.Application.instance().kernel.do_shutdown(True)"
   ]
  },
  {
   "cell_type": "code",
   "execution_count": null,
   "id": "40beb0a3-5d15-4c31-b585-5a8ae0f9b141",
   "metadata": {},
   "outputs": [],
   "source": []
  }
 ],
 "metadata": {
  "kernelspec": {
   "display_name": "Python 3 (ipykernel)",
   "language": "python",
   "name": "python3"
  },
  "language_info": {
   "codemirror_mode": {
    "name": "ipython",
    "version": 3
   },
   "file_extension": ".py",
   "mimetype": "text/x-python",
   "name": "python",
   "nbconvert_exporter": "python",
   "pygments_lexer": "ipython3",
   "version": "3.8.13"
  }
 },
 "nbformat": 4,
 "nbformat_minor": 5
}
